{
 "cells": [
  {
   "cell_type": "markdown",
   "id": "cee28e39-c418-4cf8-9fca-1b36a523e19e",
   "metadata": {},
   "source": [
    "# IMT 547 Project Part I: Data Collection"
   ]
  },
  {
   "cell_type": "markdown",
   "id": "af4b89c2-a251-4d21-9a29-9608106bd1b9",
   "metadata": {},
   "source": [
    "Chesie Yu"
   ]
  },
  {
   "cell_type": "markdown",
   "id": "67dc9f50-e8ab-4d0d-9e40-287c7174f97d",
   "metadata": {},
   "source": [
    "02/24/2024"
   ]
  },
  {
   "cell_type": "markdown",
   "id": "5dc9ab70-2168-4c7c-bfb8-60ce8eddddb8",
   "metadata": {},
   "source": [
    "<style type = \"text/css\">  \n",
    "    body {\n",
    "        font-family: \"Serif\"; \n",
    "        font-size: 12pt;\n",
    "    }\n",
    "    em {\n",
    "        color: #4E7F9E;\n",
    "    }\n",
    "    strong {\n",
    "        color: #436D87;\n",
    "    }\n",
    "    li {\n",
    "        color: #4E7F9E;\n",
    "    }\n",
    "    ul {\n",
    "        color: #4E7F9E;\n",
    "    }\n",
    "    img {\n",
    "        display: block;\n",
    "        margin: auto;\n",
    "    } \n",
    "    .jp-RenderedHTMLCommon a:link { \n",
    "        color: #94C1C9;\n",
    "    }\n",
    "    .jp-RenderedHTMLCommon a:visited { \n",
    "        color: #94C1C9;\n",
    "    }\n",
    "    .jp-RenderedHTMLCommon code {\n",
    "        color: #4E7F9E;\n",
    "    }  \n",
    "    .mark {\n",
    "        color: #B00D00;\n",
    "        background-color: #FFF7B1;\n",
    "    }\n",
    "</style>"
   ]
  },
  {
   "cell_type": "markdown",
   "id": "64483827-86af-4711-b170-09b9ad1617a6",
   "metadata": {},
   "source": [
    "_This notebook outlines the **data collection** process for the **YouTube Gaming Comment Toxicity** project._    \n",
    "\n",
    "**Components**  \n",
    "1. **Authentication & Configuration**: Library setup, logging configuration, and API client initialization.      \n",
    "2. **Utility Functions**: A series of functions designed to streamline the data collection workflow.   \n",
    "3. **Data Collection**: Channel- and keyword-based data collection producing DataFrames containing channel, video, and comment data.  \n",
    "\n",
    "**Functions**   \n",
    "- **`get_channel_info(channel_ids)`**: Fetch channel info for a list of YouTube channels.    \n",
    "- **`get_video_ids(uploads_id, max_videos=30, keywords=\"\")`**: Fetch video IDs (default up to 30) based on given keywords from a upload playlist.  \n",
    "- **`get_video_info(video_ids)`**: Fetch video info from a list of YouTube videos.   \n",
    "- **`get_video_subtitle(video_id)`**: Fetch video subtitle for a given video.  \n",
    "- **`get_video_comments(video_ids, max_comments=100)`**: Fetch comment info (default up to 100) for a list of YouTube videos.  \n",
    "- **`get_youtube_data(channel_ids, max_videos=30, max_comments=100, keywords=“”)`**: Main function. Fetch videos and comments for a list of channels.    \n",
    "\n",
    "**Runtime**  \n",
    "_Approximately 63 minutes._    "
   ]
  },
  {
   "cell_type": "markdown",
   "id": "b8a3b94a-7323-4444-89d8-828775ec8e27",
   "metadata": {},
   "source": [
    "   "
   ]
  },
  {
   "cell_type": "markdown",
   "id": "47be546d-dd79-4977-9603-80b9852553ce",
   "metadata": {},
   "source": [
    "**Data Collection Procedures**  \n",
    "\n",
    "_To support our examination of the impact of game genres on comment toxicity across YouTube gaming channels, we have devised the following data collection approach:_   "
   ]
  },
  {
   "cell_type": "markdown",
   "id": "5efe6bdd-6d60-4dca-b546-1c3b00e2446a",
   "metadata": {},
   "source": [
    "**Step 1: Keyword Selection**   \n",
    "\n",
    "_To **differentiate** action and non-action gaming videos on YouTube, we identified **two sets of keywords** representing popular games in each category._   \n",
    "\n",
    "_The keyword sets are as follows:_    \n",
    "- **Action Games**: {\"call of duty\", \"gta\", \"the last of us\", \"god of war\", \"red dead redemption\", \"assassin's creed\", \"star wars jedi\", \"resident evil\", \"cyberpunk\", \"fallout\", \"tomb raider\", \"elden ring\"}    \n",
    "\n",
    "- **Non-Action Games**: {\"minecraft\", \"pokemon go\", \"just dance\", \"it takes two\", \"uncharted\", \"brawl stars\"}        \n"
   ]
  },
  {
   "cell_type": "markdown",
   "id": "c234564b-661e-48bd-a395-7b8bd201a3e2",
   "metadata": {},
   "source": [
    "**Step 2: Channel Selection**      \n",
    "\n",
    "*From [SocialBook's Top 100 Gaming YouTubers](https://socialbook.io/youtube-channel-rank/top-100-gaming-youtubers), we curated a list of **32 channels** that predominantly create gaming content in **English**.  For each channel, we **manually extracted** the `channel_id` and **assigned the binary labels** `english` and `gamer` in `gamer-100.csv`, ensuring our focus on **English-speaking gaming community**.*  "
   ]
  },
  {
   "cell_type": "markdown",
   "id": "0a1c2f6f-c552-4fd8-afc0-9a6145a63c04",
   "metadata": {},
   "source": [
    "**Step 3: Data Collection**     \n",
    "\n",
    "_Leveraging the **[YouTube Data API](https://developers.google.com/youtube/v3/getting-started)**, we gathered data from **30 videos per category for each channel**, using pre-defined keywords for action and non-action games.  For each video, we extracted the respective features along with the **automatic English subtitle** using **[yt-dlp](https://github.com/yt-dlp/yt-dlp)**.  We then collected the **100 most relevant top-level comments for each video**._  \n",
    "\n",
    "_The sets of features include:_  \n",
    "- **Channel Features**: `[\"channel_id\", \"channel_name\", \"channel_description\", \"channel_country\", \"channel_uploads_id\", \"channel_viewcount\", \"channel_subscribercount\", \"channel_videocount\"]`   \n",
    "\n",
    "- **Video Features**: `[“video_id”, “video_title”, “video_creation_time”, “video_description”, \"video_duration\", “video_tags”, “video_viewcount”, “video_likecount”, \"video_commentcount\", \"video_subtitle_path\", \"video_subtitle\", \"video_live\"]`     \n",
    "\n",
    "- **Comment Features**: `[“comment_id”, “comment_author_id”, “comment_text”, “comment_time”, “comment_likecount”, \"comment_replycount\"]`       "
   ]
  },
  {
   "cell_type": "markdown",
   "id": "6ee59aaa-fd35-4118-b087-47c40496d0df",
   "metadata": {},
   "source": [
    "_The final dataset consists of **136,463 comments** and **1407 unique videos**, encompassing **26 channel, video, and comment features**.  Through analyzing this data, we aim to uncover insights into the dynamics of toxic commenting behaviors within the YouTube gaming communities.  `02-preprocessing.ipynb` will focus on **data cleaning, feature engineering, content labeling, and text preprocessing** for subsequent analysis._    "
   ]
  },
  {
   "cell_type": "markdown",
   "id": "a95ba362-0f1c-4af8-aa43-e1183ef8f28f",
   "metadata": {},
   "source": [
    "  "
   ]
  },
  {
   "cell_type": "markdown",
   "id": "6cd013b3-05f0-406a-ba75-db39658d64da",
   "metadata": {},
   "source": [
    "## 1. Authentication & Configuration"
   ]
  },
  {
   "cell_type": "code",
   "execution_count": 1,
   "id": "70880141-689d-4cf7-9960-9c891db2929c",
   "metadata": {
    "tags": []
   },
   "outputs": [],
   "source": [
    "# The YouTube API key\n",
    "API_KEY = \"\""
   ]
  },
  {
   "cell_type": "code",
   "execution_count": 2,
   "id": "9e9c4bdb-ace4-405d-a462-217ab8995d14",
   "metadata": {
    "tags": []
   },
   "outputs": [],
   "source": [
    "# Install libraries\n",
    "!pip install --upgrade google-api-python-client --quiet"
   ]
  },
  {
   "cell_type": "code",
   "execution_count": 3,
   "id": "35803056-a06b-4a58-93b8-ca4a07a7d3c3",
   "metadata": {
    "tags": []
   },
   "outputs": [],
   "source": [
    "# Import libraries\n",
    "import json\n",
    "import logging\n",
    "import os\n",
    "import time\n",
    "import pandas as pd\n",
    "import googleapiclient\n",
    "from googleapiclient import discovery\n",
    "from googleapiclient.errors import HttpError\n",
    "from yt_dlp import YoutubeDL"
   ]
  },
  {
   "cell_type": "code",
   "execution_count": 4,
   "id": "3513c02e-de24-4e7b-9e89-cd476805b1bf",
   "metadata": {
    "tags": []
   },
   "outputs": [],
   "source": [
    "# Configure logging to file\n",
    "logging.basicConfig(\n",
    "    filename=\"../logs/data.log\",\n",
    "    level=logging.INFO,\n",
    "    format=\"%(asctime)s - %(levelname)s - %(message)s\",\n",
    "    filemode=\"w\"\n",
    ")"
   ]
  },
  {
   "cell_type": "code",
   "execution_count": 5,
   "id": "67408f7e-8ded-4d87-8825-8c69c4d5a449",
   "metadata": {
    "tags": []
   },
   "outputs": [],
   "source": [
    "# Initialize the YouTube API\n",
    "youtube = googleapiclient.discovery.build(\"youtube\", \"v3\", developerKey=API_KEY)"
   ]
  },
  {
   "cell_type": "markdown",
   "id": "fb52d6fc-14e1-4659-8358-560e9a6f6cda",
   "metadata": {},
   "source": [
    "<br>"
   ]
  },
  {
   "cell_type": "markdown",
   "id": "0a7b59f8-6f05-460e-a002-c67ecb748855",
   "metadata": {},
   "source": [
    "## 2. Utility Functions"
   ]
  },
  {
   "cell_type": "code",
   "execution_count": 6,
   "id": "8c94b559-7aa0-4f2a-90c4-fadb887686f9",
   "metadata": {
    "tags": []
   },
   "outputs": [],
   "source": [
    "def get_channel_info(channel_ids):\n",
    "    \"\"\"\n",
    "    Fetch channel info for a list of YouTube channels. \n",
    "    \"\"\"\n",
    "    # Empty list to store channel info\n",
    "    channel_info = []\n",
    "\n",
    "    # Concatenate channel_ids into comma-separated string\n",
    "    channel_ids_str = \",\".join(channel_ids)\n",
    "    \n",
    "    # Call the API to find uploads channel id\n",
    "    # Documentation: https://developers.google.com/youtube/v3/docs/channels/list\n",
    "    request = youtube.channels().list(\n",
    "        part=\"snippet,contentDetails,statistics\",\n",
    "        id=channel_ids_str\n",
    "    )\n",
    "    res = request.execute()\n",
    "\n",
    "    for c in res[\"items\"]:\n",
    "        # Extract relevant channel info\n",
    "        channel_info.append({\n",
    "            \"channel_id\": c[\"id\"],\n",
    "            \"channel_name\": c[\"snippet\"][\"title\"],\n",
    "            \"channel_description\": c[\"snippet\"][\"description\"],\n",
    "            \"channel_country\": c[\"snippet\"].get(\"country\", \"Not specified\"), \n",
    "            \"channel_uploads_id\": c[\"contentDetails\"][\"relatedPlaylists\"][\"uploads\"],\n",
    "            \"channel_viewcount\": c[\"statistics\"][\"viewCount\"],\n",
    "            \"channel_subscribercount\": c[\"statistics\"][\"subscriberCount\"],\n",
    "            \"channel_videocount\": c[\"statistics\"][\"videoCount\"]\n",
    "        })\n",
    "    \n",
    "    return sorted(channel_info, key=lambda x: int(x[\"channel_subscribercount\"]), reverse=True)"
   ]
  },
  {
   "cell_type": "code",
   "execution_count": 7,
   "id": "a8793efc-a45b-446f-ba15-2ce1521d456c",
   "metadata": {
    "tags": []
   },
   "outputs": [],
   "source": [
    "def get_video_ids(uploads_id, max_videos=30, keywords=\"\"):\n",
    "    \"\"\"\n",
    "    Fetch video IDs from a YouTube playlist.\n",
    "    \"\"\"\n",
    "    # Empty list to store video_ids\n",
    "    video_ids = []\n",
    "    page_token = None\n",
    "    \n",
    "    # Loop until we collect enough videos\n",
    "    while len(video_ids) < max_videos: \n",
    "        # Call the API to extract video IDs from playlist\n",
    "        # Documentation: https://developers.google.com/youtube/v3/docs/playlistItems\n",
    "        request = youtube.playlistItems().list(\n",
    "            part=\"snippet\",\n",
    "            playlistId=uploads_id,\n",
    "            pageToken=page_token,\n",
    "            maxResults=50\n",
    "        )\n",
    "        res = request.execute()\n",
    "    \n",
    "        # Store the video ids\n",
    "        for v in res[\"items\"]: \n",
    "            # Check if title contains keywords\n",
    "            # Maybe try stemming/lemmatization if I have the time?\n",
    "            title = v[\"snippet\"][\"title\"].lower()\n",
    "            if any(k.lower() in title for k in keywords):\n",
    "                video_ids.append(v[\"snippet\"][\"resourceId\"][\"videoId\"])\n",
    "\n",
    "            # Exit the loop once the required number of videos is reached\n",
    "            if len(video_ids) >= max_videos:\n",
    "                break \n",
    "    \n",
    "        # Set the token\n",
    "        page_token = res.get(\"nextPageToken\")\n",
    "\n",
    "        # Exit the loop if no token is found\n",
    "        if not page_token: \n",
    "            break\n",
    "    \n",
    "    return video_ids"
   ]
  },
  {
   "cell_type": "code",
   "execution_count": 8,
   "id": "196ed053-e139-4bec-bf8c-fb0903c25b52",
   "metadata": {},
   "outputs": [],
   "source": [
    "def get_video_info(video_ids):\n",
    "    \"\"\"\n",
    "    Fetch video info for a list of YouTube videos.\n",
    "    \"\"\"\n",
    "    # Empty list to store video info\n",
    "    video_info = []\n",
    "\n",
    "    # Concatenate video_ids into comma-separated string\n",
    "    video_ids_str = \",\".join(video_ids)\n",
    "    \n",
    "    # Call the API to extract video info from ids\n",
    "    # Documentation: https://developers.google.com/youtube/v3/docs/videos#resource\n",
    "    request = youtube.videos().list(\n",
    "        part=\"snippet,statistics,contentDetails,liveStreamingDetails\",\n",
    "        id=video_ids_str\n",
    "    )\n",
    "    res = request.execute()\n",
    "        \n",
    "    for v in res[\"items\"]:\n",
    "        # Extract subtitle path and text\n",
    "        video_subtitle_path, video_subtitle = get_video_subtitle(v[\"id\"])\n",
    "        \n",
    "        # Extract relevant video info\n",
    "        video_info.append({\n",
    "            \"channel_id\": v[\"snippet\"][\"channelId\"],\n",
    "            \"video_id\": v[\"id\"],\n",
    "            \"video_title\": v[\"snippet\"][\"title\"],\n",
    "            \"video_creation_time\": v[\"snippet\"][\"publishedAt\"],\n",
    "            \"video_description\": v[\"snippet\"][\"description\"],\n",
    "            \"video_duration\": v[\"contentDetails\"][\"duration\"],\n",
    "            \"video_tags\": v[\"snippet\"].get(\"tags\", []),\n",
    "            \"video_viewcount\": v[\"statistics\"].get(\"viewCount\"),\n",
    "            \"video_likecount\": v[\"statistics\"].get(\"likeCount\"),\n",
    "            \"video_commentcount\": v[\"statistics\"].get(\"commentCount\"),\n",
    "            \"video_subtitle_path\": video_subtitle_path,\n",
    "            \"video_subtitle\": video_subtitle,\n",
    "            \"video_live\": True if \"liveStreamingDetails\" in v else False\n",
    "        })\n",
    "\n",
    "    return video_info"
   ]
  },
  {
   "cell_type": "code",
   "execution_count": 9,
   "id": "45f558ac-dc6b-44aa-9350-18edffde60ab",
   "metadata": {},
   "outputs": [],
   "source": [
    "def get_video_subtitle(video_id):\n",
    "    \"\"\"\n",
    "    Fetch video subtitle for a given video. \n",
    "    \"\"\"\n",
    "    # Directory to save subtitles\n",
    "    subtitle_dir = \"../subtitle\"\n",
    "\n",
    "    # Construct the full URL from video ID\n",
    "    video_url = f\"https://www.youtube.com/watch?v={video_id}\"\n",
    "        \n",
    "    # Define yt-dlp options for downloading subtitles\n",
    "    # Documentation: https://github.com/yt-dlp/yt-dlp/blob/master/yt_dlp/YoutubeDL.py#L183\n",
    "    ydl_opts = {\n",
    "        \"skip_download\": True,  # Skip downloading the video\n",
    "        \"writeautomaticsub\": True,  # Download the automatic subtitle\n",
    "        \"writesubtitles\": True,  # Download the subtitle\n",
    "        \"subtitleslangs\": [\"en\"],  # Specify the languauge to download \n",
    "        \"subtitlesformat\": \"json3\",  # Define the format for subtitle\n",
    "        \"outtmpl\": f\"{subtitle_dir}/{video_id}.%(ext)s\",  # Specify the output names\n",
    "        \"quiet\": True,\n",
    "        \"no_warnings\": True\n",
    "    }\n",
    "    \n",
    "    # Initialize return values\n",
    "    video_subtitle_path, video_subtitle = None, None\n",
    "\n",
    "    try: \n",
    "        # Download the subtitle\n",
    "        with YoutubeDL(ydl_opts) as ydl:\n",
    "            ydl.download([video_url])\n",
    "            \n",
    "        # Check if the subtitle file exists\n",
    "        if os.path.exists(f\"{subtitle_dir}/{video_id}.en.json3\"):\n",
    "            video_subtitle_path = f\"{subtitle_dir}/{video_id}.en.json3\"\n",
    "            logging.info(f\"Downloaded subtitles for video {video_id}\")\n",
    "\n",
    "            # Open the subtitle file\n",
    "            with open(video_subtitle_path, \"r\") as file:\n",
    "                subtitle = json.load(file)\n",
    "\n",
    "            # Concatenate the subtitle text\n",
    "            video_subtitle = \"\"\n",
    "            for event in subtitle[\"events\"]:\n",
    "                if \"segs\" in event:\n",
    "                    for seg in event[\"segs\"]:\n",
    "                        video_subtitle += seg[\"utf8\"] + \" \"\n",
    "\n",
    "            # Clean up the subtitle text\n",
    "            video_subtitle = \" \".join(video_subtitle.split()).replace(\"\\n\", \" \")\n",
    "    \n",
    "        else: \n",
    "            # Subtitle not found\n",
    "            logging.warning(f\"No subtitles found for video {video_id}\")\n",
    "        \n",
    "    # Exception handling\n",
    "    except Exception as e:\n",
    "        logging.error(f\"Error downloading subtitles for video {video_id}: {e}\")\n",
    "    \n",
    "    return video_subtitle_path, video_subtitle"
   ]
  },
  {
   "cell_type": "code",
   "execution_count": 10,
   "id": "25af6400-593c-4805-91c2-98c04fd854c5",
   "metadata": {
    "tags": []
   },
   "outputs": [],
   "source": [
    "def get_comment_info(video_ids, max_comments=100):\n",
    "    \"\"\"\n",
    "    Fetch comments (up to max_comments) for a list of videos.\n",
    "    \"\"\"\n",
    "    # Empty list to store the comments\n",
    "    comment_info = []\n",
    "\n",
    "    # Loop through the video ids\n",
    "    for vid in video_ids:\n",
    "        page_token = None \n",
    "        \n",
    "        # Empty list to store individual video comments\n",
    "        video_comment_info = []\n",
    "        \n",
    "        while len(video_comment_info) < max_comments:\n",
    "            try:\n",
    "                # Call the API to extract comments for videos\n",
    "                # Documentation: https://developers.google.com/youtube/v3/docs/commentThreads/list\n",
    "                request = youtube.commentThreads().list(\n",
    "                    videoId=vid,\n",
    "                    part=\"id, snippet, replies\",\n",
    "                    textFormat=\"plainText\",\n",
    "                    order=\"relevance\",\n",
    "                    maxResults=100,\n",
    "                    pageToken=page_token\n",
    "                )\n",
    "                res = request.execute()\n",
    "\n",
    "                # Extract relevant comment info\n",
    "                for c in res[\"items\"]:\n",
    "                    video_comment_info.append({\n",
    "                        \"video_id\": c[\"snippet\"][\"videoId\"],\n",
    "                        \"comment_id\": c[\"snippet\"][\"topLevelComment\"][\"id\"],\n",
    "                        \"comment_author_id\": c[\"snippet\"][\"topLevelComment\"][\"snippet\"][\"authorChannelId\"][\"value\"],\n",
    "                        \"comment_text\": c[\"snippet\"][\"topLevelComment\"][\"snippet\"][\"textOriginal\"],\n",
    "                        \"comment_time\": c[\"snippet\"][\"topLevelComment\"][\"snippet\"][\"updatedAt\"],\n",
    "                        \"comment_likecount\": c[\"snippet\"][\"topLevelComment\"][\"snippet\"][\"likeCount\"],\n",
    "                        \"comment_replycount\": c[\"snippet\"][\"totalReplyCount\"]\n",
    "                    })\n",
    "                    \n",
    "                    # Exit the loop once the required number of comments is reached\n",
    "                    if len(video_comment_info) >= max_comments:\n",
    "                        break\n",
    "\n",
    "                # Set the token\n",
    "                page_token = res.get(\"nextPageToken\")\n",
    "\n",
    "                # Exit the loop if no token is found\n",
    "                if not page_token: \n",
    "                    break\n",
    "\n",
    "            # Error handling for commentsDisabled\n",
    "            except HttpError as e:\n",
    "                if e.resp.status == 403 and \"commentsDisabled\" in str(e):\n",
    "                    logging.warning(f\"Comments are disabled for video {vid}.\")\n",
    "                else:\n",
    "                    logging.error(f\"Error extracting comments for video {vid}: {e}\")\n",
    "                break \n",
    "        \n",
    "        # Log the number of comments extracted for the video\n",
    "        logging.info(f\"Extracted {len(video_comment_info)} comments for Video {vid}.\")\n",
    "    \n",
    "        # Extend the comment info\n",
    "        comment_info.extend(video_comment_info)\n",
    "    \n",
    "    return comment_info"
   ]
  },
  {
   "cell_type": "markdown",
   "id": "515eb9ba-a7ba-4aac-a448-cf2b50ed2993",
   "metadata": {},
   "source": [
    "  "
   ]
  },
  {
   "cell_type": "markdown",
   "id": "28956210-2e5f-492f-a559-59e7db75e811",
   "metadata": {},
   "source": [
    "### Main Function"
   ]
  },
  {
   "cell_type": "code",
   "execution_count": 11,
   "id": "2afd25e2-1317-4868-9070-db3eedb0705c",
   "metadata": {
    "tags": []
   },
   "outputs": [],
   "source": [
    "def get_youtube_data(channel_ids, max_videos=30, max_comments=100, keywords=\"\"):\n",
    "    \"\"\"\n",
    "    Fetch videos and comments for a list of channels.\n",
    "    \"\"\"\n",
    "    # Start timing\n",
    "    start_time = time.time()\n",
    "\n",
    "    # Get channel info for given list of channels\n",
    "    all_channel_info = get_channel_info(channel_ids)\n",
    "    \n",
    "    # Empty list to store video and comment info\n",
    "    all_video_info = []\n",
    "    all_comment_info = []\n",
    "    \n",
    "    for channel in all_channel_info:\n",
    "        uploads_id = channel[\"channel_uploads_id\"]\n",
    "        channel_name = channel[\"channel_name\"]\n",
    "        logging.info(f\"Processing channel: {channel_name}\")\n",
    "\n",
    "        try:\n",
    "            channel_start_time = time.time()\n",
    "\n",
    "            # Get video ids from uploads playlist id\n",
    "            video_ids = get_video_ids(uploads_id, max_videos, keywords)\n",
    "            logging.info(f\"Number of Videos Extracted: {len(video_ids)}\")\n",
    "\n",
    "            # Get video info from videos ids\n",
    "            video_info = get_video_info(video_ids)\n",
    "            all_video_info.extend(video_info)\n",
    "\n",
    "            # Get comments for each video\n",
    "            comment_info = get_comment_info(video_ids, max_comments)\n",
    "            all_comment_info.extend(comment_info)\n",
    "            logging.info(f\"Number of Comments Extracted: {len(comment_info)}\")\n",
    "            logging.info(f\"Runtime: {time.time() - channel_start_time:.4f} seconds\\n\")\n",
    "        \n",
    "        # Http errors\n",
    "        except HttpError as e:\n",
    "            logging.error(f\"HttpError processing channel {channel_name}: {e}\")\n",
    "        # Timeout errors\n",
    "        except TimeoutError:\n",
    "            logging.error(f\"TimeoutError for text #{index} with key '{current_key}' on attempt {attempt + 1}. Retrying with exponential backoff.\")\n",
    "        # Unexpected errors\n",
    "        except Exception as e:\n",
    "            logging.error(f\"Unexpected error processing channel {channel_name}: {e}\")\n",
    "            \n",
    "    # Convert to DataFrames\n",
    "    channel = pd.DataFrame(all_channel_info)\n",
    "    video = pd.DataFrame(all_video_info)\n",
    "    comment = pd.DataFrame(all_comment_info)\n",
    "\n",
    "    # Merge channel, video, and comments information\n",
    "    channel_videos = pd.merge(channel, video.drop(columns=[\"video_subtitle\"]), on=\"channel_id\", how=\"left\")\n",
    "    yt = pd.merge(channel_videos, comment, on=\"video_id\", how=\"inner\")\n",
    "\n",
    "    # End timing\n",
    "    logging.info(f\"Total Runtime: {time.time() - start_time:.4f} seconds\\n\")\n",
    "    \n",
    "    return channel, video, comment, yt"
   ]
  },
  {
   "cell_type": "markdown",
   "id": "d192c9e9-2942-4fb2-94f3-dea75b3c0666",
   "metadata": {},
   "source": [
    "<br>"
   ]
  },
  {
   "cell_type": "markdown",
   "id": "32ede3ec-7d41-4142-a11f-a351998434c7",
   "metadata": {},
   "source": [
    "## 3. Data Collection"
   ]
  },
  {
   "cell_type": "code",
   "execution_count": 12,
   "id": "55e32984-073a-4cb4-8751-8bc9627721d6",
   "metadata": {},
   "outputs": [],
   "source": [
    "# Set the parameters\n",
    "max_videos = 30\n",
    "max_comments = 100\n",
    "\n",
    "# Select the keywords\n",
    "action_keywords = [\n",
    "    \"call of duty\", \"gta\", \"the last of us\", \"god of war\", \"cyberpunk\", \n",
    "    \"red dead redemption\", \"fallout\", \"elden ring\", \n",
    "    \"assassin's creed\", \"star wars jedi\", \"resident evil\", \"tomb raider\" \n",
    "]\n",
    "\n",
    "nonaction_keywords = [\n",
    "    \"minecraft\", \"pokemon go\", \"just dance\", \"it takes two\", \"uncharted\",\n",
    "    \"brawl stars\"\n",
    "]"
   ]
  },
  {
   "cell_type": "code",
   "execution_count": 13,
   "id": "5bb69e7f-44e2-49b7-b920-bdb3ddb1ef24",
   "metadata": {
    "tags": []
   },
   "outputs": [
    {
     "data": {
      "text/html": [
       "<div>\n",
       "<style scoped>\n",
       "    .dataframe tbody tr th:only-of-type {\n",
       "        vertical-align: middle;\n",
       "    }\n",
       "\n",
       "    .dataframe tbody tr th {\n",
       "        vertical-align: top;\n",
       "    }\n",
       "\n",
       "    .dataframe thead th {\n",
       "        text-align: right;\n",
       "    }\n",
       "</style>\n",
       "<table border=\"1\" class=\"dataframe\">\n",
       "  <thead>\n",
       "    <tr style=\"text-align: right;\">\n",
       "      <th></th>\n",
       "      <th>channel</th>\n",
       "      <th>channel_id</th>\n",
       "      <th>english</th>\n",
       "      <th>gamer</th>\n",
       "      <th>influence_score</th>\n",
       "      <th>followers</th>\n",
       "      <th>avg_views</th>\n",
       "      <th>posts</th>\n",
       "      <th>eng_rate_60_day</th>\n",
       "      <th>new_video_avg_views</th>\n",
       "      <th>total_views</th>\n",
       "      <th>country</th>\n",
       "    </tr>\n",
       "  </thead>\n",
       "  <tbody>\n",
       "    <tr>\n",
       "      <th>0</th>\n",
       "      <td>PewDiePie</td>\n",
       "      <td>UC-lHJZR3Gqxm24_Vd_AJ5Yw</td>\n",
       "      <td>1.0</td>\n",
       "      <td>1</td>\n",
       "      <td>88</td>\n",
       "      <td>111.0m</td>\n",
       "      <td>7.6m</td>\n",
       "      <td>4.8k</td>\n",
       "      <td>2.80%</td>\n",
       "      <td>2.6m</td>\n",
       "      <td>29.2b</td>\n",
       "      <td>Japan</td>\n",
       "    </tr>\n",
       "    <tr>\n",
       "      <th>1</th>\n",
       "      <td>A4</td>\n",
       "      <td>UC2tsySbe9TNrI-xh2lximHA</td>\n",
       "      <td>0.0</td>\n",
       "      <td>1</td>\n",
       "      <td>61</td>\n",
       "      <td>51.3m</td>\n",
       "      <td>20.8m</td>\n",
       "      <td>868</td>\n",
       "      <td>21.90%</td>\n",
       "      <td>10.1m</td>\n",
       "      <td>26.6b</td>\n",
       "      <td>Belarus</td>\n",
       "    </tr>\n",
       "    <tr>\n",
       "      <th>2</th>\n",
       "      <td>JuegaGerman</td>\n",
       "      <td>UCYiGq8XF7YQD00x7wAd62Zg</td>\n",
       "      <td>0.0</td>\n",
       "      <td>1</td>\n",
       "      <td>82</td>\n",
       "      <td>49.3m</td>\n",
       "      <td>5.3m</td>\n",
       "      <td>2.1k</td>\n",
       "      <td>3.00%</td>\n",
       "      <td>1.1m</td>\n",
       "      <td>15.1b</td>\n",
       "      <td>Chile</td>\n",
       "    </tr>\n",
       "    <tr>\n",
       "      <th>3</th>\n",
       "      <td>Mikecrack</td>\n",
       "      <td>UCqJ5zFEED1hWs0KNQCQuYdQ</td>\n",
       "      <td>0.0</td>\n",
       "      <td>1</td>\n",
       "      <td>59</td>\n",
       "      <td>47.7m</td>\n",
       "      <td>9.3m</td>\n",
       "      <td>2.0k</td>\n",
       "      <td>5.10%</td>\n",
       "      <td>2.1m</td>\n",
       "      <td>17.8b</td>\n",
       "      <td>Spain</td>\n",
       "    </tr>\n",
       "    <tr>\n",
       "      <th>4</th>\n",
       "      <td>Fernanfloo</td>\n",
       "      <td>UCV4xOVpbcV8SdueDCOxLXtQ</td>\n",
       "      <td>0.0</td>\n",
       "      <td>1</td>\n",
       "      <td>82</td>\n",
       "      <td>46.9m</td>\n",
       "      <td>30.8m</td>\n",
       "      <td>544</td>\n",
       "      <td>4.00%</td>\n",
       "      <td>0</td>\n",
       "      <td>10.5b</td>\n",
       "      <td>El Salvador</td>\n",
       "    </tr>\n",
       "  </tbody>\n",
       "</table>\n",
       "</div>"
      ],
      "text/plain": [
       "       channel                channel_id  english  gamer  influence_score  \\\n",
       "0    PewDiePie  UC-lHJZR3Gqxm24_Vd_AJ5Yw      1.0      1               88   \n",
       "1           A4  UC2tsySbe9TNrI-xh2lximHA      0.0      1               61   \n",
       "2  JuegaGerman  UCYiGq8XF7YQD00x7wAd62Zg      0.0      1               82   \n",
       "3    Mikecrack  UCqJ5zFEED1hWs0KNQCQuYdQ      0.0      1               59   \n",
       "4   Fernanfloo  UCV4xOVpbcV8SdueDCOxLXtQ      0.0      1               82   \n",
       "\n",
       "  followers avg_views posts eng_rate_60_day new_video_avg_views total_views  \\\n",
       "0    111.0m      7.6m  4.8k           2.80%                2.6m       29.2b   \n",
       "1     51.3m     20.8m   868          21.90%               10.1m       26.6b   \n",
       "2     49.3m      5.3m  2.1k           3.00%                1.1m       15.1b   \n",
       "3     47.7m      9.3m  2.0k           5.10%                2.1m       17.8b   \n",
       "4     46.9m     30.8m   544           4.00%                   0       10.5b   \n",
       "\n",
       "       country  \n",
       "0        Japan  \n",
       "1      Belarus  \n",
       "2        Chile  \n",
       "3        Spain  \n",
       "4  El Salvador  "
      ]
     },
     "execution_count": 13,
     "metadata": {},
     "output_type": "execute_result"
    }
   ],
   "source": [
    "# Load the data\n",
    "gamers = pd.read_csv(\"../data/gamer-100.csv\")\n",
    "gamers.head()"
   ]
  },
  {
   "cell_type": "code",
   "execution_count": 14,
   "id": "9e4db80f-1942-4166-a012-3d6bc03e5006",
   "metadata": {
    "tags": []
   },
   "outputs": [
    {
     "data": {
      "text/plain": [
       "32"
      ]
     },
     "execution_count": 14,
     "metadata": {},
     "output_type": "execute_result"
    }
   ],
   "source": [
    "# Filter the English-speaking gamer channels\n",
    "filtered_channels = gamers[(gamers[\"english\"] == 1) & (gamers[\"gamer\"] == 1)]\n",
    "\n",
    "# Select the channels\n",
    "channel_ids = filtered_channels[\"channel_id\"].tolist()\n",
    "len(channel_ids)"
   ]
  },
  {
   "cell_type": "markdown",
   "id": "5750313f-04d4-4530-a889-4e357afa1da2",
   "metadata": {},
   "source": [
    "  "
   ]
  },
  {
   "cell_type": "markdown",
   "id": "6b1c7d5e-9f83-47ce-92df-29c779106759",
   "metadata": {},
   "source": [
    "### Action Gaming Videos"
   ]
  },
  {
   "cell_type": "code",
   "execution_count": 15,
   "id": "b8f620c2-c8ce-4b9b-9d04-54535cbca5aa",
   "metadata": {},
   "outputs": [
    {
     "name": "stdout",
     "output_type": "stream",
     "text": [
      "                                                         \r"
     ]
    },
    {
     "data": {
      "text/html": [
       "<div>\n",
       "<style scoped>\n",
       "    .dataframe tbody tr th:only-of-type {\n",
       "        vertical-align: middle;\n",
       "    }\n",
       "\n",
       "    .dataframe tbody tr th {\n",
       "        vertical-align: top;\n",
       "    }\n",
       "\n",
       "    .dataframe thead th {\n",
       "        text-align: right;\n",
       "    }\n",
       "</style>\n",
       "<table border=\"1\" class=\"dataframe\">\n",
       "  <thead>\n",
       "    <tr style=\"text-align: right;\">\n",
       "      <th></th>\n",
       "      <th>channel_id</th>\n",
       "      <th>video_id</th>\n",
       "      <th>video_title</th>\n",
       "      <th>video_creation_time</th>\n",
       "      <th>video_description</th>\n",
       "      <th>video_duration</th>\n",
       "      <th>video_tags</th>\n",
       "      <th>video_viewcount</th>\n",
       "      <th>video_likecount</th>\n",
       "      <th>video_commentcount</th>\n",
       "      <th>video_subtitle_path</th>\n",
       "      <th>video_subtitle</th>\n",
       "      <th>video_live</th>\n",
       "      <th>video_genre</th>\n",
       "    </tr>\n",
       "  </thead>\n",
       "  <tbody>\n",
       "    <tr>\n",
       "      <th>0</th>\n",
       "      <td>UC-lHJZR3Gqxm24_Vd_AJ5Yw</td>\n",
       "      <td>F-yEoHL7MYY</td>\n",
       "      <td>I t̶r̶i̶e̶d̶ ̶t̶o̶ beat Elden Ring Without Dyi...</td>\n",
       "      <td>2022-04-30T16:40:18Z</td>\n",
       "      <td>🌏 Get exclusive NordVPN deal here ➵  https://N...</td>\n",
       "      <td>PT53M47S</td>\n",
       "      <td>[pewdiepie, pewds, pewdie]</td>\n",
       "      <td>11590164</td>\n",
       "      <td>474052</td>\n",
       "      <td>15146</td>\n",
       "      <td>../subtitle/F-yEoHL7MYY.en.json3</td>\n",
       "      <td>i have beaten all souls games without dying a ...</td>\n",
       "      <td>False</td>\n",
       "      <td>action</td>\n",
       "    </tr>\n",
       "    <tr>\n",
       "      <th>1</th>\n",
       "      <td>UC-lHJZR3Gqxm24_Vd_AJ5Yw</td>\n",
       "      <td>PV4NGwn_xdI</td>\n",
       "      <td>Elden Ring #1 - 0 DEATH PLAYTHROUGH</td>\n",
       "      <td>2022-02-24T15:00:10Z</td>\n",
       "      <td>NEW animated wallpapers on GX 👇👇👇\\nhttps://ope...</td>\n",
       "      <td>PT13M38S</td>\n",
       "      <td>[pewdiepie, pewds, pewdie, elden ring, elden r...</td>\n",
       "      <td>5179366</td>\n",
       "      <td>192101</td>\n",
       "      <td>4313</td>\n",
       "      <td>../subtitle/PV4NGwn_xdI.en.json3</td>\n",
       "      <td>ah you ready yes we're ready eldon ring baby l...</td>\n",
       "      <td>False</td>\n",
       "      <td>action</td>\n",
       "    </tr>\n",
       "    <tr>\n",
       "      <th>2</th>\n",
       "      <td>UC-lHJZR3Gqxm24_Vd_AJ5Yw</td>\n",
       "      <td>CF3jK8ai0l4</td>\n",
       "      <td>New GTA Definitive Edition is hilariously bad</td>\n",
       "      <td>2021-11-19T17:15:01Z</td>\n",
       "      <td>Grand Theft Auto: The Trilogy is not epic bros...</td>\n",
       "      <td>PT9M30S</td>\n",
       "      <td>[pewdiepie, pewds, pewdie, Grand Theft Auto: T...</td>\n",
       "      <td>4053858</td>\n",
       "      <td>282853</td>\n",
       "      <td>9073</td>\n",
       "      <td>../subtitle/CF3jK8ai0l4.en.json3</td>\n",
       "      <td>but the new gta game is iron and it's not what...</td>\n",
       "      <td>False</td>\n",
       "      <td>action</td>\n",
       "    </tr>\n",
       "  </tbody>\n",
       "</table>\n",
       "</div>"
      ],
      "text/plain": [
       "                 channel_id     video_id  \\\n",
       "0  UC-lHJZR3Gqxm24_Vd_AJ5Yw  F-yEoHL7MYY   \n",
       "1  UC-lHJZR3Gqxm24_Vd_AJ5Yw  PV4NGwn_xdI   \n",
       "2  UC-lHJZR3Gqxm24_Vd_AJ5Yw  CF3jK8ai0l4   \n",
       "\n",
       "                                         video_title   video_creation_time  \\\n",
       "0  I t̶r̶i̶e̶d̶ ̶t̶o̶ beat Elden Ring Without Dyi...  2022-04-30T16:40:18Z   \n",
       "1                Elden Ring #1 - 0 DEATH PLAYTHROUGH  2022-02-24T15:00:10Z   \n",
       "2      New GTA Definitive Edition is hilariously bad  2021-11-19T17:15:01Z   \n",
       "\n",
       "                                   video_description video_duration  \\\n",
       "0  🌏 Get exclusive NordVPN deal here ➵  https://N...       PT53M47S   \n",
       "1  NEW animated wallpapers on GX 👇👇👇\\nhttps://ope...       PT13M38S   \n",
       "2  Grand Theft Auto: The Trilogy is not epic bros...        PT9M30S   \n",
       "\n",
       "                                          video_tags video_viewcount  \\\n",
       "0                         [pewdiepie, pewds, pewdie]        11590164   \n",
       "1  [pewdiepie, pewds, pewdie, elden ring, elden r...         5179366   \n",
       "2  [pewdiepie, pewds, pewdie, Grand Theft Auto: T...         4053858   \n",
       "\n",
       "  video_likecount video_commentcount               video_subtitle_path  \\\n",
       "0          474052              15146  ../subtitle/F-yEoHL7MYY.en.json3   \n",
       "1          192101               4313  ../subtitle/PV4NGwn_xdI.en.json3   \n",
       "2          282853               9073  ../subtitle/CF3jK8ai0l4.en.json3   \n",
       "\n",
       "                                      video_subtitle  video_live video_genre  \n",
       "0  i have beaten all souls games without dying a ...       False      action  \n",
       "1  ah you ready yes we're ready eldon ring baby l...       False      action  \n",
       "2  but the new gta game is iron and it's not what...       False      action  "
      ]
     },
     "execution_count": 15,
     "metadata": {},
     "output_type": "execute_result"
    }
   ],
   "source": [
    "# Get YouTube videos and comments for action videos\n",
    "channel, video_action, comment_action, yt_action = \\\n",
    "    get_youtube_data(channel_ids, max_videos, max_comments, action_keywords)\n",
    "video_action[\"video_genre\"] = \"action\"\n",
    "video_action.head(3)"
   ]
  },
  {
   "cell_type": "code",
   "execution_count": 16,
   "id": "a91edce0-1754-4c0e-bd90-3ba93467a074",
   "metadata": {
    "tags": []
   },
   "outputs": [
    {
     "data": {
      "text/plain": [
       "((32, 8), (618, 14), (60078, 7), (60078, 25))"
      ]
     },
     "execution_count": 16,
     "metadata": {},
     "output_type": "execute_result"
    }
   ],
   "source": [
    "# Check the dimension\n",
    "channel.shape, video_action.shape, comment_action.shape, yt_action.shape"
   ]
  },
  {
   "cell_type": "markdown",
   "id": "abb44518-944a-40b5-8c2a-6ad108e89ec5",
   "metadata": {},
   "source": [
    "  "
   ]
  },
  {
   "cell_type": "markdown",
   "id": "7fcf5b7f-1ee5-4808-b818-67bf471bdb83",
   "metadata": {},
   "source": [
    "### Non-Action Gaming Videos"
   ]
  },
  {
   "cell_type": "code",
   "execution_count": 17,
   "id": "3844ed2e-3dbd-415f-a565-6f524432c321",
   "metadata": {},
   "outputs": [
    {
     "name": "stdout",
     "output_type": "stream",
     "text": [
      "                                                         \r"
     ]
    },
    {
     "data": {
      "text/html": [
       "<div>\n",
       "<style scoped>\n",
       "    .dataframe tbody tr th:only-of-type {\n",
       "        vertical-align: middle;\n",
       "    }\n",
       "\n",
       "    .dataframe tbody tr th {\n",
       "        vertical-align: top;\n",
       "    }\n",
       "\n",
       "    .dataframe thead th {\n",
       "        text-align: right;\n",
       "    }\n",
       "</style>\n",
       "<table border=\"1\" class=\"dataframe\">\n",
       "  <thead>\n",
       "    <tr style=\"text-align: right;\">\n",
       "      <th></th>\n",
       "      <th>channel_id</th>\n",
       "      <th>video_id</th>\n",
       "      <th>video_title</th>\n",
       "      <th>video_creation_time</th>\n",
       "      <th>video_description</th>\n",
       "      <th>video_duration</th>\n",
       "      <th>video_tags</th>\n",
       "      <th>video_viewcount</th>\n",
       "      <th>video_likecount</th>\n",
       "      <th>video_commentcount</th>\n",
       "      <th>video_subtitle_path</th>\n",
       "      <th>video_subtitle</th>\n",
       "      <th>video_live</th>\n",
       "      <th>video_genre</th>\n",
       "    </tr>\n",
       "  </thead>\n",
       "  <tbody>\n",
       "    <tr>\n",
       "      <th>0</th>\n",
       "      <td>UC-lHJZR3Gqxm24_Vd_AJ5Yw</td>\n",
       "      <td>KeeeLsAa30M</td>\n",
       "      <td>$39,000,000 Minecraft House..</td>\n",
       "      <td>2023-01-17T17:45:00Z</td>\n",
       "      <td>#AD - Pre-Order G FUEL’s New PAC-MAN Flavor! h...</td>\n",
       "      <td>PT20M46S</td>\n",
       "      <td>[pewdiepie, pewds, pewdie]</td>\n",
       "      <td>3304606</td>\n",
       "      <td>144307</td>\n",
       "      <td>5113</td>\n",
       "      <td>../subtitle/KeeeLsAa30M.en.json3</td>\n",
       "      <td>dang do you have 39 million dollars laying aro...</td>\n",
       "      <td>False</td>\n",
       "      <td>non-action</td>\n",
       "    </tr>\n",
       "    <tr>\n",
       "      <th>1</th>\n",
       "      <td>UC-lHJZR3Gqxm24_Vd_AJ5Yw</td>\n",
       "      <td>5gWdiDI8tp4</td>\n",
       "      <td>I Found Wardens Hidden Base and Loot in Minecraft</td>\n",
       "      <td>2022-03-06T18:15:51Z</td>\n",
       "      <td>🧎#Subscribe🧎\\n\\nStock Up On ➡️🥤Gfuel (affiliat...</td>\n",
       "      <td>PT11M27S</td>\n",
       "      <td>[pewdiepie, pewds, pewdie]</td>\n",
       "      <td>4179633</td>\n",
       "      <td>263512</td>\n",
       "      <td>6089</td>\n",
       "      <td>../subtitle/5gWdiDI8tp4.en.json3</td>\n",
       "      <td>bros i wish i was joking but the minecraft war...</td>\n",
       "      <td>False</td>\n",
       "      <td>non-action</td>\n",
       "    </tr>\n",
       "    <tr>\n",
       "      <th>2</th>\n",
       "      <td>UC-lHJZR3Gqxm24_Vd_AJ5Yw</td>\n",
       "      <td>2osdz9Z5JKY</td>\n",
       "      <td>Minecraft Warden Update is a NIGHTMARE!</td>\n",
       "      <td>2022-02-26T17:30:01Z</td>\n",
       "      <td>Get exclusive NordVPN deal here ➵ https://Nord...</td>\n",
       "      <td>PT15M46S</td>\n",
       "      <td>[pewdiepie, pewds, pewdie]</td>\n",
       "      <td>6303313</td>\n",
       "      <td>368836</td>\n",
       "      <td>10442</td>\n",
       "      <td>../subtitle/2osdz9Z5JKY.en.json3</td>\n",
       "      <td>this is a bad idea it's a very bad idea it's p...</td>\n",
       "      <td>False</td>\n",
       "      <td>non-action</td>\n",
       "    </tr>\n",
       "  </tbody>\n",
       "</table>\n",
       "</div>"
      ],
      "text/plain": [
       "                 channel_id     video_id  \\\n",
       "0  UC-lHJZR3Gqxm24_Vd_AJ5Yw  KeeeLsAa30M   \n",
       "1  UC-lHJZR3Gqxm24_Vd_AJ5Yw  5gWdiDI8tp4   \n",
       "2  UC-lHJZR3Gqxm24_Vd_AJ5Yw  2osdz9Z5JKY   \n",
       "\n",
       "                                         video_title   video_creation_time  \\\n",
       "0                      $39,000,000 Minecraft House..  2023-01-17T17:45:00Z   \n",
       "1  I Found Wardens Hidden Base and Loot in Minecraft  2022-03-06T18:15:51Z   \n",
       "2            Minecraft Warden Update is a NIGHTMARE!  2022-02-26T17:30:01Z   \n",
       "\n",
       "                                   video_description video_duration  \\\n",
       "0  #AD - Pre-Order G FUEL’s New PAC-MAN Flavor! h...       PT20M46S   \n",
       "1  🧎#Subscribe🧎\\n\\nStock Up On ➡️🥤Gfuel (affiliat...       PT11M27S   \n",
       "2  Get exclusive NordVPN deal here ➵ https://Nord...       PT15M46S   \n",
       "\n",
       "                   video_tags video_viewcount video_likecount  \\\n",
       "0  [pewdiepie, pewds, pewdie]         3304606          144307   \n",
       "1  [pewdiepie, pewds, pewdie]         4179633          263512   \n",
       "2  [pewdiepie, pewds, pewdie]         6303313          368836   \n",
       "\n",
       "  video_commentcount               video_subtitle_path  \\\n",
       "0               5113  ../subtitle/KeeeLsAa30M.en.json3   \n",
       "1               6089  ../subtitle/5gWdiDI8tp4.en.json3   \n",
       "2              10442  ../subtitle/2osdz9Z5JKY.en.json3   \n",
       "\n",
       "                                      video_subtitle  video_live video_genre  \n",
       "0  dang do you have 39 million dollars laying aro...       False  non-action  \n",
       "1  bros i wish i was joking but the minecraft war...       False  non-action  \n",
       "2  this is a bad idea it's a very bad idea it's p...       False  non-action  "
      ]
     },
     "execution_count": 17,
     "metadata": {},
     "output_type": "execute_result"
    }
   ],
   "source": [
    "# Get YouTube videos and comments for non-action videos\n",
    "channel, video_nonaction, comment_nonaction, yt_nonaction = \\\n",
    "    get_youtube_data(channel_ids, max_videos, max_comments, nonaction_keywords)\n",
    "video_nonaction[\"video_genre\"] = \"non-action\"\n",
    "video_nonaction.head(3)"
   ]
  },
  {
   "cell_type": "code",
   "execution_count": 18,
   "id": "f9dc2c8a-8137-4e67-8427-0f4298064b15",
   "metadata": {},
   "outputs": [
    {
     "data": {
      "text/plain": [
       "((32, 8), (789, 14), (76380, 7), (76380, 25))"
      ]
     },
     "execution_count": 18,
     "metadata": {},
     "output_type": "execute_result"
    }
   ],
   "source": [
    "# Check the dimension\n",
    "channel.shape, video_nonaction.shape, comment_nonaction.shape, yt_nonaction.shape"
   ]
  },
  {
   "cell_type": "markdown",
   "id": "58c08556-e8c7-4246-8151-44370384c157",
   "metadata": {},
   "source": [
    "  "
   ]
  },
  {
   "cell_type": "markdown",
   "id": "b7330b08-918f-4968-b174-2f8f7b99ec18",
   "metadata": {},
   "source": [
    "### Complete Dataset"
   ]
  },
  {
   "cell_type": "markdown",
   "id": "d76b55d1-9653-4ce2-a06e-831b3d6fd3d8",
   "metadata": {},
   "source": [
    "#### Channel"
   ]
  },
  {
   "cell_type": "code",
   "execution_count": 19,
   "id": "b76fc799-20c4-4ef1-9ae6-5925dc25eb5b",
   "metadata": {
    "tags": []
   },
   "outputs": [
    {
     "data": {
      "text/html": [
       "<div>\n",
       "<style scoped>\n",
       "    .dataframe tbody tr th:only-of-type {\n",
       "        vertical-align: middle;\n",
       "    }\n",
       "\n",
       "    .dataframe tbody tr th {\n",
       "        vertical-align: top;\n",
       "    }\n",
       "\n",
       "    .dataframe thead th {\n",
       "        text-align: right;\n",
       "    }\n",
       "</style>\n",
       "<table border=\"1\" class=\"dataframe\">\n",
       "  <thead>\n",
       "    <tr style=\"text-align: right;\">\n",
       "      <th></th>\n",
       "      <th>channel_id</th>\n",
       "      <th>channel_name</th>\n",
       "      <th>channel_description</th>\n",
       "      <th>channel_country</th>\n",
       "      <th>channel_uploads_id</th>\n",
       "      <th>channel_viewcount</th>\n",
       "      <th>channel_subscribercount</th>\n",
       "      <th>channel_videocount</th>\n",
       "    </tr>\n",
       "  </thead>\n",
       "  <tbody>\n",
       "    <tr>\n",
       "      <th>0</th>\n",
       "      <td>UC-lHJZR3Gqxm24_Vd_AJ5Yw</td>\n",
       "      <td>PewDiePie</td>\n",
       "      <td>I make videos.</td>\n",
       "      <td>JP</td>\n",
       "      <td>UU-lHJZR3Gqxm24_Vd_AJ5Yw</td>\n",
       "      <td>29238461440</td>\n",
       "      <td>111000000</td>\n",
       "      <td>4753</td>\n",
       "    </tr>\n",
       "    <tr>\n",
       "      <th>1</th>\n",
       "      <td>UC7_YxT-KID8kRbqZo7MyscQ</td>\n",
       "      <td>Markiplier</td>\n",
       "      <td>Hi, I'm Markiplier. I make videos. \\n\\nFrom qu...</td>\n",
       "      <td>US</td>\n",
       "      <td>UU7_YxT-KID8kRbqZo7MyscQ</td>\n",
       "      <td>21204065899</td>\n",
       "      <td>36400000</td>\n",
       "      <td>5577</td>\n",
       "    </tr>\n",
       "    <tr>\n",
       "      <th>2</th>\n",
       "      <td>UCpB959t8iPrxQWj7G6n0ctQ</td>\n",
       "      <td>SSSniperWolf</td>\n",
       "      <td>Hi I'm SSSniperWolf! You can call me Lia, snip...</td>\n",
       "      <td>US</td>\n",
       "      <td>UUpB959t8iPrxQWj7G6n0ctQ</td>\n",
       "      <td>24651326157</td>\n",
       "      <td>34300000</td>\n",
       "      <td>3496</td>\n",
       "    </tr>\n",
       "  </tbody>\n",
       "</table>\n",
       "</div>"
      ],
      "text/plain": [
       "                 channel_id  channel_name  \\\n",
       "0  UC-lHJZR3Gqxm24_Vd_AJ5Yw     PewDiePie   \n",
       "1  UC7_YxT-KID8kRbqZo7MyscQ    Markiplier   \n",
       "2  UCpB959t8iPrxQWj7G6n0ctQ  SSSniperWolf   \n",
       "\n",
       "                                 channel_description channel_country  \\\n",
       "0                                     I make videos.              JP   \n",
       "1  Hi, I'm Markiplier. I make videos. \\n\\nFrom qu...              US   \n",
       "2  Hi I'm SSSniperWolf! You can call me Lia, snip...              US   \n",
       "\n",
       "         channel_uploads_id channel_viewcount channel_subscribercount  \\\n",
       "0  UU-lHJZR3Gqxm24_Vd_AJ5Yw       29238461440               111000000   \n",
       "1  UU7_YxT-KID8kRbqZo7MyscQ       21204065899                36400000   \n",
       "2  UUpB959t8iPrxQWj7G6n0ctQ       24651326157                34300000   \n",
       "\n",
       "  channel_videocount  \n",
       "0               4753  \n",
       "1               5577  \n",
       "2               3496  "
      ]
     },
     "execution_count": 19,
     "metadata": {},
     "output_type": "execute_result"
    }
   ],
   "source": [
    "# View the data\n",
    "channel.head(3)"
   ]
  },
  {
   "cell_type": "code",
   "execution_count": 20,
   "id": "67006692-5f9f-4f34-a06f-4576269f0b04",
   "metadata": {
    "tags": []
   },
   "outputs": [
    {
     "data": {
      "text/plain": [
       "(32, 8)"
      ]
     },
     "execution_count": 20,
     "metadata": {},
     "output_type": "execute_result"
    }
   ],
   "source": [
    "# Check the dimension\n",
    "channel.shape"
   ]
  },
  {
   "cell_type": "code",
   "execution_count": 21,
   "id": "b380a28f-b7dc-4494-9581-17bc2ab3ab86",
   "metadata": {
    "tags": []
   },
   "outputs": [],
   "source": [
    "# Write to CSV\n",
    "channel.to_csv(\"../data/channel.csv\", index=False)"
   ]
  },
  {
   "cell_type": "markdown",
   "id": "b3338bb9-426e-4b41-b85c-edc9e8132506",
   "metadata": {},
   "source": [
    "  "
   ]
  },
  {
   "cell_type": "markdown",
   "id": "ef94c50a-3450-4731-9f29-9ee28fc2cc3d",
   "metadata": {},
   "source": [
    "#### Video"
   ]
  },
  {
   "cell_type": "code",
   "execution_count": 22,
   "id": "099bf9a1-0056-4328-8f74-2cee97c7f856",
   "metadata": {
    "tags": []
   },
   "outputs": [
    {
     "data": {
      "text/html": [
       "<div>\n",
       "<style scoped>\n",
       "    .dataframe tbody tr th:only-of-type {\n",
       "        vertical-align: middle;\n",
       "    }\n",
       "\n",
       "    .dataframe tbody tr th {\n",
       "        vertical-align: top;\n",
       "    }\n",
       "\n",
       "    .dataframe thead th {\n",
       "        text-align: right;\n",
       "    }\n",
       "</style>\n",
       "<table border=\"1\" class=\"dataframe\">\n",
       "  <thead>\n",
       "    <tr style=\"text-align: right;\">\n",
       "      <th></th>\n",
       "      <th>channel_id</th>\n",
       "      <th>video_id</th>\n",
       "      <th>video_title</th>\n",
       "      <th>video_creation_time</th>\n",
       "      <th>video_description</th>\n",
       "      <th>video_duration</th>\n",
       "      <th>video_tags</th>\n",
       "      <th>video_viewcount</th>\n",
       "      <th>video_likecount</th>\n",
       "      <th>video_commentcount</th>\n",
       "      <th>video_subtitle_path</th>\n",
       "      <th>video_subtitle</th>\n",
       "      <th>video_live</th>\n",
       "      <th>video_genre</th>\n",
       "    </tr>\n",
       "  </thead>\n",
       "  <tbody>\n",
       "    <tr>\n",
       "      <th>0</th>\n",
       "      <td>UC-lHJZR3Gqxm24_Vd_AJ5Yw</td>\n",
       "      <td>F-yEoHL7MYY</td>\n",
       "      <td>I t̶r̶i̶e̶d̶ ̶t̶o̶ beat Elden Ring Without Dyi...</td>\n",
       "      <td>2022-04-30T16:40:18Z</td>\n",
       "      <td>🌏 Get exclusive NordVPN deal here ➵  https://N...</td>\n",
       "      <td>PT53M47S</td>\n",
       "      <td>[pewdiepie, pewds, pewdie]</td>\n",
       "      <td>11590164</td>\n",
       "      <td>474052</td>\n",
       "      <td>15146</td>\n",
       "      <td>../subtitle/F-yEoHL7MYY.en.json3</td>\n",
       "      <td>i have beaten all souls games without dying a ...</td>\n",
       "      <td>False</td>\n",
       "      <td>action</td>\n",
       "    </tr>\n",
       "    <tr>\n",
       "      <th>1</th>\n",
       "      <td>UC-lHJZR3Gqxm24_Vd_AJ5Yw</td>\n",
       "      <td>PV4NGwn_xdI</td>\n",
       "      <td>Elden Ring #1 - 0 DEATH PLAYTHROUGH</td>\n",
       "      <td>2022-02-24T15:00:10Z</td>\n",
       "      <td>NEW animated wallpapers on GX 👇👇👇\\nhttps://ope...</td>\n",
       "      <td>PT13M38S</td>\n",
       "      <td>[pewdiepie, pewds, pewdie, elden ring, elden r...</td>\n",
       "      <td>5179366</td>\n",
       "      <td>192101</td>\n",
       "      <td>4313</td>\n",
       "      <td>../subtitle/PV4NGwn_xdI.en.json3</td>\n",
       "      <td>ah you ready yes we're ready eldon ring baby l...</td>\n",
       "      <td>False</td>\n",
       "      <td>action</td>\n",
       "    </tr>\n",
       "    <tr>\n",
       "      <th>2</th>\n",
       "      <td>UC-lHJZR3Gqxm24_Vd_AJ5Yw</td>\n",
       "      <td>CF3jK8ai0l4</td>\n",
       "      <td>New GTA Definitive Edition is hilariously bad</td>\n",
       "      <td>2021-11-19T17:15:01Z</td>\n",
       "      <td>Grand Theft Auto: The Trilogy is not epic bros...</td>\n",
       "      <td>PT9M30S</td>\n",
       "      <td>[pewdiepie, pewds, pewdie, Grand Theft Auto: T...</td>\n",
       "      <td>4053858</td>\n",
       "      <td>282853</td>\n",
       "      <td>9073</td>\n",
       "      <td>../subtitle/CF3jK8ai0l4.en.json3</td>\n",
       "      <td>but the new gta game is iron and it's not what...</td>\n",
       "      <td>False</td>\n",
       "      <td>action</td>\n",
       "    </tr>\n",
       "  </tbody>\n",
       "</table>\n",
       "</div>"
      ],
      "text/plain": [
       "                 channel_id     video_id  \\\n",
       "0  UC-lHJZR3Gqxm24_Vd_AJ5Yw  F-yEoHL7MYY   \n",
       "1  UC-lHJZR3Gqxm24_Vd_AJ5Yw  PV4NGwn_xdI   \n",
       "2  UC-lHJZR3Gqxm24_Vd_AJ5Yw  CF3jK8ai0l4   \n",
       "\n",
       "                                         video_title   video_creation_time  \\\n",
       "0  I t̶r̶i̶e̶d̶ ̶t̶o̶ beat Elden Ring Without Dyi...  2022-04-30T16:40:18Z   \n",
       "1                Elden Ring #1 - 0 DEATH PLAYTHROUGH  2022-02-24T15:00:10Z   \n",
       "2      New GTA Definitive Edition is hilariously bad  2021-11-19T17:15:01Z   \n",
       "\n",
       "                                   video_description video_duration  \\\n",
       "0  🌏 Get exclusive NordVPN deal here ➵  https://N...       PT53M47S   \n",
       "1  NEW animated wallpapers on GX 👇👇👇\\nhttps://ope...       PT13M38S   \n",
       "2  Grand Theft Auto: The Trilogy is not epic bros...        PT9M30S   \n",
       "\n",
       "                                          video_tags video_viewcount  \\\n",
       "0                         [pewdiepie, pewds, pewdie]        11590164   \n",
       "1  [pewdiepie, pewds, pewdie, elden ring, elden r...         5179366   \n",
       "2  [pewdiepie, pewds, pewdie, Grand Theft Auto: T...         4053858   \n",
       "\n",
       "  video_likecount video_commentcount               video_subtitle_path  \\\n",
       "0          474052              15146  ../subtitle/F-yEoHL7MYY.en.json3   \n",
       "1          192101               4313  ../subtitle/PV4NGwn_xdI.en.json3   \n",
       "2          282853               9073  ../subtitle/CF3jK8ai0l4.en.json3   \n",
       "\n",
       "                                      video_subtitle  video_live video_genre  \n",
       "0  i have beaten all souls games without dying a ...       False      action  \n",
       "1  ah you ready yes we're ready eldon ring baby l...       False      action  \n",
       "2  but the new gta game is iron and it's not what...       False      action  "
      ]
     },
     "execution_count": 22,
     "metadata": {},
     "output_type": "execute_result"
    }
   ],
   "source": [
    "# Combine into one DataFrame\n",
    "video = pd.concat([video_action, video_nonaction], ignore_index=True)\n",
    "video.head(3)"
   ]
  },
  {
   "cell_type": "code",
   "execution_count": 23,
   "id": "d68d9069-fb71-4f65-9a9f-32a9fbc49731",
   "metadata": {
    "tags": []
   },
   "outputs": [
    {
     "data": {
      "text/plain": [
       "(1407, 14)"
      ]
     },
     "execution_count": 23,
     "metadata": {},
     "output_type": "execute_result"
    }
   ],
   "source": [
    "# Check the dimension\n",
    "video.shape"
   ]
  },
  {
   "cell_type": "code",
   "execution_count": 24,
   "id": "1a783375-0a5f-4517-85dd-b1fd98aee7e7",
   "metadata": {},
   "outputs": [],
   "source": [
    "# Write to CSV\n",
    "video.to_csv(\"../data/video.csv\", index=False)"
   ]
  },
  {
   "cell_type": "markdown",
   "id": "931d4a9d-fe65-4a4c-9df2-a30933966ece",
   "metadata": {},
   "source": [
    "  "
   ]
  },
  {
   "cell_type": "markdown",
   "id": "29a67d97-9c01-45f9-b70a-e019d663583d",
   "metadata": {},
   "source": [
    "#### Comment"
   ]
  },
  {
   "cell_type": "code",
   "execution_count": 25,
   "id": "15e991bf-4594-4a57-95b6-66da9cb07074",
   "metadata": {
    "tags": []
   },
   "outputs": [
    {
     "data": {
      "text/html": [
       "<div>\n",
       "<style scoped>\n",
       "    .dataframe tbody tr th:only-of-type {\n",
       "        vertical-align: middle;\n",
       "    }\n",
       "\n",
       "    .dataframe tbody tr th {\n",
       "        vertical-align: top;\n",
       "    }\n",
       "\n",
       "    .dataframe thead th {\n",
       "        text-align: right;\n",
       "    }\n",
       "</style>\n",
       "<table border=\"1\" class=\"dataframe\">\n",
       "  <thead>\n",
       "    <tr style=\"text-align: right;\">\n",
       "      <th></th>\n",
       "      <th>video_id</th>\n",
       "      <th>comment_id</th>\n",
       "      <th>comment_author_id</th>\n",
       "      <th>comment_text</th>\n",
       "      <th>comment_time</th>\n",
       "      <th>comment_likecount</th>\n",
       "      <th>comment_replycount</th>\n",
       "    </tr>\n",
       "  </thead>\n",
       "  <tbody>\n",
       "    <tr>\n",
       "      <th>0</th>\n",
       "      <td>F-yEoHL7MYY</td>\n",
       "      <td>UgwN1kGXwi9M7jeOb0d4AaABAg</td>\n",
       "      <td>UCLHsZ4X7YemjxRrvq0AI4LA</td>\n",
       "      <td>Damn dude, even with mimic I think it would ta...</td>\n",
       "      <td>2022-05-02T19:37:22Z</td>\n",
       "      <td>9907</td>\n",
       "      <td>47</td>\n",
       "    </tr>\n",
       "    <tr>\n",
       "      <th>1</th>\n",
       "      <td>F-yEoHL7MYY</td>\n",
       "      <td>UgwW5nWEkxdES-g3hk54AaABAg</td>\n",
       "      <td>UCJ9VDCLZDmeJIU3Branlstg</td>\n",
       "      <td>This is the pewds that I thought he’d turn int...</td>\n",
       "      <td>2022-12-14T23:36:11Z</td>\n",
       "      <td>6299</td>\n",
       "      <td>9</td>\n",
       "    </tr>\n",
       "    <tr>\n",
       "      <th>2</th>\n",
       "      <td>F-yEoHL7MYY</td>\n",
       "      <td>UgyGe0HN8toQWUZZtCl4AaABAg</td>\n",
       "      <td>UCs-mo1206PASdacjDqfdLng</td>\n",
       "      <td>This is actually awesome. Can't believe a meme...</td>\n",
       "      <td>2022-12-31T18:16:36Z</td>\n",
       "      <td>5091</td>\n",
       "      <td>54</td>\n",
       "    </tr>\n",
       "  </tbody>\n",
       "</table>\n",
       "</div>"
      ],
      "text/plain": [
       "      video_id                  comment_id         comment_author_id  \\\n",
       "0  F-yEoHL7MYY  UgwN1kGXwi9M7jeOb0d4AaABAg  UCLHsZ4X7YemjxRrvq0AI4LA   \n",
       "1  F-yEoHL7MYY  UgwW5nWEkxdES-g3hk54AaABAg  UCJ9VDCLZDmeJIU3Branlstg   \n",
       "2  F-yEoHL7MYY  UgyGe0HN8toQWUZZtCl4AaABAg  UCs-mo1206PASdacjDqfdLng   \n",
       "\n",
       "                                        comment_text          comment_time  \\\n",
       "0  Damn dude, even with mimic I think it would ta...  2022-05-02T19:37:22Z   \n",
       "1  This is the pewds that I thought he’d turn int...  2022-12-14T23:36:11Z   \n",
       "2  This is actually awesome. Can't believe a meme...  2022-12-31T18:16:36Z   \n",
       "\n",
       "   comment_likecount  comment_replycount  \n",
       "0               9907                  47  \n",
       "1               6299                   9  \n",
       "2               5091                  54  "
      ]
     },
     "execution_count": 25,
     "metadata": {},
     "output_type": "execute_result"
    }
   ],
   "source": [
    "# Combine into one DataFrame\n",
    "comment = pd.concat([comment_action, comment_nonaction], ignore_index=True)\n",
    "comment.head(3)"
   ]
  },
  {
   "cell_type": "code",
   "execution_count": 26,
   "id": "7c892838-5ecf-421a-b3d4-a754c27c1c00",
   "metadata": {},
   "outputs": [
    {
     "data": {
      "text/plain": [
       "(136458, 7)"
      ]
     },
     "execution_count": 26,
     "metadata": {},
     "output_type": "execute_result"
    }
   ],
   "source": [
    "# Check the dimension\n",
    "comment.shape"
   ]
  },
  {
   "cell_type": "code",
   "execution_count": 27,
   "id": "3e0911b6-99b9-4df0-8a64-e3e47212c5d9",
   "metadata": {},
   "outputs": [],
   "source": [
    "# Write to CSV\n",
    "comment.to_csv(\"../data/comment.csv\", index=False, escapechar=\"\\\\\")"
   ]
  },
  {
   "cell_type": "markdown",
   "id": "87d4e13f-5414-480d-84ba-f0bd3b4180b2",
   "metadata": {},
   "source": [
    "  "
   ]
  },
  {
   "cell_type": "markdown",
   "id": "2d2ed067-3755-4b22-8ee0-5bffaaf74548",
   "metadata": {},
   "source": [
    "#### All YouTube Data"
   ]
  },
  {
   "cell_type": "code",
   "execution_count": 28,
   "id": "397f2ac8-1aa8-4583-98c0-6f498d9a0075",
   "metadata": {
    "tags": []
   },
   "outputs": [
    {
     "data": {
      "text/html": [
       "<div>\n",
       "<style scoped>\n",
       "    .dataframe tbody tr th:only-of-type {\n",
       "        vertical-align: middle;\n",
       "    }\n",
       "\n",
       "    .dataframe tbody tr th {\n",
       "        vertical-align: top;\n",
       "    }\n",
       "\n",
       "    .dataframe thead th {\n",
       "        text-align: right;\n",
       "    }\n",
       "</style>\n",
       "<table border=\"1\" class=\"dataframe\">\n",
       "  <thead>\n",
       "    <tr style=\"text-align: right;\">\n",
       "      <th></th>\n",
       "      <th>channel_id</th>\n",
       "      <th>channel_name</th>\n",
       "      <th>channel_description</th>\n",
       "      <th>channel_country</th>\n",
       "      <th>channel_uploads_id</th>\n",
       "      <th>channel_viewcount</th>\n",
       "      <th>channel_subscribercount</th>\n",
       "      <th>channel_videocount</th>\n",
       "      <th>video_id</th>\n",
       "      <th>video_title</th>\n",
       "      <th>...</th>\n",
       "      <th>video_likecount</th>\n",
       "      <th>video_commentcount</th>\n",
       "      <th>video_subtitle_path</th>\n",
       "      <th>video_live</th>\n",
       "      <th>comment_id</th>\n",
       "      <th>comment_author_id</th>\n",
       "      <th>comment_text</th>\n",
       "      <th>comment_time</th>\n",
       "      <th>comment_likecount</th>\n",
       "      <th>comment_replycount</th>\n",
       "    </tr>\n",
       "  </thead>\n",
       "  <tbody>\n",
       "    <tr>\n",
       "      <th>0</th>\n",
       "      <td>UC-lHJZR3Gqxm24_Vd_AJ5Yw</td>\n",
       "      <td>PewDiePie</td>\n",
       "      <td>I make videos.</td>\n",
       "      <td>JP</td>\n",
       "      <td>UU-lHJZR3Gqxm24_Vd_AJ5Yw</td>\n",
       "      <td>29238461440</td>\n",
       "      <td>111000000</td>\n",
       "      <td>4753</td>\n",
       "      <td>F-yEoHL7MYY</td>\n",
       "      <td>I t̶r̶i̶e̶d̶ ̶t̶o̶ beat Elden Ring Without Dyi...</td>\n",
       "      <td>...</td>\n",
       "      <td>474052</td>\n",
       "      <td>15146</td>\n",
       "      <td>../subtitle/F-yEoHL7MYY.en.json3</td>\n",
       "      <td>False</td>\n",
       "      <td>UgwN1kGXwi9M7jeOb0d4AaABAg</td>\n",
       "      <td>UCLHsZ4X7YemjxRrvq0AI4LA</td>\n",
       "      <td>Damn dude, even with mimic I think it would ta...</td>\n",
       "      <td>2022-05-02T19:37:22Z</td>\n",
       "      <td>9907</td>\n",
       "      <td>47</td>\n",
       "    </tr>\n",
       "    <tr>\n",
       "      <th>1</th>\n",
       "      <td>UC-lHJZR3Gqxm24_Vd_AJ5Yw</td>\n",
       "      <td>PewDiePie</td>\n",
       "      <td>I make videos.</td>\n",
       "      <td>JP</td>\n",
       "      <td>UU-lHJZR3Gqxm24_Vd_AJ5Yw</td>\n",
       "      <td>29238461440</td>\n",
       "      <td>111000000</td>\n",
       "      <td>4753</td>\n",
       "      <td>F-yEoHL7MYY</td>\n",
       "      <td>I t̶r̶i̶e̶d̶ ̶t̶o̶ beat Elden Ring Without Dyi...</td>\n",
       "      <td>...</td>\n",
       "      <td>474052</td>\n",
       "      <td>15146</td>\n",
       "      <td>../subtitle/F-yEoHL7MYY.en.json3</td>\n",
       "      <td>False</td>\n",
       "      <td>UgwW5nWEkxdES-g3hk54AaABAg</td>\n",
       "      <td>UCJ9VDCLZDmeJIU3Branlstg</td>\n",
       "      <td>This is the pewds that I thought he’d turn int...</td>\n",
       "      <td>2022-12-14T23:36:11Z</td>\n",
       "      <td>6299</td>\n",
       "      <td>9</td>\n",
       "    </tr>\n",
       "    <tr>\n",
       "      <th>2</th>\n",
       "      <td>UC-lHJZR3Gqxm24_Vd_AJ5Yw</td>\n",
       "      <td>PewDiePie</td>\n",
       "      <td>I make videos.</td>\n",
       "      <td>JP</td>\n",
       "      <td>UU-lHJZR3Gqxm24_Vd_AJ5Yw</td>\n",
       "      <td>29238461440</td>\n",
       "      <td>111000000</td>\n",
       "      <td>4753</td>\n",
       "      <td>F-yEoHL7MYY</td>\n",
       "      <td>I t̶r̶i̶e̶d̶ ̶t̶o̶ beat Elden Ring Without Dyi...</td>\n",
       "      <td>...</td>\n",
       "      <td>474052</td>\n",
       "      <td>15146</td>\n",
       "      <td>../subtitle/F-yEoHL7MYY.en.json3</td>\n",
       "      <td>False</td>\n",
       "      <td>UgyGe0HN8toQWUZZtCl4AaABAg</td>\n",
       "      <td>UCs-mo1206PASdacjDqfdLng</td>\n",
       "      <td>This is actually awesome. Can't believe a meme...</td>\n",
       "      <td>2022-12-31T18:16:36Z</td>\n",
       "      <td>5091</td>\n",
       "      <td>54</td>\n",
       "    </tr>\n",
       "  </tbody>\n",
       "</table>\n",
       "<p>3 rows × 25 columns</p>\n",
       "</div>"
      ],
      "text/plain": [
       "                 channel_id channel_name channel_description channel_country  \\\n",
       "0  UC-lHJZR3Gqxm24_Vd_AJ5Yw    PewDiePie      I make videos.              JP   \n",
       "1  UC-lHJZR3Gqxm24_Vd_AJ5Yw    PewDiePie      I make videos.              JP   \n",
       "2  UC-lHJZR3Gqxm24_Vd_AJ5Yw    PewDiePie      I make videos.              JP   \n",
       "\n",
       "         channel_uploads_id channel_viewcount channel_subscribercount  \\\n",
       "0  UU-lHJZR3Gqxm24_Vd_AJ5Yw       29238461440               111000000   \n",
       "1  UU-lHJZR3Gqxm24_Vd_AJ5Yw       29238461440               111000000   \n",
       "2  UU-lHJZR3Gqxm24_Vd_AJ5Yw       29238461440               111000000   \n",
       "\n",
       "  channel_videocount     video_id  \\\n",
       "0               4753  F-yEoHL7MYY   \n",
       "1               4753  F-yEoHL7MYY   \n",
       "2               4753  F-yEoHL7MYY   \n",
       "\n",
       "                                         video_title  ... video_likecount  \\\n",
       "0  I t̶r̶i̶e̶d̶ ̶t̶o̶ beat Elden Ring Without Dyi...  ...          474052   \n",
       "1  I t̶r̶i̶e̶d̶ ̶t̶o̶ beat Elden Ring Without Dyi...  ...          474052   \n",
       "2  I t̶r̶i̶e̶d̶ ̶t̶o̶ beat Elden Ring Without Dyi...  ...          474052   \n",
       "\n",
       "  video_commentcount               video_subtitle_path video_live  \\\n",
       "0              15146  ../subtitle/F-yEoHL7MYY.en.json3      False   \n",
       "1              15146  ../subtitle/F-yEoHL7MYY.en.json3      False   \n",
       "2              15146  ../subtitle/F-yEoHL7MYY.en.json3      False   \n",
       "\n",
       "                   comment_id         comment_author_id  \\\n",
       "0  UgwN1kGXwi9M7jeOb0d4AaABAg  UCLHsZ4X7YemjxRrvq0AI4LA   \n",
       "1  UgwW5nWEkxdES-g3hk54AaABAg  UCJ9VDCLZDmeJIU3Branlstg   \n",
       "2  UgyGe0HN8toQWUZZtCl4AaABAg  UCs-mo1206PASdacjDqfdLng   \n",
       "\n",
       "                                        comment_text          comment_time  \\\n",
       "0  Damn dude, even with mimic I think it would ta...  2022-05-02T19:37:22Z   \n",
       "1  This is the pewds that I thought he’d turn int...  2022-12-14T23:36:11Z   \n",
       "2  This is actually awesome. Can't believe a meme...  2022-12-31T18:16:36Z   \n",
       "\n",
       "  comment_likecount comment_replycount  \n",
       "0              9907                 47  \n",
       "1              6299                  9  \n",
       "2              5091                 54  \n",
       "\n",
       "[3 rows x 25 columns]"
      ]
     },
     "execution_count": 28,
     "metadata": {},
     "output_type": "execute_result"
    }
   ],
   "source": [
    "# Combine into one DataFrame\n",
    "yt = pd.concat([yt_action, yt_nonaction], ignore_index=True)\n",
    "yt.head(3)"
   ]
  },
  {
   "cell_type": "code",
   "execution_count": 29,
   "id": "c522a1a6-09fd-4a87-a9b4-9a6b6c10503e",
   "metadata": {
    "tags": []
   },
   "outputs": [
    {
     "data": {
      "text/plain": [
       "(136458, 25)"
      ]
     },
     "execution_count": 29,
     "metadata": {},
     "output_type": "execute_result"
    }
   ],
   "source": [
    "# Check the dimension\n",
    "yt.shape"
   ]
  },
  {
   "cell_type": "code",
   "execution_count": 30,
   "id": "43b1ec15-4e35-44a5-9088-eef87eeedfda",
   "metadata": {
    "tags": []
   },
   "outputs": [],
   "source": [
    "# Write to CSV\n",
    "yt.to_csv(\"../data/yt.csv\", index=False)"
   ]
  }
 ],
 "metadata": {
  "kernelspec": {
   "display_name": "Python 3 (ipykernel)",
   "language": "python",
   "name": "python3"
  },
  "language_info": {
   "codemirror_mode": {
    "name": "ipython",
    "version": 3
   },
   "file_extension": ".py",
   "mimetype": "text/x-python",
   "name": "python",
   "nbconvert_exporter": "python",
   "pygments_lexer": "ipython3",
   "version": "3.10.13"
  }
 },
 "nbformat": 4,
 "nbformat_minor": 5
}
