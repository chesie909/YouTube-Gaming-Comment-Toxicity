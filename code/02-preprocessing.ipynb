{
 "cells": [
  {
   "cell_type": "markdown",
   "id": "7de6bcc0-6f0a-4ddb-ac55-8dc0044a50e9",
   "metadata": {},
   "source": [
    "# IMT 547 Project Part II: Data Preprocessing"
   ]
  },
  {
   "cell_type": "markdown",
   "id": "c87f6709-61fb-40b7-8dfa-bdd7465b7b62",
   "metadata": {},
   "source": [
    "Chesie Yu"
   ]
  },
  {
   "cell_type": "markdown",
   "id": "09122a0b-3052-44a0-ac0b-1f3066fb6fa0",
   "metadata": {},
   "source": [
    "02/25/2024"
   ]
  },
  {
   "cell_type": "markdown",
   "id": "1ef03107-7f5a-4040-833b-d0be04112712",
   "metadata": {},
   "source": [
    "<style type = \"text/css\">  \n",
    "    body {\n",
    "        font-family: \"Serif\"; \n",
    "        font-size: 12pt;\n",
    "    }\n",
    "    em {\n",
    "        color: #4E7F9E;\n",
    "    }\n",
    "    strong {\n",
    "        color: #436D87;\n",
    "    }\n",
    "    li {\n",
    "        color: #4E7F9E;\n",
    "    }\n",
    "    ul {\n",
    "        color: #4E7F9E;\n",
    "    }\n",
    "    img {\n",
    "        display: block;\n",
    "        margin: auto;\n",
    "    } \n",
    "    .jp-RenderedHTMLCommon a:link { \n",
    "        color: #94C1C9;\n",
    "    }\n",
    "    .jp-RenderedHTMLCommon a:visited { \n",
    "        color: #94C1C9;\n",
    "    }\n",
    "    .jp-RenderedHTMLCommon code {\n",
    "        color: #4E7F9E;\n",
    "    }  \n",
    "    .mark {\n",
    "        color: #B00D00;\n",
    "        background-color: #FFF7B1;\n",
    "    }\n",
    "</style>"
   ]
  },
  {
   "cell_type": "markdown",
   "id": "68d7bc5b-28a2-4eeb-bca3-e2ece395e3c5",
   "metadata": {},
   "source": [
    "_This notebook outlines the **data preprocessing** process for the **YouTube Gaming Comment Toxicity** project._    \n",
    "\n",
    "**Components**  \n",
    "1. **Data Cleaning**: Data cleaning procedures including handling missing values and converting data types.    \n",
    "2. **Feature Engineering**: Feature engineering process of deriving new features by transforming existing variables.   \n",
    "3. **Text Preprocessing**: Text cleaning measures including text standardization, noise elimination, stopwords removal, and tokenization.   \n",
    "4. **Data Labeling**: Perspective API toxicity annotations and VADER/TextBlob/Empath sentiment evaluation.  \n",
    "\n",
    "\n",
    "**Functions**   \n",
    "- **`build_client(api_key)`**: Build a client for a given Perspective API key.  \n",
    "- **`split_text(text, size=40, overlap=10)`**: Split the given text into overlapping chunks.\n",
    "- **`calculate_proportions(chunks, overlap=10)`**: Calculate the proportion of each chunk.  Assign lower weight to overlapping words.\n",
    "- **`perspective_toxicity(comments)`**: Compute Perspective toxicity scores for a given list of texts. Support throttling management w/ client reuse, key rotation, and exponential backoff.   \n",
    "- **`remove_noise(text)`**: Perform minimal text preprocessing by removing noise.  \n",
    "- **`clean(text)`**: Perform moderate text preprocessing on a given document.  \n",
    "- **`vader_sentiment(text)`**: Compute VADER sentiment scores for a given text.    \n",
    "- **`textblob_sentiment(text)`**: Compute TextBlob sentiment scores for a given text.   \n",
    "- **`empath_sentiment(text)`**: Compute Empath sentiment scores for a given text.   \n",
    "\n",
    "**Runtime**  \n",
    "_Approximately 7.5 hours._    "
   ]
  },
  {
   "cell_type": "markdown",
   "id": "ece1ac9b-3b43-478a-8780-d5438602df27",
   "metadata": {},
   "source": [
    "  "
   ]
  },
  {
   "cell_type": "code",
   "execution_count": 1,
   "id": "578e3748-8eaf-4091-9fed-4ad15d858ab7",
   "metadata": {
    "tags": []
   },
   "outputs": [],
   "source": [
    "# Import the libraries\n",
    "import json\n",
    "import random\n",
    "import re\n",
    "import time\n",
    "\n",
    "import isodate\n",
    "import numpy as np\n",
    "import pandas as pd\n",
    "import matplotlib.pyplot as plt\n",
    "import seaborn as sns\n",
    "\n",
    "import contractions\n",
    "import nltk\n",
    "from nltk.corpus import stopwords\n",
    "from nltk.tokenize import word_tokenize"
   ]
  },
  {
   "cell_type": "markdown",
   "id": "a62a0ad4-d252-402a-adb3-3fcd52f619da",
   "metadata": {},
   "source": [
    "  "
   ]
  },
  {
   "cell_type": "markdown",
   "id": "4ad8f6b0-1b61-414c-ab0d-5692c4ed3019",
   "metadata": {},
   "source": [
    "## 1. Load the Data"
   ]
  },
  {
   "cell_type": "markdown",
   "id": "e32fdfb3-5f04-4fd4-a8bc-0f72c7623f0d",
   "metadata": {},
   "source": [
    "### Channel"
   ]
  },
  {
   "cell_type": "code",
   "execution_count": 2,
   "id": "0545f22b-ffe1-44f0-b04b-50ab22781ee1",
   "metadata": {},
   "outputs": [
    {
     "data": {
      "text/html": [
       "<div>\n",
       "<style scoped>\n",
       "    .dataframe tbody tr th:only-of-type {\n",
       "        vertical-align: middle;\n",
       "    }\n",
       "\n",
       "    .dataframe tbody tr th {\n",
       "        vertical-align: top;\n",
       "    }\n",
       "\n",
       "    .dataframe thead th {\n",
       "        text-align: right;\n",
       "    }\n",
       "</style>\n",
       "<table border=\"1\" class=\"dataframe\">\n",
       "  <thead>\n",
       "    <tr style=\"text-align: right;\">\n",
       "      <th></th>\n",
       "      <th>channel_id</th>\n",
       "      <th>channel_name</th>\n",
       "      <th>channel_description</th>\n",
       "      <th>channel_country</th>\n",
       "      <th>channel_uploads_id</th>\n",
       "      <th>channel_viewcount</th>\n",
       "      <th>channel_subscribercount</th>\n",
       "      <th>channel_videocount</th>\n",
       "    </tr>\n",
       "  </thead>\n",
       "  <tbody>\n",
       "    <tr>\n",
       "      <th>0</th>\n",
       "      <td>UC-lHJZR3Gqxm24_Vd_AJ5Yw</td>\n",
       "      <td>PewDiePie</td>\n",
       "      <td>I make videos.</td>\n",
       "      <td>JP</td>\n",
       "      <td>UU-lHJZR3Gqxm24_Vd_AJ5Yw</td>\n",
       "      <td>29238461440</td>\n",
       "      <td>111000000</td>\n",
       "      <td>4753</td>\n",
       "    </tr>\n",
       "    <tr>\n",
       "      <th>1</th>\n",
       "      <td>UC7_YxT-KID8kRbqZo7MyscQ</td>\n",
       "      <td>Markiplier</td>\n",
       "      <td>Hi, I'm Markiplier. I make videos. \\n\\nFrom qu...</td>\n",
       "      <td>US</td>\n",
       "      <td>UU7_YxT-KID8kRbqZo7MyscQ</td>\n",
       "      <td>21204065899</td>\n",
       "      <td>36400000</td>\n",
       "      <td>5577</td>\n",
       "    </tr>\n",
       "  </tbody>\n",
       "</table>\n",
       "</div>"
      ],
      "text/plain": [
       "                 channel_id channel_name  \\\n",
       "0  UC-lHJZR3Gqxm24_Vd_AJ5Yw    PewDiePie   \n",
       "1  UC7_YxT-KID8kRbqZo7MyscQ   Markiplier   \n",
       "\n",
       "                                 channel_description channel_country  \\\n",
       "0                                     I make videos.              JP   \n",
       "1  Hi, I'm Markiplier. I make videos. \\n\\nFrom qu...              US   \n",
       "\n",
       "         channel_uploads_id  channel_viewcount  channel_subscribercount  \\\n",
       "0  UU-lHJZR3Gqxm24_Vd_AJ5Yw        29238461440                111000000   \n",
       "1  UU7_YxT-KID8kRbqZo7MyscQ        21204065899                 36400000   \n",
       "\n",
       "   channel_videocount  \n",
       "0                4753  \n",
       "1                5577  "
      ]
     },
     "execution_count": 2,
     "metadata": {},
     "output_type": "execute_result"
    }
   ],
   "source": [
    "# Load the data\n",
    "channel = pd.read_csv(\"../data/channel.csv\")\n",
    "channel.head(2)"
   ]
  },
  {
   "cell_type": "code",
   "execution_count": 3,
   "id": "11b24bde-8b4f-46f7-89ad-a8630b83fef2",
   "metadata": {
    "tags": []
   },
   "outputs": [
    {
     "name": "stdout",
     "output_type": "stream",
     "text": [
      "Number of rows: 32\n",
      "Number of columns: 8\n",
      "\n",
      "Number of missing values: 0\n"
     ]
    }
   ],
   "source": [
    "# Check the dimensions\n",
    "print(f\"Number of rows: {channel.shape[0]}\\n\"\n",
    "      f\"Number of columns: {channel.shape[1]}\\n\")\n",
    "\n",
    "# Check for missing values\n",
    "print(f\"Number of missing values: {channel.isna().sum().sum()}\")"
   ]
  },
  {
   "cell_type": "markdown",
   "id": "913b00fb-7c0b-48c7-be53-07cd59000cee",
   "metadata": {},
   "source": [
    "  "
   ]
  },
  {
   "cell_type": "markdown",
   "id": "314e604b-1b3b-4381-ae5e-b6668e7f5465",
   "metadata": {},
   "source": [
    "### Video"
   ]
  },
  {
   "cell_type": "code",
   "execution_count": 4,
   "id": "83560f59-4413-4efe-99f9-75e6b521ce3d",
   "metadata": {
    "tags": []
   },
   "outputs": [
    {
     "data": {
      "text/html": [
       "<div>\n",
       "<style scoped>\n",
       "    .dataframe tbody tr th:only-of-type {\n",
       "        vertical-align: middle;\n",
       "    }\n",
       "\n",
       "    .dataframe tbody tr th {\n",
       "        vertical-align: top;\n",
       "    }\n",
       "\n",
       "    .dataframe thead th {\n",
       "        text-align: right;\n",
       "    }\n",
       "</style>\n",
       "<table border=\"1\" class=\"dataframe\">\n",
       "  <thead>\n",
       "    <tr style=\"text-align: right;\">\n",
       "      <th></th>\n",
       "      <th>channel_id</th>\n",
       "      <th>video_id</th>\n",
       "      <th>video_title</th>\n",
       "      <th>video_creation_time</th>\n",
       "      <th>video_description</th>\n",
       "      <th>video_duration</th>\n",
       "      <th>video_tags</th>\n",
       "      <th>video_viewcount</th>\n",
       "      <th>video_likecount</th>\n",
       "      <th>video_commentcount</th>\n",
       "      <th>video_subtitle_path</th>\n",
       "      <th>video_subtitle</th>\n",
       "      <th>video_live</th>\n",
       "      <th>video_genre</th>\n",
       "    </tr>\n",
       "  </thead>\n",
       "  <tbody>\n",
       "    <tr>\n",
       "      <th>0</th>\n",
       "      <td>UC-lHJZR3Gqxm24_Vd_AJ5Yw</td>\n",
       "      <td>F-yEoHL7MYY</td>\n",
       "      <td>I t̶r̶i̶e̶d̶ ̶t̶o̶ beat Elden Ring Without Dyi...</td>\n",
       "      <td>2022-04-30T16:40:18Z</td>\n",
       "      <td>🌏 Get exclusive NordVPN deal here ➵  https://N...</td>\n",
       "      <td>PT53M47S</td>\n",
       "      <td>['pewdiepie', 'pewds', 'pewdie']</td>\n",
       "      <td>11590164</td>\n",
       "      <td>474052</td>\n",
       "      <td>15146.0</td>\n",
       "      <td>../subtitle/F-yEoHL7MYY.en.json3</td>\n",
       "      <td>i have beaten all souls games without dying a ...</td>\n",
       "      <td>False</td>\n",
       "      <td>action</td>\n",
       "    </tr>\n",
       "    <tr>\n",
       "      <th>1</th>\n",
       "      <td>UC-lHJZR3Gqxm24_Vd_AJ5Yw</td>\n",
       "      <td>PV4NGwn_xdI</td>\n",
       "      <td>Elden Ring #1 - 0 DEATH PLAYTHROUGH</td>\n",
       "      <td>2022-02-24T15:00:10Z</td>\n",
       "      <td>NEW animated wallpapers on GX 👇👇👇\\nhttps://ope...</td>\n",
       "      <td>PT13M38S</td>\n",
       "      <td>['pewdiepie', 'pewds', 'pewdie', 'elden ring',...</td>\n",
       "      <td>5179366</td>\n",
       "      <td>192101</td>\n",
       "      <td>4313.0</td>\n",
       "      <td>../subtitle/PV4NGwn_xdI.en.json3</td>\n",
       "      <td>ah you ready yes we're ready eldon ring baby l...</td>\n",
       "      <td>False</td>\n",
       "      <td>action</td>\n",
       "    </tr>\n",
       "  </tbody>\n",
       "</table>\n",
       "</div>"
      ],
      "text/plain": [
       "                 channel_id     video_id  \\\n",
       "0  UC-lHJZR3Gqxm24_Vd_AJ5Yw  F-yEoHL7MYY   \n",
       "1  UC-lHJZR3Gqxm24_Vd_AJ5Yw  PV4NGwn_xdI   \n",
       "\n",
       "                                         video_title   video_creation_time  \\\n",
       "0  I t̶r̶i̶e̶d̶ ̶t̶o̶ beat Elden Ring Without Dyi...  2022-04-30T16:40:18Z   \n",
       "1                Elden Ring #1 - 0 DEATH PLAYTHROUGH  2022-02-24T15:00:10Z   \n",
       "\n",
       "                                   video_description video_duration  \\\n",
       "0  🌏 Get exclusive NordVPN deal here ➵  https://N...       PT53M47S   \n",
       "1  NEW animated wallpapers on GX 👇👇👇\\nhttps://ope...       PT13M38S   \n",
       "\n",
       "                                          video_tags  video_viewcount  \\\n",
       "0                   ['pewdiepie', 'pewds', 'pewdie']         11590164   \n",
       "1  ['pewdiepie', 'pewds', 'pewdie', 'elden ring',...          5179366   \n",
       "\n",
       "   video_likecount  video_commentcount               video_subtitle_path  \\\n",
       "0           474052             15146.0  ../subtitle/F-yEoHL7MYY.en.json3   \n",
       "1           192101              4313.0  ../subtitle/PV4NGwn_xdI.en.json3   \n",
       "\n",
       "                                      video_subtitle  video_live video_genre  \n",
       "0  i have beaten all souls games without dying a ...       False      action  \n",
       "1  ah you ready yes we're ready eldon ring baby l...       False      action  "
      ]
     },
     "execution_count": 4,
     "metadata": {},
     "output_type": "execute_result"
    }
   ],
   "source": [
    "# Load the data\n",
    "video = pd.read_csv(\"../data/video.csv\")\n",
    "video.head(2)"
   ]
  },
  {
   "cell_type": "code",
   "execution_count": 5,
   "id": "c124769b-ff21-450b-bc78-bcb1f3c6cf54",
   "metadata": {
    "tags": []
   },
   "outputs": [
    {
     "name": "stdout",
     "output_type": "stream",
     "text": [
      "Number of rows: 1407\n",
      "Number of columns: 14\n",
      "\n",
      "Number of missing values: 184\n"
     ]
    }
   ],
   "source": [
    "# Check the dimensions\n",
    "print(f\"Number of rows: {video.shape[0]}\\n\"\n",
    "      f\"Number of columns: {video.shape[1]}\\n\")\n",
    "\n",
    "# Check for missing values\n",
    "print(f\"Number of missing values: {video.isna().sum().sum()}\")"
   ]
  },
  {
   "cell_type": "markdown",
   "id": "ef93308a-2565-4d1d-91bb-ff116818649d",
   "metadata": {},
   "source": [
    "  "
   ]
  },
  {
   "cell_type": "markdown",
   "id": "5c8cec2f-7418-40a4-9fb5-68c8e918a4b6",
   "metadata": {},
   "source": [
    "### Comment"
   ]
  },
  {
   "cell_type": "code",
   "execution_count": 6,
   "id": "eb74ad96-b678-48f3-977b-6361303bf585",
   "metadata": {
    "tags": []
   },
   "outputs": [
    {
     "data": {
      "text/html": [
       "<div>\n",
       "<style scoped>\n",
       "    .dataframe tbody tr th:only-of-type {\n",
       "        vertical-align: middle;\n",
       "    }\n",
       "\n",
       "    .dataframe tbody tr th {\n",
       "        vertical-align: top;\n",
       "    }\n",
       "\n",
       "    .dataframe thead th {\n",
       "        text-align: right;\n",
       "    }\n",
       "</style>\n",
       "<table border=\"1\" class=\"dataframe\">\n",
       "  <thead>\n",
       "    <tr style=\"text-align: right;\">\n",
       "      <th></th>\n",
       "      <th>video_id</th>\n",
       "      <th>comment_id</th>\n",
       "      <th>comment_author_id</th>\n",
       "      <th>comment_text</th>\n",
       "      <th>comment_time</th>\n",
       "      <th>comment_likecount</th>\n",
       "      <th>comment_replycount</th>\n",
       "    </tr>\n",
       "  </thead>\n",
       "  <tbody>\n",
       "    <tr>\n",
       "      <th>0</th>\n",
       "      <td>F-yEoHL7MYY</td>\n",
       "      <td>UgwN1kGXwi9M7jeOb0d4AaABAg</td>\n",
       "      <td>UCLHsZ4X7YemjxRrvq0AI4LA</td>\n",
       "      <td>Damn dude, even with mimic I think it would ta...</td>\n",
       "      <td>2022-05-02T19:37:22Z</td>\n",
       "      <td>9907.0</td>\n",
       "      <td>47.0</td>\n",
       "    </tr>\n",
       "    <tr>\n",
       "      <th>1</th>\n",
       "      <td>F-yEoHL7MYY</td>\n",
       "      <td>UgwW5nWEkxdES-g3hk54AaABAg</td>\n",
       "      <td>UCJ9VDCLZDmeJIU3Branlstg</td>\n",
       "      <td>This is the pewds that I thought he’d turn int...</td>\n",
       "      <td>2022-12-14T23:36:11Z</td>\n",
       "      <td>6299.0</td>\n",
       "      <td>9.0</td>\n",
       "    </tr>\n",
       "  </tbody>\n",
       "</table>\n",
       "</div>"
      ],
      "text/plain": [
       "      video_id                  comment_id         comment_author_id  \\\n",
       "0  F-yEoHL7MYY  UgwN1kGXwi9M7jeOb0d4AaABAg  UCLHsZ4X7YemjxRrvq0AI4LA   \n",
       "1  F-yEoHL7MYY  UgwW5nWEkxdES-g3hk54AaABAg  UCJ9VDCLZDmeJIU3Branlstg   \n",
       "\n",
       "                                        comment_text          comment_time  \\\n",
       "0  Damn dude, even with mimic I think it would ta...  2022-05-02T19:37:22Z   \n",
       "1  This is the pewds that I thought he’d turn int...  2022-12-14T23:36:11Z   \n",
       "\n",
       "   comment_likecount  comment_replycount  \n",
       "0             9907.0                47.0  \n",
       "1             6299.0                 9.0  "
      ]
     },
     "execution_count": 6,
     "metadata": {},
     "output_type": "execute_result"
    }
   ],
   "source": [
    "# Load the data\n",
    "comment = pd.read_csv(\"../data/comment.csv\")\n",
    "comment.head(2)"
   ]
  },
  {
   "cell_type": "code",
   "execution_count": 7,
   "id": "3af7613b-6557-4f34-82e0-93121776ddea",
   "metadata": {
    "tags": []
   },
   "outputs": [
    {
     "name": "stdout",
     "output_type": "stream",
     "text": [
      "Number of rows: 136463\n",
      "Number of columns: 7\n",
      "\n",
      "Number of missing values: 39\n"
     ]
    }
   ],
   "source": [
    "# Check the dimensions\n",
    "print(f\"Number of rows: {comment.shape[0]}\\n\"\n",
    "      f\"Number of columns: {comment.shape[1]}\\n\")\n",
    "\n",
    "# Check for missing values\n",
    "print(f\"Number of missing values: {comment.isna().sum().sum()}\")"
   ]
  },
  {
   "cell_type": "markdown",
   "id": "97b5f9e8-c05a-401a-a295-2be3d887b12f",
   "metadata": {},
   "source": [
    "_The dataset contains **136,463 comments** collected from action and non-action gaming videos on YouTube.  It features a total of **26 columns** on metadata associated with the channels, videos, and comments.  **184** and **39 missing entries** are detected in the video and comment dataset, respectively; in the subsequent sections, we will address these data quality concerns._    "
   ]
  },
  {
   "cell_type": "markdown",
   "id": "f7d001c7-909b-473f-af1d-0fd62ccca873",
   "metadata": {},
   "source": [
    "<br>"
   ]
  },
  {
   "cell_type": "markdown",
   "id": "23a1203c-7d06-4dd9-993b-fb0270eb30d7",
   "metadata": {},
   "source": [
    "## 2. Data Cleaning"
   ]
  },
  {
   "cell_type": "markdown",
   "id": "19bdc8e9-7e06-4a8e-9693-fcf85a32bcaa",
   "metadata": {},
   "source": [
    "### Convert Data Types"
   ]
  },
  {
   "cell_type": "markdown",
   "id": "503848ed-f391-4be8-86f7-e10ed0e63ded",
   "metadata": {},
   "source": [
    "*Note that the **`video_creation_time`** and **`comment_time`** are represented as **objects**; since these two columns represent dates and times, we will convert them to the more appropriate type **`datetime`** for efficient analysis.*  "
   ]
  },
  {
   "cell_type": "code",
   "execution_count": 8,
   "id": "365c813b-cc11-49c2-85d6-261eea2a8823",
   "metadata": {
    "tags": []
   },
   "outputs": [
    {
     "data": {
      "text/plain": [
       "channel_id              object\n",
       "video_id                object\n",
       "video_title             object\n",
       "video_creation_time     object\n",
       "video_description       object\n",
       "video_duration          object\n",
       "video_tags              object\n",
       "video_viewcount          int64\n",
       "video_likecount          int64\n",
       "video_commentcount     float64\n",
       "video_subtitle_path     object\n",
       "video_subtitle          object\n",
       "video_live                bool\n",
       "video_genre             object\n",
       "dtype: object"
      ]
     },
     "execution_count": 8,
     "metadata": {},
     "output_type": "execute_result"
    }
   ],
   "source": [
    "# Check the data types\n",
    "video.dtypes"
   ]
  },
  {
   "cell_type": "code",
   "execution_count": 9,
   "id": "826679db-1680-4735-ac7c-fd21f46cc5ef",
   "metadata": {
    "tags": []
   },
   "outputs": [
    {
     "data": {
      "text/plain": [
       "video_id               object\n",
       "comment_id             object\n",
       "comment_author_id      object\n",
       "comment_text           object\n",
       "comment_time           object\n",
       "comment_likecount     float64\n",
       "comment_replycount    float64\n",
       "dtype: object"
      ]
     },
     "execution_count": 9,
     "metadata": {},
     "output_type": "execute_result"
    }
   ],
   "source": [
    "# Check the data types\n",
    "comment.dtypes"
   ]
  },
  {
   "cell_type": "code",
   "execution_count": 10,
   "id": "0bda4a1f-ee6b-4e9e-b656-84469146b44b",
   "metadata": {
    "tags": []
   },
   "outputs": [],
   "source": [
    "# Convert to datetime\n",
    "video[\"video_creation_time\"] = pd.to_datetime(video[\"video_creation_time\"])\n",
    "comment[\"comment_time\"] = pd.to_datetime(comment[\"comment_time\"])"
   ]
  },
  {
   "cell_type": "markdown",
   "id": "a6a8630a-84a8-48c3-b29f-608c39025bf1",
   "metadata": {},
   "source": [
    "  "
   ]
  },
  {
   "cell_type": "markdown",
   "id": "42d34048-a8ea-47a1-9e32-4c05c6e6363c",
   "metadata": {},
   "source": [
    "### Parse ISO 8601 Durations"
   ]
  },
  {
   "cell_type": "markdown",
   "id": "89de10cc-569e-49e9-95f2-e94ee56982eb",
   "metadata": {},
   "source": [
    "_Since the video durations are coded in **ISO 8601 format**, we parsed them into the **total number of seconds** to facilitate the analysis._  "
   ]
  },
  {
   "cell_type": "code",
   "execution_count": 11,
   "id": "78ce01b7-cd60-46a1-9341-0bca708d3aaf",
   "metadata": {
    "tags": []
   },
   "outputs": [
    {
     "data": {
      "text/plain": [
       "0    3227.0\n",
       "1     818.0\n",
       "2     570.0\n",
       "3    9328.0\n",
       "4    8522.0\n",
       "Name: video_duration, dtype: float64"
      ]
     },
     "execution_count": 11,
     "metadata": {},
     "output_type": "execute_result"
    }
   ],
   "source": [
    "# Parse duration strings\n",
    "video[\"video_duration\"] = \\\n",
    "    video[\"video_duration\"].apply(isodate.parse_duration)\\\n",
    "                           .apply(lambda x: x.total_seconds())\n",
    "video[\"video_duration\"][:5]"
   ]
  },
  {
   "cell_type": "markdown",
   "id": "c2213f10-46e3-40b5-98c6-f19ca18857c3",
   "metadata": {},
   "source": [
    "  "
   ]
  },
  {
   "cell_type": "markdown",
   "id": "1f752f32-8d0a-45d4-98bb-bda10d1a6d4d",
   "metadata": {},
   "source": [
    "### Handle Missing Values"
   ]
  },
  {
   "cell_type": "markdown",
   "id": "35480390-3c96-48fb-aa1c-821861df3cb7",
   "metadata": {},
   "source": [
    "_Given that the missing entries account for only **0.0585%** of the dataset, we will employ the **deletion** method to handle these missings.  By eliminitating rows that contain missing values, we ensure that our analysis is based on **complete and accurate** information._    "
   ]
  },
  {
   "cell_type": "code",
   "execution_count": 12,
   "id": "486fd961-35f0-4680-8cf4-069d99b8c335",
   "metadata": {
    "tags": []
   },
   "outputs": [
    {
     "data": {
      "text/plain": [
       "channel_id              0\n",
       "video_id                0\n",
       "video_title             0\n",
       "video_creation_time     0\n",
       "video_description      17\n",
       "video_duration          0\n",
       "video_tags              0\n",
       "video_viewcount         0\n",
       "video_likecount         0\n",
       "video_commentcount      3\n",
       "video_subtitle_path    82\n",
       "video_subtitle         82\n",
       "video_live              0\n",
       "video_genre             0\n",
       "dtype: int64"
      ]
     },
     "execution_count": 12,
     "metadata": {},
     "output_type": "execute_result"
    }
   ],
   "source": [
    "# Check the missings\n",
    "video.isna().sum()"
   ]
  },
  {
   "cell_type": "code",
   "execution_count": 13,
   "id": "1f0aee19-a31d-4b81-8bac-f1cc729a4fb1",
   "metadata": {
    "tags": []
   },
   "outputs": [
    {
     "data": {
      "text/plain": [
       "100"
      ]
     },
     "execution_count": 13,
     "metadata": {},
     "output_type": "execute_result"
    }
   ],
   "source": [
    "# Identify videos with missings\n",
    "video_na = video[video.isna().any(axis=1)][\"video_id\"]\n",
    "len(video_na)"
   ]
  },
  {
   "cell_type": "code",
   "execution_count": 14,
   "id": "094f5778-c5fa-41d7-954a-a12e89b04eef",
   "metadata": {
    "tags": []
   },
   "outputs": [
    {
     "data": {
      "text/plain": [
       "video_id               0\n",
       "comment_id             3\n",
       "comment_author_id      3\n",
       "comment_text          12\n",
       "comment_time           7\n",
       "comment_likecount      7\n",
       "comment_replycount     7\n",
       "dtype: int64"
      ]
     },
     "execution_count": 14,
     "metadata": {},
     "output_type": "execute_result"
    }
   ],
   "source": [
    "# Check the missings\n",
    "comment.isna().sum()"
   ]
  },
  {
   "cell_type": "markdown",
   "id": "8f930259-f6e0-4e71-bcb1-3baf5c8695ae",
   "metadata": {},
   "source": [
    "  "
   ]
  },
  {
   "cell_type": "markdown",
   "id": "12661643-af23-4433-afcf-cdc1cb14e1f9",
   "metadata": {},
   "source": [
    "_Upon inspection, we also identified a few **invalid entries** due to **improper handling of carriage returns (\\r)** when writing to CSV. These will be cleaned up in the process of removing missing data._  "
   ]
  },
  {
   "cell_type": "code",
   "execution_count": 15,
   "id": "692409db-63db-4bd6-bcdb-626db827fbdf",
   "metadata": {
    "tags": []
   },
   "outputs": [
    {
     "data": {
      "text/html": [
       "<div>\n",
       "<style scoped>\n",
       "    .dataframe tbody tr th:only-of-type {\n",
       "        vertical-align: middle;\n",
       "    }\n",
       "\n",
       "    .dataframe tbody tr th {\n",
       "        vertical-align: top;\n",
       "    }\n",
       "\n",
       "    .dataframe thead th {\n",
       "        text-align: right;\n",
       "    }\n",
       "</style>\n",
       "<table border=\"1\" class=\"dataframe\">\n",
       "  <thead>\n",
       "    <tr style=\"text-align: right;\">\n",
       "      <th></th>\n",
       "      <th>video_id</th>\n",
       "      <th>comment_id</th>\n",
       "      <th>comment_author_id</th>\n",
       "      <th>comment_text</th>\n",
       "      <th>comment_time</th>\n",
       "      <th>comment_likecount</th>\n",
       "      <th>comment_replycount</th>\n",
       "    </tr>\n",
       "  </thead>\n",
       "  <tbody>\n",
       "    <tr>\n",
       "      <th>34976</th>\n",
       "      <td>1dQH2Gu3SfA</td>\n",
       "      <td>UgxQN_eazMleay2VPfh4AaABAg</td>\n",
       "      <td>UCLwteEET5tXvVLfTYCA3lrw</td>\n",
       "      <td>AHAHAHAHAHAHAHHAHAAI’m dying dude 🤣</td>\n",
       "      <td>NaT</td>\n",
       "      <td>NaN</td>\n",
       "      <td>NaN</td>\n",
       "    </tr>\n",
       "    <tr>\n",
       "      <th>34977</th>\n",
       "      <td>🤣</td>\n",
       "      <td>NaN</td>\n",
       "      <td>NaN</td>\n",
       "      <td>NaN</td>\n",
       "      <td>NaT</td>\n",
       "      <td>NaN</td>\n",
       "      <td>NaN</td>\n",
       "    </tr>\n",
       "    <tr>\n",
       "      <th>34978</th>\n",
       "      <td>🤣</td>\n",
       "      <td>NaN</td>\n",
       "      <td>NaN</td>\n",
       "      <td>NaN</td>\n",
       "      <td>NaT</td>\n",
       "      <td>NaN</td>\n",
       "      <td>NaN</td>\n",
       "    </tr>\n",
       "    <tr>\n",
       "      <th>34979</th>\n",
       "      <td>🤣</td>\n",
       "      <td>NaN</td>\n",
       "      <td>NaN</td>\n",
       "      <td>NaN</td>\n",
       "      <td>NaT</td>\n",
       "      <td>NaN</td>\n",
       "      <td>NaN</td>\n",
       "    </tr>\n",
       "    <tr>\n",
       "      <th>34980</th>\n",
       "      <td>🤣</td>\n",
       "      <td>2021-05-12T19:50:42Z</td>\n",
       "      <td>28</td>\n",
       "      <td>3</td>\n",
       "      <td>NaT</td>\n",
       "      <td>NaN</td>\n",
       "      <td>NaN</td>\n",
       "    </tr>\n",
       "  </tbody>\n",
       "</table>\n",
       "</div>"
      ],
      "text/plain": [
       "          video_id                  comment_id         comment_author_id  \\\n",
       "34976  1dQH2Gu3SfA  UgxQN_eazMleay2VPfh4AaABAg  UCLwteEET5tXvVLfTYCA3lrw   \n",
       "34977            🤣                         NaN                       NaN   \n",
       "34978            🤣                         NaN                       NaN   \n",
       "34979            🤣                         NaN                       NaN   \n",
       "34980            🤣        2021-05-12T19:50:42Z                        28   \n",
       "\n",
       "                              comment_text comment_time  comment_likecount  \\\n",
       "34976  AHAHAHAHAHAHAHHAHAAI’m dying dude 🤣          NaT                NaN   \n",
       "34977                                  NaN          NaT                NaN   \n",
       "34978                                  NaN          NaT                NaN   \n",
       "34979                                  NaN          NaT                NaN   \n",
       "34980                                    3          NaT                NaN   \n",
       "\n",
       "       comment_replycount  \n",
       "34976                 NaN  \n",
       "34977                 NaN  \n",
       "34978                 NaN  \n",
       "34979                 NaN  \n",
       "34980                 NaN  "
      ]
     },
     "execution_count": 15,
     "metadata": {},
     "output_type": "execute_result"
    }
   ],
   "source": [
    "# Inspect invalid entries\n",
    "comment_na = comment[comment.isna().any(axis=1)]\n",
    "comment_na.loc[34976:34980]"
   ]
  },
  {
   "cell_type": "code",
   "execution_count": 16,
   "id": "483c2a1e-640a-43a4-b721-52c0f79c22a7",
   "metadata": {
    "tags": []
   },
   "outputs": [
    {
     "data": {
      "text/html": [
       "<div>\n",
       "<style scoped>\n",
       "    .dataframe tbody tr th:only-of-type {\n",
       "        vertical-align: middle;\n",
       "    }\n",
       "\n",
       "    .dataframe tbody tr th {\n",
       "        vertical-align: top;\n",
       "    }\n",
       "\n",
       "    .dataframe thead th {\n",
       "        text-align: right;\n",
       "    }\n",
       "</style>\n",
       "<table border=\"1\" class=\"dataframe\">\n",
       "  <thead>\n",
       "    <tr style=\"text-align: right;\">\n",
       "      <th></th>\n",
       "      <th>video_id</th>\n",
       "      <th>comment_id</th>\n",
       "      <th>comment_author_id</th>\n",
       "      <th>comment_text</th>\n",
       "      <th>comment_time</th>\n",
       "      <th>comment_likecount</th>\n",
       "      <th>comment_replycount</th>\n",
       "    </tr>\n",
       "  </thead>\n",
       "  <tbody>\n",
       "    <tr>\n",
       "      <th>88113</th>\n",
       "      <td>_6NLLR825u0</td>\n",
       "      <td>Ugz7vZVax-_tWTS9BGR4AaABAg</td>\n",
       "      <td>UC-HUp6Zw68aoi4VLmpYra5g</td>\n",
       "      <td>Can we just stop and take a moment to apprecia...</td>\n",
       "      <td>NaT</td>\n",
       "      <td>NaN</td>\n",
       "      <td>NaN</td>\n",
       "    </tr>\n",
       "    <tr>\n",
       "      <th>88114</th>\n",
       "      <td>LazarBeam does.</td>\n",
       "      <td>2021-09-04T23:03:10Z</td>\n",
       "      <td>5</td>\n",
       "      <td>0</td>\n",
       "      <td>NaT</td>\n",
       "      <td>NaN</td>\n",
       "      <td>NaN</td>\n",
       "    </tr>\n",
       "  </tbody>\n",
       "</table>\n",
       "</div>"
      ],
      "text/plain": [
       "              video_id                  comment_id         comment_author_id  \\\n",
       "88113      _6NLLR825u0  Ugz7vZVax-_tWTS9BGR4AaABAg  UC-HUp6Zw68aoi4VLmpYra5g   \n",
       "88114  LazarBeam does.        2021-09-04T23:03:10Z                         5   \n",
       "\n",
       "                                            comment_text comment_time  \\\n",
       "88113  Can we just stop and take a moment to apprecia...          NaT   \n",
       "88114                                                  0          NaT   \n",
       "\n",
       "       comment_likecount  comment_replycount  \n",
       "88113                NaN                 NaN  \n",
       "88114                NaN                 NaN  "
      ]
     },
     "execution_count": 16,
     "metadata": {},
     "output_type": "execute_result"
    }
   ],
   "source": [
    "# Inspect more invalid entries\n",
    "comment_na.loc[88113:88115]"
   ]
  },
  {
   "cell_type": "markdown",
   "id": "a1b87c10-3fd6-4541-809d-ccd7f1136c4b",
   "metadata": {},
   "source": [
    "  "
   ]
  },
  {
   "cell_type": "code",
   "execution_count": 17,
   "id": "28e8e076-3d37-4681-92da-f76fd5a9c9f0",
   "metadata": {
    "tags": []
   },
   "outputs": [
    {
     "data": {
      "text/plain": [
       "(1307, 14)"
      ]
     },
     "execution_count": 17,
     "metadata": {},
     "output_type": "execute_result"
    }
   ],
   "source": [
    "# Remove the missings\n",
    "video.dropna(inplace=True)\n",
    "video.shape"
   ]
  },
  {
   "cell_type": "code",
   "execution_count": 18,
   "id": "55799110-411e-4504-9f11-610d88a27717",
   "metadata": {
    "tags": []
   },
   "outputs": [
    {
     "data": {
      "text/plain": [
       "(128476, 7)"
      ]
     },
     "execution_count": 18,
     "metadata": {},
     "output_type": "execute_result"
    }
   ],
   "source": [
    "# Cascade Delete for comment\n",
    "comment = comment[~comment[\"video_id\"].isin(video_na)]\n",
    "comment.shape"
   ]
  },
  {
   "cell_type": "code",
   "execution_count": 19,
   "id": "8c547b9f-eb41-41c5-b4ab-3dcb4a1ce589",
   "metadata": {
    "tags": []
   },
   "outputs": [
    {
     "data": {
      "text/plain": [
       "(128461, 7)"
      ]
     },
     "execution_count": 19,
     "metadata": {},
     "output_type": "execute_result"
    }
   ],
   "source": [
    "# Remove the missings\n",
    "comment.dropna(inplace=True)\n",
    "comment.shape"
   ]
  },
  {
   "cell_type": "markdown",
   "id": "646b7ea7-35c3-4ab7-8a25-df043ad20da1",
   "metadata": {},
   "source": [
    "_Following the removal of missing entries, our dataset now comprises **128,461 comments** across **1,307 distinct videos**._  "
   ]
  },
  {
   "cell_type": "markdown",
   "id": "6cbfa059-4c07-4ec0-af3e-d554219fe207",
   "metadata": {},
   "source": [
    "   "
   ]
  },
  {
   "cell_type": "markdown",
   "id": "476acd5d-d066-464c-ae47-f0704cd76643",
   "metadata": {},
   "source": [
    "### Check Duplicate Entries"
   ]
  },
  {
   "cell_type": "markdown",
   "id": "174e1232-94f9-4c66-b6d6-9cb3edbe7595",
   "metadata": {},
   "source": [
    "_In the previous iteration, we discovered 4 videos that were categorized as both action and non-action. To address this, we implemented a **duplicate check** to **prevent overlapping genres**._  "
   ]
  },
  {
   "cell_type": "code",
   "execution_count": 20,
   "id": "239ee46a-e775-4a2f-bc4e-dc0ccbb81bf6",
   "metadata": {
    "tags": []
   },
   "outputs": [
    {
     "data": {
      "text/html": [
       "<div>\n",
       "<style scoped>\n",
       "    .dataframe tbody tr th:only-of-type {\n",
       "        vertical-align: middle;\n",
       "    }\n",
       "\n",
       "    .dataframe tbody tr th {\n",
       "        vertical-align: top;\n",
       "    }\n",
       "\n",
       "    .dataframe thead th {\n",
       "        text-align: right;\n",
       "    }\n",
       "</style>\n",
       "<table border=\"1\" class=\"dataframe\">\n",
       "  <thead>\n",
       "    <tr style=\"text-align: right;\">\n",
       "      <th></th>\n",
       "      <th>channel_id</th>\n",
       "      <th>video_id</th>\n",
       "      <th>video_title</th>\n",
       "      <th>video_creation_time</th>\n",
       "      <th>video_description</th>\n",
       "      <th>video_duration</th>\n",
       "      <th>video_tags</th>\n",
       "      <th>video_viewcount</th>\n",
       "      <th>video_likecount</th>\n",
       "      <th>video_commentcount</th>\n",
       "      <th>video_subtitle_path</th>\n",
       "      <th>video_subtitle</th>\n",
       "      <th>video_live</th>\n",
       "      <th>video_genre</th>\n",
       "    </tr>\n",
       "  </thead>\n",
       "  <tbody>\n",
       "  </tbody>\n",
       "</table>\n",
       "</div>"
      ],
      "text/plain": [
       "Empty DataFrame\n",
       "Columns: [channel_id, video_id, video_title, video_creation_time, video_description, video_duration, video_tags, video_viewcount, video_likecount, video_commentcount, video_subtitle_path, video_subtitle, video_live, video_genre]\n",
       "Index: []"
      ]
     },
     "execution_count": 20,
     "metadata": {},
     "output_type": "execute_result"
    }
   ],
   "source": [
    "# Check duplicate videos\n",
    "video[video.duplicated(subset=\"video_id\", keep=False)]"
   ]
  },
  {
   "cell_type": "code",
   "execution_count": 21,
   "id": "669c3802-429a-43b4-a641-300fcd02a5cc",
   "metadata": {
    "tags": []
   },
   "outputs": [
    {
     "data": {
      "text/html": [
       "<div>\n",
       "<style scoped>\n",
       "    .dataframe tbody tr th:only-of-type {\n",
       "        vertical-align: middle;\n",
       "    }\n",
       "\n",
       "    .dataframe tbody tr th {\n",
       "        vertical-align: top;\n",
       "    }\n",
       "\n",
       "    .dataframe thead th {\n",
       "        text-align: right;\n",
       "    }\n",
       "</style>\n",
       "<table border=\"1\" class=\"dataframe\">\n",
       "  <thead>\n",
       "    <tr style=\"text-align: right;\">\n",
       "      <th></th>\n",
       "      <th>video_id</th>\n",
       "      <th>comment_id</th>\n",
       "      <th>comment_author_id</th>\n",
       "      <th>comment_text</th>\n",
       "      <th>comment_time</th>\n",
       "      <th>comment_likecount</th>\n",
       "      <th>comment_replycount</th>\n",
       "    </tr>\n",
       "  </thead>\n",
       "  <tbody>\n",
       "  </tbody>\n",
       "</table>\n",
       "</div>"
      ],
      "text/plain": [
       "Empty DataFrame\n",
       "Columns: [video_id, comment_id, comment_author_id, comment_text, comment_time, comment_likecount, comment_replycount]\n",
       "Index: []"
      ]
     },
     "execution_count": 21,
     "metadata": {},
     "output_type": "execute_result"
    }
   ],
   "source": [
    "# Check duplicate comments\n",
    "comment[comment.duplicated(keep=False)]"
   ]
  },
  {
   "cell_type": "markdown",
   "id": "e8e3096e-d6ad-482d-a488-6c9846ce6629",
   "metadata": {},
   "source": [
    "  "
   ]
  },
  {
   "cell_type": "markdown",
   "id": "615d887b-7ec9-45db-a1ae-3cb15fdbc99b",
   "metadata": {},
   "source": [
    "### Remove Sparse Channels"
   ]
  },
  {
   "cell_type": "markdown",
   "id": "860e1291-b29e-4e0d-b6b1-a0ce6c3193e1",
   "metadata": {},
   "source": [
    "_Our initial plan was to exclude sparse channels with a **very low count of videos** to **minimize bias in channel-level analyses**. However, we decided to retain these channels at this stage to explore interesting patterns from specific channels (IShowSpeed) that would have otherwise been removed._  "
   ]
  },
  {
   "cell_type": "code",
   "execution_count": 22,
   "id": "0ee35a5a-d5ab-4c68-92e3-09efaa4bd0f4",
   "metadata": {
    "tags": []
   },
   "outputs": [
    {
     "data": {
      "text/html": [
       "<div>\n",
       "<style scoped>\n",
       "    .dataframe tbody tr th:only-of-type {\n",
       "        vertical-align: middle;\n",
       "    }\n",
       "\n",
       "    .dataframe tbody tr th {\n",
       "        vertical-align: top;\n",
       "    }\n",
       "\n",
       "    .dataframe thead th {\n",
       "        text-align: right;\n",
       "    }\n",
       "</style>\n",
       "<table border=\"1\" class=\"dataframe\">\n",
       "  <thead>\n",
       "    <tr style=\"text-align: right;\">\n",
       "      <th></th>\n",
       "      <th>channel_id</th>\n",
       "      <th>action</th>\n",
       "      <th>non-action</th>\n",
       "      <th>video_count</th>\n",
       "    </tr>\n",
       "  </thead>\n",
       "  <tbody>\n",
       "    <tr>\n",
       "      <th>16</th>\n",
       "      <td>UCWsDFcIhY2DBi3GB5uykGXA</td>\n",
       "      <td>5</td>\n",
       "      <td>0</td>\n",
       "      <td>5</td>\n",
       "    </tr>\n",
       "    <tr>\n",
       "      <th>13</th>\n",
       "      <td>UCMNmwqCtCSpftrbvR3KkHDA</td>\n",
       "      <td>0</td>\n",
       "      <td>6</td>\n",
       "      <td>6</td>\n",
       "    </tr>\n",
       "    <tr>\n",
       "      <th>6</th>\n",
       "      <td>UCAW-NpUFkMyCNrvRSSGIvDQ</td>\n",
       "      <td>4</td>\n",
       "      <td>5</td>\n",
       "      <td>9</td>\n",
       "    </tr>\n",
       "    <tr>\n",
       "      <th>25</th>\n",
       "      <td>UCpGdL9Sn3Q5YWUH2DVUW1Ug</td>\n",
       "      <td>0</td>\n",
       "      <td>30</td>\n",
       "      <td>30</td>\n",
       "    </tr>\n",
       "    <tr>\n",
       "      <th>12</th>\n",
       "      <td>UCKy1dAqELo0zrOtPkf0eTMw</td>\n",
       "      <td>14</td>\n",
       "      <td>16</td>\n",
       "      <td>30</td>\n",
       "    </tr>\n",
       "    <tr>\n",
       "      <th>10</th>\n",
       "      <td>UCJZam2u1G0syq3kyqrCXrNw</td>\n",
       "      <td>1</td>\n",
       "      <td>30</td>\n",
       "      <td>31</td>\n",
       "    </tr>\n",
       "    <tr>\n",
       "      <th>28</th>\n",
       "      <td>UCw1SQ6QRRtfAhrN_cjkrOgA</td>\n",
       "      <td>30</td>\n",
       "      <td>30</td>\n",
       "      <td>60</td>\n",
       "    </tr>\n",
       "    <tr>\n",
       "      <th>1</th>\n",
       "      <td>UC0DZmkupLYwc0yDsfocLh0A</td>\n",
       "      <td>30</td>\n",
       "      <td>30</td>\n",
       "      <td>60</td>\n",
       "    </tr>\n",
       "    <tr>\n",
       "      <th>15</th>\n",
       "      <td>UCVAYy7_zddIx6USjXscV9Vg</td>\n",
       "      <td>30</td>\n",
       "      <td>30</td>\n",
       "      <td>60</td>\n",
       "    </tr>\n",
       "  </tbody>\n",
       "</table>\n",
       "</div>"
      ],
      "text/plain": [
       "                  channel_id  action  non-action  video_count\n",
       "16  UCWsDFcIhY2DBi3GB5uykGXA       5           0            5\n",
       "13  UCMNmwqCtCSpftrbvR3KkHDA       0           6            6\n",
       "6   UCAW-NpUFkMyCNrvRSSGIvDQ       4           5            9\n",
       "25  UCpGdL9Sn3Q5YWUH2DVUW1Ug       0          30           30\n",
       "12  UCKy1dAqELo0zrOtPkf0eTMw      14          16           30\n",
       "10  UCJZam2u1G0syq3kyqrCXrNw       1          30           31\n",
       "28  UCw1SQ6QRRtfAhrN_cjkrOgA      30          30           60\n",
       "1   UC0DZmkupLYwc0yDsfocLh0A      30          30           60\n",
       "15  UCVAYy7_zddIx6USjXscV9Vg      30          30           60"
      ]
     },
     "execution_count": 22,
     "metadata": {},
     "output_type": "execute_result"
    }
   ],
   "source": [
    "# Number of videos in each genre for each channel\n",
    "channel_video_counts = \\\n",
    "    video.groupby([\"channel_id\", \"video_genre\"])[\"video_id\"].count()\\\n",
    "         .reset_index(name=\"video_count\")\\\n",
    "         .pivot_table(index=\"channel_id\",\n",
    "                      columns=\"video_genre\",\n",
    "                      values=\"video_count\",\n",
    "                      fill_value=0)\\\n",
    "         .reset_index()\\\n",
    "         .rename_axis(None, axis=1)\n",
    "\n",
    "# Fix data types\n",
    "channel_video_counts[\"action\"] = channel_video_counts[\"action\"].astype(int)\n",
    "channel_video_counts[\"non-action\"] = channel_video_counts[\"non-action\"].astype(int)\n",
    "\n",
    "# Compute total video count\n",
    "channel_video_counts[\"video_count\"] = channel_video_counts[\"action\"] + channel_video_counts[\"non-action\"]\n",
    "pd.concat([channel_video_counts.sort_values(by = \"video_count\").head(6),\\\n",
    "           channel_video_counts.sort_values(by = \"video_count\").tail(3)])"
   ]
  },
  {
   "cell_type": "code",
   "execution_count": 23,
   "id": "46176504-c060-4b13-86db-400a3d2ed378",
   "metadata": {
    "tags": []
   },
   "outputs": [
    {
     "data": {
      "text/plain": [
       "6     UCAW-NpUFkMyCNrvRSSGIvDQ\n",
       "13    UCMNmwqCtCSpftrbvR3KkHDA\n",
       "16    UCWsDFcIhY2DBi3GB5uykGXA\n",
       "Name: channel_id, dtype: object"
      ]
     },
     "execution_count": 23,
     "metadata": {},
     "output_type": "execute_result"
    }
   ],
   "source": [
    "# Calculate video counts for each channel\n",
    "video_counts = video.groupby(\"channel_id\")[\"video_id\"].count()\\\n",
    "                    .reset_index(name=\"video_count\")\n",
    "\n",
    "# Identify channels with fewer than 10 videos\n",
    "channel_sparse = video_counts[video_counts[\"video_count\"] < 10][\"channel_id\"]\n",
    "channel_sparse"
   ]
  },
  {
   "cell_type": "code",
   "execution_count": 24,
   "id": "3ffcf922-e642-4a34-ab4e-adcfa44091ab",
   "metadata": {
    "tags": []
   },
   "outputs": [],
   "source": [
    "# # Remove sparse channels\n",
    "# channel = channel[~channel[\"channel_id\"].isin(channel_sparse)]\n",
    "# channel.shape"
   ]
  },
  {
   "cell_type": "code",
   "execution_count": 25,
   "id": "daeebbfe-2882-4687-ac84-516fcdcf3b1e",
   "metadata": {
    "tags": []
   },
   "outputs": [],
   "source": [
    "# # Identify videos from sparse channels\n",
    "# video_sparse = video[video[\"channel_id\"].isin(channel_sparse)][\"video_id\"]\n",
    "# len(video_sparse)"
   ]
  },
  {
   "cell_type": "code",
   "execution_count": 26,
   "id": "f49eb886-ea9a-4c47-95c9-03515352efaf",
   "metadata": {
    "tags": []
   },
   "outputs": [],
   "source": [
    "# # Cascade delete videos in sparse channels\n",
    "# video = video[~video[\"video_id\"].isin(video_sparse)]\n",
    "# video.shape"
   ]
  },
  {
   "cell_type": "code",
   "execution_count": 27,
   "id": "510c3461-6243-4be6-aaee-ffe676bcf671",
   "metadata": {
    "tags": []
   },
   "outputs": [],
   "source": [
    "# # Cascade delete comments from videos in sparse channels\n",
    "# comment = comment[~comment[\"video_id\"].isin(video_sparse)]\n",
    "# comment.shape"
   ]
  },
  {
   "cell_type": "markdown",
   "id": "a26e8d91-06ee-4f7c-9edd-f5d8cb51012f",
   "metadata": {},
   "source": [
    "<br>"
   ]
  },
  {
   "cell_type": "markdown",
   "id": "f62dd869-0b53-4d64-9890-2fea5235ac88",
   "metadata": {},
   "source": [
    "## 3. Feature Engineering"
   ]
  },
  {
   "cell_type": "markdown",
   "id": "7581f0d2-f696-4dcf-8a99-d67091c56f4e",
   "metadata": {},
   "source": [
    "_By **transforming existing variables**, we derived several new features relevant to our analysis._  "
   ]
  },
  {
   "cell_type": "markdown",
   "id": "6a03d18c-7f8e-4c7d-a7e7-cc5a243b0930",
   "metadata": {},
   "source": [
    "  "
   ]
  },
  {
   "cell_type": "markdown",
   "id": "5bdd1d37-e54b-43c5-be3a-a9bb112ff397",
   "metadata": {},
   "source": [
    "### Video: Game Involved"
   ]
  },
  {
   "cell_type": "markdown",
   "id": "7acf701c-1047-4f9c-b5d2-b48d0c9f579c",
   "metadata": {},
   "source": [
    "*`video_game` labels the **game referenced** in the video title, enabling more nuanced analysis on a **per-game basis**.*     "
   ]
  },
  {
   "cell_type": "code",
   "execution_count": 28,
   "id": "113aea87-c0fe-43d7-9ab8-5889707cb08b",
   "metadata": {
    "tags": []
   },
   "outputs": [
    {
     "data": {
      "text/plain": [
       "0       elden ring\n",
       "1       elden ring\n",
       "2              gta\n",
       "3    resident evil\n",
       "4    resident evil\n",
       "Name: video_game, dtype: object"
      ]
     },
     "execution_count": 28,
     "metadata": {},
     "output_type": "execute_result"
    }
   ],
   "source": [
    "# Game keywords\n",
    "games = [\n",
    "    \"call of duty\", \"gta\", \"the last of us\", \"god of war\", \"cyberpunk\", \n",
    "    \"red dead redemption\", \"fallout\", \"elden ring\", \"assassin's creed\", \n",
    "    \"star wars jedi\", \"resident evil\", \"tomb raider\", \"minecraft\", \n",
    "    \"pokemon go\", \"just dance\", \"it takes two\", \"uncharted\", \"brawl stars\"\n",
    "]\n",
    "\n",
    "# Extract the game from video titles\n",
    "video[\"video_game\"] = video[\"video_title\"]\\\n",
    "    .apply(lambda title: \", \".join([g for g in games if g.lower() in title.lower()]))\n",
    "video[\"video_game\"][:5]"
   ]
  },
  {
   "cell_type": "markdown",
   "id": "b5d8c778-f340-4ae7-990a-1e2c928cd50d",
   "metadata": {},
   "source": [
    "  "
   ]
  },
  {
   "cell_type": "markdown",
   "id": "907b763a-361f-441d-a9d0-4e50cda913f0",
   "metadata": {},
   "source": [
    "### Video: Blocked Words"
   ]
  },
  {
   "cell_type": "markdown",
   "id": "054156be-6b71-4dd2-9063-17fb3acb19a4",
   "metadata": {},
   "source": [
    "_We noticed that **YouTube automatically blocks certain profanities** in its video subtitles.  Given that this would likely **systematically lower perceived video toxicity scores**, we extracted the metrics, counts and proportions of **censored words in video subtitles**, as a **supplementary dimension** to video toxicity assessment._  "
   ]
  },
  {
   "cell_type": "code",
   "execution_count": 29,
   "id": "ce4371b5-33e7-4493-8dea-f467df9f85a1",
   "metadata": {
    "tags": []
   },
   "outputs": [
    {
     "data": {
      "text/html": [
       "<div>\n",
       "<style scoped>\n",
       "    .dataframe tbody tr th:only-of-type {\n",
       "        vertical-align: middle;\n",
       "    }\n",
       "\n",
       "    .dataframe tbody tr th {\n",
       "        vertical-align: top;\n",
       "    }\n",
       "\n",
       "    .dataframe thead th {\n",
       "        text-align: right;\n",
       "    }\n",
       "</style>\n",
       "<table border=\"1\" class=\"dataframe\">\n",
       "  <thead>\n",
       "    <tr style=\"text-align: right;\">\n",
       "      <th></th>\n",
       "      <th>video_wordcount</th>\n",
       "      <th>video_blocked_wordcount</th>\n",
       "      <th>video_blocked_proportion</th>\n",
       "    </tr>\n",
       "  </thead>\n",
       "  <tbody>\n",
       "    <tr>\n",
       "      <th>0</th>\n",
       "      <td>8913</td>\n",
       "      <td>32</td>\n",
       "      <td>0.003590</td>\n",
       "    </tr>\n",
       "    <tr>\n",
       "      <th>1</th>\n",
       "      <td>1607</td>\n",
       "      <td>19</td>\n",
       "      <td>0.011823</td>\n",
       "    </tr>\n",
       "    <tr>\n",
       "      <th>2</th>\n",
       "      <td>1277</td>\n",
       "      <td>3</td>\n",
       "      <td>0.002349</td>\n",
       "    </tr>\n",
       "    <tr>\n",
       "      <th>3</th>\n",
       "      <td>11485</td>\n",
       "      <td>152</td>\n",
       "      <td>0.013235</td>\n",
       "    </tr>\n",
       "    <tr>\n",
       "      <th>4</th>\n",
       "      <td>9941</td>\n",
       "      <td>150</td>\n",
       "      <td>0.015089</td>\n",
       "    </tr>\n",
       "  </tbody>\n",
       "</table>\n",
       "</div>"
      ],
      "text/plain": [
       "   video_wordcount  video_blocked_wordcount  video_blocked_proportion\n",
       "0             8913                       32                  0.003590\n",
       "1             1607                       19                  0.011823\n",
       "2             1277                        3                  0.002349\n",
       "3            11485                      152                  0.013235\n",
       "4             9941                      150                  0.015089"
      ]
     },
     "execution_count": 29,
     "metadata": {},
     "output_type": "execute_result"
    }
   ],
   "source": [
    "# Define regex pattern to match \"[ __ ]\"\n",
    "pattern = r\"\\[\\s*[_]+\\s*\\]\"\n",
    "\n",
    "# Count occurrences of blocked words in video subtitle\n",
    "video[\"video_wordcount\"] = video[\"video_subtitle\"].apply(lambda x: len(x.split()))\n",
    "video[\"video_blocked_wordcount\"] = video[\"video_subtitle\"].str.count(pattern)\n",
    "video[\"video_blocked_proportion\"] = video[\"video_blocked_wordcount\"] /video[\"video_wordcount\"]\n",
    "video[[\"video_wordcount\", \"video_blocked_wordcount\", \"video_blocked_proportion\"]][:5]"
   ]
  },
  {
   "cell_type": "markdown",
   "id": "5ffab682-97db-4514-b2b6-51a2fe309a55",
   "metadata": {},
   "source": [
    "  "
   ]
  },
  {
   "cell_type": "markdown",
   "id": "46de186b-7496-462f-b73b-4cd02a44cd80",
   "metadata": {},
   "source": [
    "### Video: Speaking Speed"
   ]
  },
  {
   "cell_type": "markdown",
   "id": "a17e233f-b456-4bba-925b-115e270f4682",
   "metadata": {},
   "source": [
    "*`video_speed` denotes the **speaking speed** of the YouTuber, computed as **number of words per second** within each video.  We hypothesize that toxicity in comments may be related to the talking speed in video.  Videos with a **faster speaking rate** may evoke **heightened emotional state** in viewers, **intensifying subsequent reactions** to leave aggressive comments, thereby **elevating the perceived toxicity**.  Since we do not have audio features such as vocal pitch, `video_speed` acts as a **simplified proxy** for assessing this impact.*  \n",
    "\n",
    "_However, there is a **significant limitation** in this approach - we did not take into account the **pauses in commentary**, which often occur as players focus on gameplay.  These breaks in speech can **misrepresent** the actual speaking speed; consequently, this variable was not used in our analysis due to concerns over its reliability._  "
   ]
  },
  {
   "cell_type": "code",
   "execution_count": 30,
   "id": "66a533a2-232c-4e5d-937e-4b1b27ca64aa",
   "metadata": {
    "tags": []
   },
   "outputs": [
    {
     "data": {
      "text/plain": [
       "0    2.762008\n",
       "1    1.964548\n",
       "2    2.240351\n",
       "3    1.231239\n",
       "4    1.166510\n",
       "Name: video_speed, dtype: float64"
      ]
     },
     "execution_count": 30,
     "metadata": {},
     "output_type": "execute_result"
    }
   ],
   "source": [
    "# Extract words per second for videos\n",
    "video[\"video_speed\"] = video[\"video_wordcount\"] / video[\"video_duration\"]\n",
    "video[\"video_speed\"][:5]"
   ]
  },
  {
   "cell_type": "markdown",
   "id": "a068c74a-054a-4b65-b817-2496367456b5",
   "metadata": {},
   "source": [
    "<br>"
   ]
  },
  {
   "cell_type": "markdown",
   "id": "825eaabb-d622-4f0b-8e74-ed0f1d80d5b0",
   "metadata": {},
   "source": [
    "## 4. Content Labeling: Part I"
   ]
  },
  {
   "cell_type": "code",
   "execution_count": 31,
   "id": "deacb0ad-7d57-4534-ba27-728ee650087f",
   "metadata": {
    "tags": []
   },
   "outputs": [
    {
     "data": {
      "text/plain": [
       "0    Damn dude, even with mimic I think it would ta...\n",
       "1    This is the pewds that I thought he’d turn int...\n",
       "2    This is actually awesome. Can't believe a meme...\n",
       "3    Wow, didn't even know Pewds had this analytica...\n",
       "4    Damn, i cant believe it took me 11 months afte...\n",
       "Name: comment_text, dtype: object"
      ]
     },
     "execution_count": 31,
     "metadata": {},
     "output_type": "execute_result"
    }
   ],
   "source": [
    "# Extract the comments\n",
    "comments = comment[\"comment_text\"]\n",
    "comments[:5]"
   ]
  },
  {
   "cell_type": "code",
   "execution_count": 32,
   "id": "28882b7b-91f6-42c9-a43a-78fd5be2bc9c",
   "metadata": {
    "tags": []
   },
   "outputs": [
    {
     "data": {
      "text/plain": [
       "0    i have beaten all souls games without dying a ...\n",
       "1    ah you ready yes we're ready eldon ring baby l...\n",
       "2    but the new gta game is iron and it's not what...\n",
       "3    [Music] hello good morning gamers early today ...\n",
       "4    [Music] so [Music] yes welcome welcome welcome...\n",
       "Name: video_subtitle, dtype: object"
      ]
     },
     "execution_count": 32,
     "metadata": {},
     "output_type": "execute_result"
    }
   ],
   "source": [
    "# Extract the subtitles\n",
    "subtitles = video[\"video_subtitle\"]\n",
    "subtitles[:5]"
   ]
  },
  {
   "cell_type": "markdown",
   "id": "f2fe913e-0fb5-440b-8a7e-d36b6f5ac943",
   "metadata": {},
   "source": [
    "  "
   ]
  },
  {
   "cell_type": "markdown",
   "id": "5828286e-d50b-482a-a229-6ce3117d9fe1",
   "metadata": {},
   "source": [
    "### Toxicity Annotation"
   ]
  },
  {
   "cell_type": "markdown",
   "id": "1bcf9932-3172-460d-93e4-e7a6e95282c2",
   "metadata": {},
   "source": [
    "_Acquiring the toxicity labels is crucial for analyzing toxicity in comments.  However, manually annotating nearly 130,000 comments is **impractical** given the large volume and resource limitations.  Thus, to effectively **quantify the level of toxicity** in comments, we will leverage the **[Perspective API](https://perspectiveapi.com/)** to obtain our true labels.  To **retain the original context**, we applied the algorithm directly to the raw texts._   "
   ]
  },
  {
   "cell_type": "markdown",
   "id": "15930720-2cef-46db-b699-000a22c61c1e",
   "metadata": {},
   "source": [
    "**Quota Limits and Throttling Management**  \n",
    "\n",
    "*The Perspective API, however, enforces a **[quota limit](https://developers.perspectiveapi.com/s/about-the-api-limits-and-errors?language=en_US)** of **1 query per second (QPS)** for each project.  Despite the **lack of batch processing** support, we have devised a **throttling management** strategy that incorporates **key rotation** and **exponential backoff** to efficiently manage this constraint.*    \n",
    "\n",
    "*Our approach involves cycling through **10 different API keys** and their respective **pre-built clients**, enhancing our query capacity within the API's quota restrictions.  Furthermore, an **exponential backoff** mechanism is enforced to manage **retries** following any quota breaches or server errors.  This method will **systematically increase the delay between subsequent requests**, thereby minimizing the likelihood of successive failures and mitigating the impact on the API server. (See Latency & Reliability Section in [Limits and Error](https://developers.perspectiveapi.com/s/about-the-api-limits-and-errors?language=en_US))*  \n",
    "\n",
    "_Additional features such as **logging** and **exception handling** are integrated to support **monitoring** and **troubleshooting**, facilitating a smooth and efficient data labeling process.  These measures collectively **reduce the projected processing time** from an initial estimate of **3.37 days** to **less than 6 hours**._    "
   ]
  },
  {
   "cell_type": "markdown",
   "id": "3cdbd7bf-c3bc-43f5-90fc-f7c3d5f30e9a",
   "metadata": {},
   "source": [
    "**Video Toxicity and Byte Limits**   \n",
    "\n",
    "*When evaluating the toxicity levels within video transcripts, we encountered **[limitations](https://developers.perspectiveapi.com/s/about-the-api-limits-and-errors?language=en_US) with processing long texts exceeding 20,480 bytes**.  Moreover, Perspective API is optimally designed for shorter, **comment-length documents** as it was originally trained on comments (See [Model Cards](https://developers.perspectiveapi.com/s/about-the-api-model-cards?language=en_US)).*    \n",
    "\n",
    "*To overcome this issue, we implemented two functions. In **`split_text`**, we split the transcript into **overlapping chunks of 100 words**, **preserving the context** and accounting for the fact that these chunks are **not independent**. In **`calculate_proportion`**, we computed the **weight** of each chunk and assigned **lower weights to overlapping words**. We then compute the **weighted average** of the scores for each chunk as the **\"perceived video toxicity\"**.*    "
   ]
  },
  {
   "cell_type": "code",
   "execution_count": 33,
   "id": "f9458940-51b6-46f3-85bc-19c3ca2e75ae",
   "metadata": {
    "tags": []
   },
   "outputs": [],
   "source": [
    "# Import the libraries\n",
    "import itertools\n",
    "import logging\n",
    "from googleapiclient import discovery\n",
    "from googleapiclient.errors import HttpError"
   ]
  },
  {
   "cell_type": "code",
   "execution_count": 34,
   "id": "e3bb8490-821a-4208-89f3-fe5f2e17956e",
   "metadata": {
    "tags": []
   },
   "outputs": [],
   "source": [
    "# Configure logging to file\n",
    "logging.basicConfig(\n",
    "    filename=\"../logs/toxicity.log\",\n",
    "    level=logging.INFO,  # Log info, warning, error, critical\n",
    "    format=\"%(asctime)s - %(levelname)s - %(message)s\",\n",
    "    filemode=\"w\"  # Overwrite on each run\n",
    ")"
   ]
  },
  {
   "cell_type": "code",
   "execution_count": 35,
   "id": "c175f3c1-9108-4d86-bff5-4abd2dc11157",
   "metadata": {
    "tags": []
   },
   "outputs": [],
   "source": [
    "# The Perspective API keys\n",
    "PERSPECTIVE_API_KEYS = [\n",
    "    \"\"\n",
    "]\n",
    "\n",
    "def build_client(api_key):\n",
    "    \"\"\"\n",
    "    Build a client for a given Perspective API key.\n",
    "    \"\"\"\n",
    "    # Create a client object\n",
    "    # Reference: https://developers.google.com/codelabs/setup-perspective-api#4\n",
    "    client = discovery.build(\n",
    "        \"commentanalyzer\",  # Name\n",
    "        \"vlalpha1\",  # Version\n",
    "        developerKey=api_key,\n",
    "        discoveryServiceUrl=\"https://commentanalyzer.googleapis.com/$discovery/rest?version=v1alpha1\",\n",
    "        static_discovery=False\n",
    "    )\n",
    "    return client\n",
    "\n",
    "# Pre-build a client for each API key\n",
    "clients = {key: build_client(key) for key in PERSPECTIVE_API_KEYS}\n",
    "\n",
    "# Set up the iterator\n",
    "api_key_iterator = itertools.cycle(PERSPECTIVE_API_KEYS)"
   ]
  },
  {
   "cell_type": "code",
   "execution_count": 36,
   "id": "8fbb96f9-0b0e-410a-94d6-8adcb0b2f0da",
   "metadata": {
    "tags": []
   },
   "outputs": [],
   "source": [
    "def split_text(text, size=40, overlap=10):\n",
    "    \"\"\"\n",
    "    Split the given text into overlapping chunks.\n",
    "    \"\"\"\n",
    "    chunks = []\n",
    "    words = text.split()\n",
    "    total_words = len(words)\n",
    "    start = 0\n",
    "    \n",
    "    while start < total_words:\n",
    "        # Set the end index\n",
    "        end = start + size\n",
    "        # Check if this is the last chunk\n",
    "        if end >= total_words:\n",
    "            # Add the last chunk and break\n",
    "            chunks.append(\" \".join(words[start:total_words]))\n",
    "            break\n",
    "        else:\n",
    "            chunks.append(\" \".join(words[start:end]))\n",
    "        # Update the start index\n",
    "        start = end - overlap\n",
    "    return chunks"
   ]
  },
  {
   "cell_type": "code",
   "execution_count": 37,
   "id": "08a8439a-1cff-4d1e-af89-5ce0ccb2633c",
   "metadata": {
    "tags": []
   },
   "outputs": [],
   "source": [
    "def calculate_proportions(chunks, overlap=10):\n",
    "    \"\"\"\n",
    "    Calculate the proportion of each chunk.  \n",
    "    Assign lower weight to overlapping words.\n",
    "    \"\"\"\n",
    "    proportions = []\n",
    "    n = len(chunks)\n",
    "\n",
    "    # Calculate total number of words\n",
    "    total_words = sum(len(chunk.split()) for chunk in chunks) - (n - 1) * overlap\n",
    "\n",
    "    # If only one chunk, set proportion to 1\n",
    "    if n == 1:\n",
    "        proportions.append(1)\n",
    "        return proportions\n",
    "        \n",
    "    for i, chunk in enumerate(chunks):\n",
    "        count = len(chunk.split())\n",
    "        # Number of overlaps for middle chunks\n",
    "        overlap_count = overlap\n",
    "        # Number of overlaps for first and last chunk\n",
    "        if i == 0 or i == n - 1:\n",
    "            overlap_count = overlap / 2\n",
    "        \n",
    "        # Compute the proportion\n",
    "        proportions.append((count - overlap_count) / total_words)\n",
    "\n",
    "    return proportions"
   ]
  },
  {
   "cell_type": "code",
   "execution_count": 38,
   "id": "ec62f9df-01d9-484a-8d91-727f8c56392e",
   "metadata": {
    "tags": []
   },
   "outputs": [],
   "source": [
    "def perspective_toxicity(texts, prefix, size=40, overlap=10, split=False):\n",
    "    \"\"\"\n",
    "    Compute Perspective toxicity scores for a given list of texts.\n",
    "    Support throttling management w/ client reuse, key rotation, and \n",
    "    exponential backoff.\n",
    "    \"\"\"\n",
    "    # Start timing\n",
    "    start_time = time.time()\n",
    "    \n",
    "    # Empty list to store toxicity scores\n",
    "    scores = []\n",
    "\n",
    "    # Loop through the texts\n",
    "    for index, text in enumerate(texts):  \n",
    "        # Default to single chunk \n",
    "        chunks = [text]\n",
    "        proportions = [1]\n",
    "        \n",
    "        # If text splitting is enabled\n",
    "        if split:\n",
    "            chunks = split_text(text, size, overlap)\n",
    "            proportions = calculate_proportions(chunks, overlap)\n",
    "            logging.info(f\"Processing subtitle #{index}: {len(text.split())} words; {len(chunks)} chunk(s).\")\n",
    "\n",
    "        # Empty list to store chunk scores\n",
    "        temp_scores = []\n",
    "        \n",
    "        for chunk_index, (chunk, proportion) in enumerate(zip(chunks, proportions)):\n",
    "            # Specify the text and attributes\n",
    "            analyze_request = {\n",
    "                \"comment\": {\"text\": chunk},\n",
    "                \"languages\": [\"en\"],\n",
    "                \"requestedAttributes\": {\n",
    "                    \"TOXICITY\": {},\n",
    "                    \"SEVERE_TOXICITY\": {},\n",
    "                    \"IDENTITY_ATTACK\": {},\n",
    "                    \"INSULT\": {},\n",
    "                    \"PROFANITY\": {},\n",
    "                    \"THREAT\": {}}\n",
    "            }\n",
    "        \n",
    "            # Reset attempt count for each text\n",
    "            attempt = 0\n",
    "            # Attempts allowed\n",
    "            max_attempts = len(PERSPECTIVE_API_KEYS) * 5  # Number of keys * Attempts per key\n",
    "\n",
    "            # While retry attempts are not exhausted\n",
    "            while attempt < max_attempts:\n",
    "                # Rotate to the next API key\n",
    "                current_key = next(api_key_iterator)\n",
    "                client = clients[current_key]\n",
    "\n",
    "                try:\n",
    "                    res = client.comments().analyze(body=analyze_request).execute()\n",
    "                    s = res[\"attributeScores\"]\n",
    "                    temp_scores.append({\n",
    "                        \"toxicity\": s[\"TOXICITY\"][\"summaryScore\"][\"value\"] * proportion,\n",
    "                        \"severe_toxicity\": s[\"SEVERE_TOXICITY\"][\"summaryScore\"][\"value\"] * proportion,\n",
    "                        \"identity_attack\": s[\"IDENTITY_ATTACK\"][\"summaryScore\"][\"value\"] * proportion,\n",
    "                        \"insult\": s[\"INSULT\"][\"summaryScore\"][\"value\"] * proportion,\n",
    "                        \"profanity\": s[\"PROFANITY\"][\"summaryScore\"][\"value\"] * proportion,\n",
    "                        \"threat\": s[\"THREAT\"][\"summaryScore\"][\"value\"] * proportion,\n",
    "                        \"language\": res[\"detectedLanguages\"]\n",
    "                    })\n",
    "                    if split:\n",
    "                        logging.info(f\"Success for subtitle #{index} part {chunk_index + 1}/{len(chunks)} with key {current_key} on attempt {attempt + 1}\")\n",
    "                    else:\n",
    "                        logging.info(f\"Success for comment #{index} with key {current_key} on attempt {attempt + 1}\")\n",
    "                    # Break the loop if successful\n",
    "                    break\n",
    "\n",
    "                # Http errors\n",
    "                except HttpError as e:\n",
    "                    # Rate limit errors\n",
    "                    if e.resp.status == 429:\n",
    "                        logging.warning(f\"HTTP 429 Rate limit exceeded for text #{index} with key '{current_key}' on attempt {attempt + 1}. Retrying with exponential backoff.\")\n",
    "                    else:\n",
    "                        logging.warning(f\"HTTP error for text #{index} with key '{current_key}' on attempt {attempt + 1}: {e}. Retrying with exponential backoff.\")\n",
    "                # Timeout errors\n",
    "                except TimeoutError:\n",
    "                    logging.warning(f\"TimeoutError for text #{index} with key '{current_key}' on attempt {attempt + 1}. Retrying with exponential backoff.\")\n",
    "                # Unexpected errors\n",
    "                except Exception as e:\n",
    "                    logging.warning(f\"Unexpected error for text #{index} with key '{current_key}' on attempt {attempt + 1}: {e}. Retrying with exponential backoff.\")\n",
    "\n",
    "                # Exponential backoff + random jitter\n",
    "                sleep_time = (2 ** (attempt // len(PERSPECTIVE_API_KEYS))) + random.uniform(0, 1)\n",
    "                time.sleep(sleep_time)\n",
    "                attempt += 1\n",
    "\n",
    "                # Check if all retry attempts are exhausted\n",
    "                if attempt == max_attempts:\n",
    "                    logging.error(f\"Max attempts reached for text #{index} with key {current_key}. Moving to the next text.\")\n",
    "    \n",
    "        # Compute the weighted average for each score\n",
    "        aggregated_score = {f\"{prefix}{k}\": sum(temp[k] for temp in temp_scores)\\\n",
    "                            for k in temp_scores[0].keys()\\\n",
    "                            if k != \"language\"}\n",
    "        # Use the detected languages from the first chunk\n",
    "        aggregated_score[f\"{prefix}language\"] = temp_scores[0][\"language\"]\n",
    "        scores.append(aggregated_score)\n",
    "    \n",
    "    # Convert to DataFrame\n",
    "    toxicity_scores = pd.DataFrame(scores)\n",
    "    \n",
    "    # End timing\n",
    "    logging.info(f\"Total Runtime: {time.time() - start_time:.4f} seconds\\n\")\n",
    "    \n",
    "    return toxicity_scores"
   ]
  },
  {
   "cell_type": "markdown",
   "id": "565ab52a-0ff1-4ce6-8a7b-26dba8401a58",
   "metadata": {},
   "source": [
    "  "
   ]
  },
  {
   "cell_type": "markdown",
   "id": "f68ee429-de8f-4b8e-8326-03d820d802d7",
   "metadata": {},
   "source": [
    "#### Comments"
   ]
  },
  {
   "cell_type": "code",
   "execution_count": 39,
   "id": "d806a432-be92-4ee4-ae43-376f820dfc9c",
   "metadata": {
    "tags": []
   },
   "outputs": [
    {
     "name": "stdout",
     "output_type": "stream",
     "text": [
      "Runtime: 13657.1657\n",
      "\n"
     ]
    },
    {
     "data": {
      "text/html": [
       "<div>\n",
       "<style scoped>\n",
       "    .dataframe tbody tr th:only-of-type {\n",
       "        vertical-align: middle;\n",
       "    }\n",
       "\n",
       "    .dataframe tbody tr th {\n",
       "        vertical-align: top;\n",
       "    }\n",
       "\n",
       "    .dataframe thead th {\n",
       "        text-align: right;\n",
       "    }\n",
       "</style>\n",
       "<table border=\"1\" class=\"dataframe\">\n",
       "  <thead>\n",
       "    <tr style=\"text-align: right;\">\n",
       "      <th></th>\n",
       "      <th>comment_toxicity</th>\n",
       "      <th>comment_severe_toxicity</th>\n",
       "      <th>comment_identity_attack</th>\n",
       "      <th>comment_insult</th>\n",
       "      <th>comment_profanity</th>\n",
       "      <th>comment_threat</th>\n",
       "      <th>comment_language</th>\n",
       "    </tr>\n",
       "  </thead>\n",
       "  <tbody>\n",
       "    <tr>\n",
       "      <th>0</th>\n",
       "      <td>0.543256</td>\n",
       "      <td>0.034110</td>\n",
       "      <td>0.028629</td>\n",
       "      <td>0.338892</td>\n",
       "      <td>0.627178</td>\n",
       "      <td>0.049451</td>\n",
       "      <td>[en]</td>\n",
       "    </tr>\n",
       "    <tr>\n",
       "      <th>1</th>\n",
       "      <td>0.077668</td>\n",
       "      <td>0.004120</td>\n",
       "      <td>0.011765</td>\n",
       "      <td>0.019741</td>\n",
       "      <td>0.039407</td>\n",
       "      <td>0.010991</td>\n",
       "      <td>[en]</td>\n",
       "    </tr>\n",
       "    <tr>\n",
       "      <th>2</th>\n",
       "      <td>0.146031</td>\n",
       "      <td>0.006599</td>\n",
       "      <td>0.009027</td>\n",
       "      <td>0.021933</td>\n",
       "      <td>0.064458</td>\n",
       "      <td>0.055594</td>\n",
       "      <td>[en]</td>\n",
       "    </tr>\n",
       "    <tr>\n",
       "      <th>3</th>\n",
       "      <td>0.081625</td>\n",
       "      <td>0.004139</td>\n",
       "      <td>0.010137</td>\n",
       "      <td>0.017228</td>\n",
       "      <td>0.041161</td>\n",
       "      <td>0.021127</td>\n",
       "      <td>[en]</td>\n",
       "    </tr>\n",
       "    <tr>\n",
       "      <th>4</th>\n",
       "      <td>0.457030</td>\n",
       "      <td>0.024115</td>\n",
       "      <td>0.028017</td>\n",
       "      <td>0.154143</td>\n",
       "      <td>0.508187</td>\n",
       "      <td>0.011379</td>\n",
       "      <td>[en]</td>\n",
       "    </tr>\n",
       "  </tbody>\n",
       "</table>\n",
       "</div>"
      ],
      "text/plain": [
       "   comment_toxicity  comment_severe_toxicity  comment_identity_attack  \\\n",
       "0          0.543256                 0.034110                 0.028629   \n",
       "1          0.077668                 0.004120                 0.011765   \n",
       "2          0.146031                 0.006599                 0.009027   \n",
       "3          0.081625                 0.004139                 0.010137   \n",
       "4          0.457030                 0.024115                 0.028017   \n",
       "\n",
       "   comment_insult  comment_profanity  comment_threat comment_language  \n",
       "0        0.338892           0.627178        0.049451             [en]  \n",
       "1        0.019741           0.039407        0.010991             [en]  \n",
       "2        0.021933           0.064458        0.055594             [en]  \n",
       "3        0.017228           0.041161        0.021127             [en]  \n",
       "4        0.154143           0.508187        0.011379             [en]  "
      ]
     },
     "execution_count": 39,
     "metadata": {},
     "output_type": "execute_result"
    }
   ],
   "source": [
    "# Start timing\n",
    "start_time = time.time()\n",
    "\n",
    "# Compute Perspective API toxicity scores for each comment\n",
    "comment_toxicity_scores = perspective_toxicity(\n",
    "    texts=comments, \n",
    "    prefix=\"comment_\", \n",
    "    split=False\n",
    ")\n",
    "\n",
    "# End timing\n",
    "print(f\"Runtime: {time.time() - start_time:.4f}\\n\")\n",
    "comment_toxicity_scores.head()"
   ]
  },
  {
   "cell_type": "code",
   "execution_count": 40,
   "id": "dbdeed07-31e3-4c44-a095-2c8c0f9253fe",
   "metadata": {
    "tags": []
   },
   "outputs": [
    {
     "data": {
      "text/html": [
       "<div>\n",
       "<style scoped>\n",
       "    .dataframe tbody tr th:only-of-type {\n",
       "        vertical-align: middle;\n",
       "    }\n",
       "\n",
       "    .dataframe tbody tr th {\n",
       "        vertical-align: top;\n",
       "    }\n",
       "\n",
       "    .dataframe thead th {\n",
       "        text-align: right;\n",
       "    }\n",
       "</style>\n",
       "<table border=\"1\" class=\"dataframe\">\n",
       "  <thead>\n",
       "    <tr style=\"text-align: right;\">\n",
       "      <th></th>\n",
       "      <th>video_id</th>\n",
       "      <th>comment_id</th>\n",
       "      <th>comment_author_id</th>\n",
       "      <th>comment_text</th>\n",
       "      <th>comment_time</th>\n",
       "      <th>comment_likecount</th>\n",
       "      <th>comment_replycount</th>\n",
       "      <th>comment_toxicity</th>\n",
       "      <th>comment_severe_toxicity</th>\n",
       "      <th>comment_identity_attack</th>\n",
       "      <th>comment_insult</th>\n",
       "      <th>comment_profanity</th>\n",
       "      <th>comment_threat</th>\n",
       "      <th>comment_language</th>\n",
       "    </tr>\n",
       "  </thead>\n",
       "  <tbody>\n",
       "    <tr>\n",
       "      <th>0</th>\n",
       "      <td>F-yEoHL7MYY</td>\n",
       "      <td>UgwN1kGXwi9M7jeOb0d4AaABAg</td>\n",
       "      <td>UCLHsZ4X7YemjxRrvq0AI4LA</td>\n",
       "      <td>Damn dude, even with mimic I think it would ta...</td>\n",
       "      <td>2022-05-02 19:37:22+00:00</td>\n",
       "      <td>9907.0</td>\n",
       "      <td>47.0</td>\n",
       "      <td>0.543256</td>\n",
       "      <td>0.034110</td>\n",
       "      <td>0.028629</td>\n",
       "      <td>0.338892</td>\n",
       "      <td>0.627178</td>\n",
       "      <td>0.049451</td>\n",
       "      <td>[en]</td>\n",
       "    </tr>\n",
       "    <tr>\n",
       "      <th>1</th>\n",
       "      <td>F-yEoHL7MYY</td>\n",
       "      <td>UgwW5nWEkxdES-g3hk54AaABAg</td>\n",
       "      <td>UCJ9VDCLZDmeJIU3Branlstg</td>\n",
       "      <td>This is the pewds that I thought he’d turn int...</td>\n",
       "      <td>2022-12-14 23:36:11+00:00</td>\n",
       "      <td>6299.0</td>\n",
       "      <td>9.0</td>\n",
       "      <td>0.077668</td>\n",
       "      <td>0.004120</td>\n",
       "      <td>0.011765</td>\n",
       "      <td>0.019741</td>\n",
       "      <td>0.039407</td>\n",
       "      <td>0.010991</td>\n",
       "      <td>[en]</td>\n",
       "    </tr>\n",
       "    <tr>\n",
       "      <th>2</th>\n",
       "      <td>F-yEoHL7MYY</td>\n",
       "      <td>UgyGe0HN8toQWUZZtCl4AaABAg</td>\n",
       "      <td>UCs-mo1206PASdacjDqfdLng</td>\n",
       "      <td>This is actually awesome. Can't believe a meme...</td>\n",
       "      <td>2022-12-31 18:16:36+00:00</td>\n",
       "      <td>5091.0</td>\n",
       "      <td>54.0</td>\n",
       "      <td>0.146031</td>\n",
       "      <td>0.006599</td>\n",
       "      <td>0.009027</td>\n",
       "      <td>0.021933</td>\n",
       "      <td>0.064458</td>\n",
       "      <td>0.055594</td>\n",
       "      <td>[en]</td>\n",
       "    </tr>\n",
       "  </tbody>\n",
       "</table>\n",
       "</div>"
      ],
      "text/plain": [
       "      video_id                  comment_id         comment_author_id  \\\n",
       "0  F-yEoHL7MYY  UgwN1kGXwi9M7jeOb0d4AaABAg  UCLHsZ4X7YemjxRrvq0AI4LA   \n",
       "1  F-yEoHL7MYY  UgwW5nWEkxdES-g3hk54AaABAg  UCJ9VDCLZDmeJIU3Branlstg   \n",
       "2  F-yEoHL7MYY  UgyGe0HN8toQWUZZtCl4AaABAg  UCs-mo1206PASdacjDqfdLng   \n",
       "\n",
       "                                        comment_text  \\\n",
       "0  Damn dude, even with mimic I think it would ta...   \n",
       "1  This is the pewds that I thought he’d turn int...   \n",
       "2  This is actually awesome. Can't believe a meme...   \n",
       "\n",
       "               comment_time  comment_likecount  comment_replycount  \\\n",
       "0 2022-05-02 19:37:22+00:00             9907.0                47.0   \n",
       "1 2022-12-14 23:36:11+00:00             6299.0                 9.0   \n",
       "2 2022-12-31 18:16:36+00:00             5091.0                54.0   \n",
       "\n",
       "   comment_toxicity  comment_severe_toxicity  comment_identity_attack  \\\n",
       "0          0.543256                 0.034110                 0.028629   \n",
       "1          0.077668                 0.004120                 0.011765   \n",
       "2          0.146031                 0.006599                 0.009027   \n",
       "\n",
       "   comment_insult  comment_profanity  comment_threat comment_language  \n",
       "0        0.338892           0.627178        0.049451             [en]  \n",
       "1        0.019741           0.039407        0.010991             [en]  \n",
       "2        0.021933           0.064458        0.055594             [en]  "
      ]
     },
     "execution_count": 40,
     "metadata": {},
     "output_type": "execute_result"
    }
   ],
   "source": [
    "# Combine into one DataFrame\n",
    "for column in comment_toxicity_scores.columns:\n",
    "    comment[column] = comment_toxicity_scores[column].values\n",
    "comment.head(3)"
   ]
  },
  {
   "cell_type": "code",
   "execution_count": 41,
   "id": "8d60e53b-59d5-4217-b3be-ea5a21052ddc",
   "metadata": {
    "tags": []
   },
   "outputs": [
    {
     "data": {
      "text/plain": [
       "(128461, 14)"
      ]
     },
     "execution_count": 41,
     "metadata": {},
     "output_type": "execute_result"
    }
   ],
   "source": [
    "# Check the dimensions\n",
    "comment.shape"
   ]
  },
  {
   "cell_type": "markdown",
   "id": "67fa14ae-afc5-4ca4-8a4d-4f74370663cd",
   "metadata": {},
   "source": [
    "  "
   ]
  },
  {
   "cell_type": "markdown",
   "id": "f84c8e91-f0db-455f-abc8-454d7eb28a92",
   "metadata": {},
   "source": [
    "#### Subtitles"
   ]
  },
  {
   "cell_type": "code",
   "execution_count": 42,
   "id": "5d21ffe3-6579-43ba-b423-1b2f0fa23275",
   "metadata": {
    "tags": []
   },
   "outputs": [
    {
     "name": "stdout",
     "output_type": "stream",
     "text": [
      "Runtime: 7776.3443\n",
      "\n"
     ]
    },
    {
     "data": {
      "text/html": [
       "<div>\n",
       "<style scoped>\n",
       "    .dataframe tbody tr th:only-of-type {\n",
       "        vertical-align: middle;\n",
       "    }\n",
       "\n",
       "    .dataframe tbody tr th {\n",
       "        vertical-align: top;\n",
       "    }\n",
       "\n",
       "    .dataframe thead th {\n",
       "        text-align: right;\n",
       "    }\n",
       "</style>\n",
       "<table border=\"1\" class=\"dataframe\">\n",
       "  <thead>\n",
       "    <tr style=\"text-align: right;\">\n",
       "      <th></th>\n",
       "      <th>video_toxicity</th>\n",
       "      <th>video_severe_toxicity</th>\n",
       "      <th>video_identity_attack</th>\n",
       "      <th>video_insult</th>\n",
       "      <th>video_profanity</th>\n",
       "      <th>video_threat</th>\n",
       "      <th>video_language</th>\n",
       "    </tr>\n",
       "  </thead>\n",
       "  <tbody>\n",
       "    <tr>\n",
       "      <th>0</th>\n",
       "      <td>0.358079</td>\n",
       "      <td>0.071938</td>\n",
       "      <td>0.056368</td>\n",
       "      <td>0.148396</td>\n",
       "      <td>0.244498</td>\n",
       "      <td>0.224883</td>\n",
       "      <td>[en]</td>\n",
       "    </tr>\n",
       "    <tr>\n",
       "      <th>1</th>\n",
       "      <td>0.500542</td>\n",
       "      <td>0.155937</td>\n",
       "      <td>0.098798</td>\n",
       "      <td>0.280781</td>\n",
       "      <td>0.373053</td>\n",
       "      <td>0.261945</td>\n",
       "      <td>[en]</td>\n",
       "    </tr>\n",
       "    <tr>\n",
       "      <th>2</th>\n",
       "      <td>0.407400</td>\n",
       "      <td>0.082654</td>\n",
       "      <td>0.078979</td>\n",
       "      <td>0.231179</td>\n",
       "      <td>0.271065</td>\n",
       "      <td>0.105283</td>\n",
       "      <td>[en]</td>\n",
       "    </tr>\n",
       "    <tr>\n",
       "      <th>3</th>\n",
       "      <td>0.400487</td>\n",
       "      <td>0.093281</td>\n",
       "      <td>0.070456</td>\n",
       "      <td>0.196307</td>\n",
       "      <td>0.288111</td>\n",
       "      <td>0.190280</td>\n",
       "      <td>[en]</td>\n",
       "    </tr>\n",
       "    <tr>\n",
       "      <th>4</th>\n",
       "      <td>0.432568</td>\n",
       "      <td>0.120564</td>\n",
       "      <td>0.077785</td>\n",
       "      <td>0.209814</td>\n",
       "      <td>0.314366</td>\n",
       "      <td>0.241215</td>\n",
       "      <td>[en]</td>\n",
       "    </tr>\n",
       "  </tbody>\n",
       "</table>\n",
       "</div>"
      ],
      "text/plain": [
       "   video_toxicity  video_severe_toxicity  video_identity_attack  video_insult  \\\n",
       "0        0.358079               0.071938               0.056368      0.148396   \n",
       "1        0.500542               0.155937               0.098798      0.280781   \n",
       "2        0.407400               0.082654               0.078979      0.231179   \n",
       "3        0.400487               0.093281               0.070456      0.196307   \n",
       "4        0.432568               0.120564               0.077785      0.209814   \n",
       "\n",
       "   video_profanity  video_threat video_language  \n",
       "0         0.244498      0.224883           [en]  \n",
       "1         0.373053      0.261945           [en]  \n",
       "2         0.271065      0.105283           [en]  \n",
       "3         0.288111      0.190280           [en]  \n",
       "4         0.314366      0.241215           [en]  "
      ]
     },
     "execution_count": 42,
     "metadata": {},
     "output_type": "execute_result"
    }
   ],
   "source": [
    "# Start timing\n",
    "start_time = time.time()\n",
    "\n",
    "# Compute Perspective API toxicity scores for each subtitle\n",
    "video_toxicity_scores = perspective_toxicity(\n",
    "    texts=subtitles, \n",
    "    prefix=\"video_\",\n",
    "    size=100, \n",
    "    overlap=20, \n",
    "    split=True\n",
    ")\n",
    "\n",
    "# End timing\n",
    "print(f\"Runtime: {time.time() - start_time:.4f}\\n\")\n",
    "video_toxicity_scores.head()"
   ]
  },
  {
   "cell_type": "code",
   "execution_count": 43,
   "id": "1de788f4-de48-4132-a946-a3aa8646a228",
   "metadata": {
    "tags": []
   },
   "outputs": [
    {
     "data": {
      "text/html": [
       "<div>\n",
       "<style scoped>\n",
       "    .dataframe tbody tr th:only-of-type {\n",
       "        vertical-align: middle;\n",
       "    }\n",
       "\n",
       "    .dataframe tbody tr th {\n",
       "        vertical-align: top;\n",
       "    }\n",
       "\n",
       "    .dataframe thead th {\n",
       "        text-align: right;\n",
       "    }\n",
       "</style>\n",
       "<table border=\"1\" class=\"dataframe\">\n",
       "  <thead>\n",
       "    <tr style=\"text-align: right;\">\n",
       "      <th></th>\n",
       "      <th>channel_id</th>\n",
       "      <th>video_id</th>\n",
       "      <th>video_title</th>\n",
       "      <th>video_creation_time</th>\n",
       "      <th>video_description</th>\n",
       "      <th>video_duration</th>\n",
       "      <th>video_tags</th>\n",
       "      <th>video_viewcount</th>\n",
       "      <th>video_likecount</th>\n",
       "      <th>video_commentcount</th>\n",
       "      <th>...</th>\n",
       "      <th>video_blocked_wordcount</th>\n",
       "      <th>video_blocked_proportion</th>\n",
       "      <th>video_speed</th>\n",
       "      <th>video_toxicity</th>\n",
       "      <th>video_severe_toxicity</th>\n",
       "      <th>video_identity_attack</th>\n",
       "      <th>video_insult</th>\n",
       "      <th>video_profanity</th>\n",
       "      <th>video_threat</th>\n",
       "      <th>video_language</th>\n",
       "    </tr>\n",
       "  </thead>\n",
       "  <tbody>\n",
       "    <tr>\n",
       "      <th>0</th>\n",
       "      <td>UC-lHJZR3Gqxm24_Vd_AJ5Yw</td>\n",
       "      <td>F-yEoHL7MYY</td>\n",
       "      <td>I t̶r̶i̶e̶d̶ ̶t̶o̶ beat Elden Ring Without Dyi...</td>\n",
       "      <td>2022-04-30 16:40:18+00:00</td>\n",
       "      <td>🌏 Get exclusive NordVPN deal here ➵  https://N...</td>\n",
       "      <td>3227.0</td>\n",
       "      <td>['pewdiepie', 'pewds', 'pewdie']</td>\n",
       "      <td>11590164</td>\n",
       "      <td>474052</td>\n",
       "      <td>15146.0</td>\n",
       "      <td>...</td>\n",
       "      <td>32</td>\n",
       "      <td>0.003590</td>\n",
       "      <td>2.762008</td>\n",
       "      <td>0.358079</td>\n",
       "      <td>0.071938</td>\n",
       "      <td>0.056368</td>\n",
       "      <td>0.148396</td>\n",
       "      <td>0.244498</td>\n",
       "      <td>0.224883</td>\n",
       "      <td>[en]</td>\n",
       "    </tr>\n",
       "    <tr>\n",
       "      <th>1</th>\n",
       "      <td>UC-lHJZR3Gqxm24_Vd_AJ5Yw</td>\n",
       "      <td>PV4NGwn_xdI</td>\n",
       "      <td>Elden Ring #1 - 0 DEATH PLAYTHROUGH</td>\n",
       "      <td>2022-02-24 15:00:10+00:00</td>\n",
       "      <td>NEW animated wallpapers on GX 👇👇👇\\nhttps://ope...</td>\n",
       "      <td>818.0</td>\n",
       "      <td>['pewdiepie', 'pewds', 'pewdie', 'elden ring',...</td>\n",
       "      <td>5179366</td>\n",
       "      <td>192101</td>\n",
       "      <td>4313.0</td>\n",
       "      <td>...</td>\n",
       "      <td>19</td>\n",
       "      <td>0.011823</td>\n",
       "      <td>1.964548</td>\n",
       "      <td>0.500542</td>\n",
       "      <td>0.155937</td>\n",
       "      <td>0.098798</td>\n",
       "      <td>0.280781</td>\n",
       "      <td>0.373053</td>\n",
       "      <td>0.261945</td>\n",
       "      <td>[en]</td>\n",
       "    </tr>\n",
       "    <tr>\n",
       "      <th>2</th>\n",
       "      <td>UC-lHJZR3Gqxm24_Vd_AJ5Yw</td>\n",
       "      <td>CF3jK8ai0l4</td>\n",
       "      <td>New GTA Definitive Edition is hilariously bad</td>\n",
       "      <td>2021-11-19 17:15:01+00:00</td>\n",
       "      <td>Grand Theft Auto: The Trilogy is not epic bros...</td>\n",
       "      <td>570.0</td>\n",
       "      <td>['pewdiepie', 'pewds', 'pewdie', 'Grand Theft ...</td>\n",
       "      <td>4053858</td>\n",
       "      <td>282853</td>\n",
       "      <td>9073.0</td>\n",
       "      <td>...</td>\n",
       "      <td>3</td>\n",
       "      <td>0.002349</td>\n",
       "      <td>2.240351</td>\n",
       "      <td>0.407400</td>\n",
       "      <td>0.082654</td>\n",
       "      <td>0.078979</td>\n",
       "      <td>0.231179</td>\n",
       "      <td>0.271065</td>\n",
       "      <td>0.105283</td>\n",
       "      <td>[en]</td>\n",
       "    </tr>\n",
       "  </tbody>\n",
       "</table>\n",
       "<p>3 rows × 26 columns</p>\n",
       "</div>"
      ],
      "text/plain": [
       "                 channel_id     video_id  \\\n",
       "0  UC-lHJZR3Gqxm24_Vd_AJ5Yw  F-yEoHL7MYY   \n",
       "1  UC-lHJZR3Gqxm24_Vd_AJ5Yw  PV4NGwn_xdI   \n",
       "2  UC-lHJZR3Gqxm24_Vd_AJ5Yw  CF3jK8ai0l4   \n",
       "\n",
       "                                         video_title  \\\n",
       "0  I t̶r̶i̶e̶d̶ ̶t̶o̶ beat Elden Ring Without Dyi...   \n",
       "1                Elden Ring #1 - 0 DEATH PLAYTHROUGH   \n",
       "2      New GTA Definitive Edition is hilariously bad   \n",
       "\n",
       "        video_creation_time  \\\n",
       "0 2022-04-30 16:40:18+00:00   \n",
       "1 2022-02-24 15:00:10+00:00   \n",
       "2 2021-11-19 17:15:01+00:00   \n",
       "\n",
       "                                   video_description  video_duration  \\\n",
       "0  🌏 Get exclusive NordVPN deal here ➵  https://N...          3227.0   \n",
       "1  NEW animated wallpapers on GX 👇👇👇\\nhttps://ope...           818.0   \n",
       "2  Grand Theft Auto: The Trilogy is not epic bros...           570.0   \n",
       "\n",
       "                                          video_tags  video_viewcount  \\\n",
       "0                   ['pewdiepie', 'pewds', 'pewdie']         11590164   \n",
       "1  ['pewdiepie', 'pewds', 'pewdie', 'elden ring',...          5179366   \n",
       "2  ['pewdiepie', 'pewds', 'pewdie', 'Grand Theft ...          4053858   \n",
       "\n",
       "   video_likecount  video_commentcount  ... video_blocked_wordcount  \\\n",
       "0           474052             15146.0  ...                      32   \n",
       "1           192101              4313.0  ...                      19   \n",
       "2           282853              9073.0  ...                       3   \n",
       "\n",
       "  video_blocked_proportion  video_speed video_toxicity video_severe_toxicity  \\\n",
       "0                 0.003590     2.762008       0.358079              0.071938   \n",
       "1                 0.011823     1.964548       0.500542              0.155937   \n",
       "2                 0.002349     2.240351       0.407400              0.082654   \n",
       "\n",
       "   video_identity_attack  video_insult  video_profanity  video_threat  \\\n",
       "0               0.056368      0.148396         0.244498      0.224883   \n",
       "1               0.098798      0.280781         0.373053      0.261945   \n",
       "2               0.078979      0.231179         0.271065      0.105283   \n",
       "\n",
       "   video_language  \n",
       "0            [en]  \n",
       "1            [en]  \n",
       "2            [en]  \n",
       "\n",
       "[3 rows x 26 columns]"
      ]
     },
     "execution_count": 43,
     "metadata": {},
     "output_type": "execute_result"
    }
   ],
   "source": [
    "# Combine into one DataFrame\n",
    "for column in video_toxicity_scores.columns:\n",
    "    video[column] = video_toxicity_scores[column].values\n",
    "video.head(3)"
   ]
  },
  {
   "cell_type": "code",
   "execution_count": 44,
   "id": "c0cf4d2e-dc3c-491d-aa3e-05ff7819a134",
   "metadata": {
    "tags": []
   },
   "outputs": [
    {
     "data": {
      "text/plain": [
       "(1307, 26)"
      ]
     },
     "execution_count": 44,
     "metadata": {},
     "output_type": "execute_result"
    }
   ],
   "source": [
    "# Check the dimensions\n",
    "video.shape"
   ]
  },
  {
   "cell_type": "markdown",
   "id": "8bff02a1-063d-4255-8d80-979354ee7b41",
   "metadata": {},
   "source": [
    "<br>  "
   ]
  },
  {
   "cell_type": "markdown",
   "id": "6c95bee3-02f2-4855-b229-08854c882567",
   "metadata": {
    "tags": []
   },
   "source": [
    "## 5. Text Preprocessing"
   ]
  },
  {
   "cell_type": "markdown",
   "id": "058a2454-064b-477b-a90e-8c2219f1200c",
   "metadata": {},
   "source": [
    "### Filter English Comments"
   ]
  },
  {
   "cell_type": "markdown",
   "id": "288cec61-6ca3-4738-8543-3ae6529654d4",
   "metadata": {},
   "source": [
    "_To **align** our analysis with the interests of the English-speaking YouTube gaming community, we utilized the **`detectedLanguage` attribute from Perspective API** to **filter out non-English comments**._  "
   ]
  },
  {
   "cell_type": "code",
   "execution_count": 45,
   "id": "d6dff328-9343-4406-8d72-3135fb42afc4",
   "metadata": {
    "tags": []
   },
   "outputs": [
    {
     "data": {
      "text/plain": [
       "0"
      ]
     },
     "execution_count": 45,
     "metadata": {},
     "output_type": "execute_result"
    }
   ],
   "source": [
    "# Inspect non-English videos\n",
    "len(video[video[\"video_language\"].apply(lambda x: \"en\" not in x)])"
   ]
  },
  {
   "cell_type": "code",
   "execution_count": 46,
   "id": "736fc3be-ed3f-49f3-8b1d-cb0b5b8c574a",
   "metadata": {
    "tags": []
   },
   "outputs": [
    {
     "data": {
      "text/plain": [
       "(1307, 26)"
      ]
     },
     "execution_count": 46,
     "metadata": {},
     "output_type": "execute_result"
    }
   ],
   "source": [
    "# Remove non-English videos\n",
    "video = video[video[\"video_language\"].apply(lambda x: \"en\" in x)]\n",
    "video.shape"
   ]
  },
  {
   "cell_type": "markdown",
   "id": "03ac23ae-cb11-424c-b006-bdc899c055bf",
   "metadata": {
    "tags": []
   },
   "source": [
    "  "
   ]
  },
  {
   "cell_type": "code",
   "execution_count": 47,
   "id": "6c451917-ab29-4436-9300-fbd0d18ea539",
   "metadata": {},
   "outputs": [
    {
     "data": {
      "text/plain": [
       "3528"
      ]
     },
     "execution_count": 47,
     "metadata": {},
     "output_type": "execute_result"
    }
   ],
   "source": [
    "# Inspect non-English comments\n",
    "len(comment[comment[\"comment_language\"].apply(lambda x: \"en\" not in x)])"
   ]
  },
  {
   "cell_type": "code",
   "execution_count": 48,
   "id": "e9da76b5-2b25-46ef-bbb4-624bdc5b9e47",
   "metadata": {},
   "outputs": [
    {
     "data": {
      "text/html": [
       "<div>\n",
       "<style scoped>\n",
       "    .dataframe tbody tr th:only-of-type {\n",
       "        vertical-align: middle;\n",
       "    }\n",
       "\n",
       "    .dataframe tbody tr th {\n",
       "        vertical-align: top;\n",
       "    }\n",
       "\n",
       "    .dataframe thead th {\n",
       "        text-align: right;\n",
       "    }\n",
       "</style>\n",
       "<table border=\"1\" class=\"dataframe\">\n",
       "  <thead>\n",
       "    <tr style=\"text-align: right;\">\n",
       "      <th></th>\n",
       "      <th>video_id</th>\n",
       "      <th>comment_id</th>\n",
       "      <th>comment_author_id</th>\n",
       "      <th>comment_text</th>\n",
       "      <th>comment_time</th>\n",
       "      <th>comment_likecount</th>\n",
       "      <th>comment_replycount</th>\n",
       "      <th>comment_toxicity</th>\n",
       "      <th>comment_severe_toxicity</th>\n",
       "      <th>comment_identity_attack</th>\n",
       "      <th>comment_insult</th>\n",
       "      <th>comment_profanity</th>\n",
       "      <th>comment_threat</th>\n",
       "      <th>comment_language</th>\n",
       "    </tr>\n",
       "  </thead>\n",
       "  <tbody>\n",
       "    <tr>\n",
       "      <th>903</th>\n",
       "      <td>Dy3ege2nD6M</td>\n",
       "      <td>Ugw_KYxpcQBlXGdN2Oh4AaABAg</td>\n",
       "      <td>UCEU6y10PTmsVpLPmutO4L6g</td>\n",
       "      <td>Seruuu berasa ikut naik motor... Yeeyyy</td>\n",
       "      <td>2020-12-14 01:35:53+00:00</td>\n",
       "      <td>0.0</td>\n",
       "      <td>0.0</td>\n",
       "      <td>0.010744</td>\n",
       "      <td>0.000854</td>\n",
       "      <td>0.001119</td>\n",
       "      <td>0.008292</td>\n",
       "      <td>0.012859</td>\n",
       "      <td>0.006563</td>\n",
       "      <td>[id, ms]</td>\n",
       "    </tr>\n",
       "    <tr>\n",
       "      <th>1002</th>\n",
       "      <td>iROAUHfCrnU</td>\n",
       "      <td>UgzlNvwjnXvpxbcs8zt4AaABAg</td>\n",
       "      <td>UCEU6y10PTmsVpLPmutO4L6g</td>\n",
       "      <td>Wih keren juga nih game</td>\n",
       "      <td>2020-12-20 10:55:30+00:00</td>\n",
       "      <td>0.0</td>\n",
       "      <td>0.0</td>\n",
       "      <td>0.004901</td>\n",
       "      <td>0.000529</td>\n",
       "      <td>0.000906</td>\n",
       "      <td>0.006116</td>\n",
       "      <td>0.012825</td>\n",
       "      <td>0.005777</td>\n",
       "      <td>[id]</td>\n",
       "    </tr>\n",
       "    <tr>\n",
       "      <th>1074</th>\n",
       "      <td>iROAUHfCrnU</td>\n",
       "      <td>UgwNZwmVT5yCLM8As-V4AaABAg</td>\n",
       "      <td>UC1R2DBFNbKrX5aQ-yRDW2fA</td>\n",
       "      <td>Me sorprende que de 108 M de suscriptores solo...</td>\n",
       "      <td>2020-12-21 02:22:13+00:00</td>\n",
       "      <td>5.0</td>\n",
       "      <td>3.0</td>\n",
       "      <td>0.004335</td>\n",
       "      <td>0.000269</td>\n",
       "      <td>0.000666</td>\n",
       "      <td>0.006249</td>\n",
       "      <td>0.010126</td>\n",
       "      <td>0.005330</td>\n",
       "      <td>[es]</td>\n",
       "    </tr>\n",
       "  </tbody>\n",
       "</table>\n",
       "</div>"
      ],
      "text/plain": [
       "         video_id                  comment_id         comment_author_id  \\\n",
       "903   Dy3ege2nD6M  Ugw_KYxpcQBlXGdN2Oh4AaABAg  UCEU6y10PTmsVpLPmutO4L6g   \n",
       "1002  iROAUHfCrnU  UgzlNvwjnXvpxbcs8zt4AaABAg  UCEU6y10PTmsVpLPmutO4L6g   \n",
       "1074  iROAUHfCrnU  UgwNZwmVT5yCLM8As-V4AaABAg  UC1R2DBFNbKrX5aQ-yRDW2fA   \n",
       "\n",
       "                                           comment_text  \\\n",
       "903             Seruuu berasa ikut naik motor... Yeeyyy   \n",
       "1002                            Wih keren juga nih game   \n",
       "1074  Me sorprende que de 108 M de suscriptores solo...   \n",
       "\n",
       "                  comment_time  comment_likecount  comment_replycount  \\\n",
       "903  2020-12-14 01:35:53+00:00                0.0                 0.0   \n",
       "1002 2020-12-20 10:55:30+00:00                0.0                 0.0   \n",
       "1074 2020-12-21 02:22:13+00:00                5.0                 3.0   \n",
       "\n",
       "      comment_toxicity  comment_severe_toxicity  comment_identity_attack  \\\n",
       "903           0.010744                 0.000854                 0.001119   \n",
       "1002          0.004901                 0.000529                 0.000906   \n",
       "1074          0.004335                 0.000269                 0.000666   \n",
       "\n",
       "      comment_insult  comment_profanity  comment_threat comment_language  \n",
       "903         0.008292           0.012859        0.006563         [id, ms]  \n",
       "1002        0.006116           0.012825        0.005777             [id]  \n",
       "1074        0.006249           0.010126        0.005330             [es]  "
      ]
     },
     "execution_count": 48,
     "metadata": {},
     "output_type": "execute_result"
    }
   ],
   "source": [
    "# Inspect non-English comments\n",
    "comment[comment[\"comment_language\"].apply(lambda x: \"en\" not in x)].head(3)"
   ]
  },
  {
   "cell_type": "code",
   "execution_count": 49,
   "id": "0341cb9e-e4ba-42f2-8545-a27fc828a545",
   "metadata": {},
   "outputs": [
    {
     "data": {
      "text/plain": [
       "(124933, 14)"
      ]
     },
     "execution_count": 49,
     "metadata": {},
     "output_type": "execute_result"
    }
   ],
   "source": [
    "# Remove non-English comments\n",
    "comment = comment[comment[\"comment_language\"].apply(lambda x: \"en\" in x)]\n",
    "comment.shape"
   ]
  },
  {
   "cell_type": "markdown",
   "id": "fcb8438e-c042-4e41-9036-37105bf4ed16",
   "metadata": {},
   "source": [
    "  "
   ]
  },
  {
   "cell_type": "markdown",
   "id": "03739a45-bba9-4098-8607-39e93b19cfae",
   "metadata": {},
   "source": [
    "### Text Cleaning"
   ]
  },
  {
   "cell_type": "markdown",
   "id": "33025f71-e879-4c9a-868e-3b426dce8a13",
   "metadata": {},
   "source": [
    "_To preserve the **most relevant information**, we will undertake a series of text preprocessing steps to refine our corpus for analysis.  We segment text cleaning into **three levels** - **minimal, moderate, and tokenization** - to **tailor preprocessing needs** for sentiment analysis and potential future modeling._   "
   ]
  },
  {
   "cell_type": "markdown",
   "id": "13d8435a-7f0c-48df-8317-0eaad4498233",
   "metadata": {},
   "source": [
    "  "
   ]
  },
  {
   "cell_type": "markdown",
   "id": "fe618eb2-b75b-4398-aba3-5b6d8693e493",
   "metadata": {},
   "source": [
    "#### Level 1: Contraction Expansion + Noise Removal"
   ]
  },
  {
   "cell_type": "markdown",
   "id": "e1d74f52-777f-4286-8dd4-79b915fdeb6a",
   "metadata": {},
   "source": [
    "_The first level involves **contraction expansion** and **noise elimination**.  **Contractions** will be expanded to their full forms using the [`contractions`](https://pypi.org/project/contractions/) library to ensure that the text will be **consistently understood** by analytical tools.  The **URLs, mentions, hashtags, and new-line characters** will be removed to eliminate the noise in data._  "
   ]
  },
  {
   "cell_type": "code",
   "execution_count": 50,
   "id": "1910e0d0-e27a-460f-a6a6-f8e8ed619364",
   "metadata": {
    "tags": []
   },
   "outputs": [],
   "source": [
    "def remove_noise(text):\n",
    "    \"\"\"\n",
    "    Perform minimal text preprocessing by removing noise.\n",
    "    \"\"\"\n",
    "    # Remove contractions\n",
    "    text = contractions.fix(text)\n",
    "    \n",
    "    # Remove URLs\n",
    "    text = re.sub(r\"http\\S+\", \"\", text)\n",
    "    # Remove mentions\n",
    "    text = re.sub(r\"(?<![@\\w])@(\\w{1,25})\", \"\", text)\n",
    "    # Remove hashtags\n",
    "    text = re.sub(r\"(?<![#\\w])#(\\w{1,25})\", \"\", text)\n",
    "    # Remove new line characters\n",
    "    text = re.sub(\"\\n\", \" \", text)\n",
    "    \n",
    "    return text"
   ]
  },
  {
   "cell_type": "code",
   "execution_count": 51,
   "id": "23c64196-c8d9-4222-8ee7-63b83470f72b",
   "metadata": {
    "tags": []
   },
   "outputs": [
    {
     "name": "stdout",
     "output_type": "stream",
     "text": [
      "I haven't watched a video from Felix for a long time but this one was great! \n",
      "Reminded me of the good times I had when I struggled with uni and his videos gave me strength to still push on. \n",
      "In a sense, I partly owe Felix my degree and job opportunities:)\n",
      "I have not watched a video from Felix for a long time but this one was great!  Reminded me of the good times I had when I struggled with uni and his videos gave me strength to still push on.  In a sense, I partly owe Felix my degree and job opportunities:)\n"
     ]
    }
   ],
   "source": [
    "# Remove noise for comments\n",
    "print(comments[41])\n",
    "comments_filtered = comments.apply(remove_noise)\n",
    "print(comments_filtered[41])"
   ]
  },
  {
   "cell_type": "code",
   "execution_count": 52,
   "id": "f1c6b5cb-99bf-4c2c-90df-9daddc27403b",
   "metadata": {
    "tags": []
   },
   "outputs": [],
   "source": [
    "# Remove noise for subtitles\n",
    "subtitles_filtered = subtitles.apply(remove_noise)"
   ]
  },
  {
   "cell_type": "markdown",
   "id": "7315a098-550d-4644-aff3-601ca6a8e937",
   "metadata": {},
   "source": [
    "  "
   ]
  },
  {
   "cell_type": "markdown",
   "id": "1073491d-29cc-4bc2-965f-cb88f43faedb",
   "metadata": {},
   "source": [
    "#### Level 2: Normalization + Punctuation & Stopword Removal"
   ]
  },
  {
   "cell_type": "markdown",
   "id": "825dccc5-cf81-48d6-ae87-2819c1a3da12",
   "metadata": {},
   "source": [
    "_Building on to the first level, the second level of preprocessing incorporates **text normalization** along with **punctuation and stopword removal**.  To ensure uniformity across our dataset, all texts will be converted to **lowercase**.  Additionally, **non-alphabetic characters** and common English **stopwords** will also be removed as they do not possess significant information.  Note the **potential caveat** in this procedure: the elimination of these elements could result in loss of certain nuances in text._  "
   ]
  },
  {
   "cell_type": "code",
   "execution_count": 53,
   "id": "97a7af7d-98d3-4609-ab3c-0a34d2a14912",
   "metadata": {
    "tags": []
   },
   "outputs": [],
   "source": [
    "def clean(text):\n",
    "    \"\"\"\n",
    "    Perform text preprocessing on a given document.\n",
    "    \"\"\"\n",
    "    # Convert to lowercase\n",
    "    text = text.lower()\n",
    "    # Contraction expansion\n",
    "    text = contractions.fix(text)\n",
    "    \n",
    "    # Remove URLs\n",
    "    text = re.sub(r\"http\\S+\", \"\", text)\n",
    "    # Remove mentions\n",
    "    text = re.sub(r\"(?<![@\\w])@(\\w{1,25})\", \"\", text)\n",
    "    # Remove hashtags\n",
    "    text = re.sub(r\"(?<![#\\w])#(\\w{1,25})\", \"\", text)\n",
    "    # Remove new line characters\n",
    "    text = re.sub(\"\\n\", \" \", text)\n",
    "    \n",
    "    # Remove non-alphabetic characters\n",
    "    text = re.sub(r\"[^a-zA-Z\\s]\", \" \", text)\n",
    "    \n",
    "    # Remove extra spaces\n",
    "    text = re.sub(r\"\\s+\", \" \", text)\n",
    "    \n",
    "    # Tokenization\n",
    "    tokens = word_tokenize(text)\n",
    "\n",
    "    # Remove stop words\n",
    "    stop_words = set(stopwords.words(\"english\"))\n",
    "    tokens = [word for word in tokens if word not in stop_words]\n",
    "\n",
    "    # Lemmatization\n",
    "    lemmatizer = WordNetLemmatizer()\n",
    "    lemmatized_tokens = [lemmatizer.lemmatize(token) for token in tokens]\n",
    "    \n",
    "    # Re-join tokens\n",
    "    lemmatized_text = \" \".join(lemmatized_tokens)\n",
    "    \n",
    "    return text"
   ]
  },
  {
   "cell_type": "code",
   "execution_count": 54,
   "id": "6a82a49d-8dc7-4847-88a7-2c15daf2ce13",
   "metadata": {
    "tags": []
   },
   "outputs": [
    {
     "name": "stdout",
     "output_type": "stream",
     "text": [
      "Damn dude, even with mimic I think it would take me approximately 3 lifetimes to complete a no death run... you really are a gamer god.\n",
      "damn dude even mimic think would take approximately lifetimes complete death run really gamer god\n"
     ]
    }
   ],
   "source": [
    "# Clean the comments\n",
    "print(comments[0])\n",
    "comments_cleaned = comments.apply(clean)\n",
    "print(comments_cleaned[0])"
   ]
  },
  {
   "cell_type": "code",
   "execution_count": 55,
   "id": "91a855de-304f-4fc1-863b-5d7634b45a8d",
   "metadata": {
    "tags": []
   },
   "outputs": [],
   "source": [
    "# Clean the subtitles\n",
    "subtitles_cleaned = subtitles.apply(clean)"
   ]
  },
  {
   "cell_type": "markdown",
   "id": "70bc8c4a-eb2d-4856-aa32-b8be3f2d530b",
   "metadata": {},
   "source": [
    "  "
   ]
  },
  {
   "cell_type": "markdown",
   "id": "6b29392e-2ed7-4300-bfa8-f959966e3bae",
   "metadata": {},
   "source": [
    "#### Level 3: Tokenization"
   ]
  },
  {
   "cell_type": "markdown",
   "id": "e4d140d8-5d94-4325-9d36-fd5bb5c79a33",
   "metadata": {},
   "source": [
    "*Using `word_tokenizer`, we will **tokenize** the text into smaller pieces.  This process will be crucial for **analyzing term frequency** or **identifying common themes** within the corpus as the analysis progresses.*  "
   ]
  },
  {
   "cell_type": "code",
   "execution_count": 56,
   "id": "77848813-5cce-4785-9fc8-69b3c7c62af5",
   "metadata": {
    "tags": []
   },
   "outputs": [
    {
     "data": {
      "text/plain": [
       "['pewds',\n",
       " 'thought',\n",
       " 'would',\n",
       " 'turn',\n",
       " 'gaming',\n",
       " 'early',\n",
       " 'channel',\n",
       " 'right',\n",
       " 'gives',\n",
       " 'joy']"
      ]
     },
     "execution_count": 56,
     "metadata": {},
     "output_type": "execute_result"
    }
   ],
   "source": [
    "# Tokenize the comments\n",
    "comments_tokenized = comments_cleaned.apply(word_tokenize)\n",
    "comments_tokenized[1]"
   ]
  },
  {
   "cell_type": "code",
   "execution_count": 57,
   "id": "88df0f1d-364c-495b-bb5a-502eefd95446",
   "metadata": {
    "tags": []
   },
   "outputs": [
    {
     "data": {
      "text/html": [
       "<div>\n",
       "<style scoped>\n",
       "    .dataframe tbody tr th:only-of-type {\n",
       "        vertical-align: middle;\n",
       "    }\n",
       "\n",
       "    .dataframe tbody tr th {\n",
       "        vertical-align: top;\n",
       "    }\n",
       "\n",
       "    .dataframe thead th {\n",
       "        text-align: right;\n",
       "    }\n",
       "</style>\n",
       "<table border=\"1\" class=\"dataframe\">\n",
       "  <thead>\n",
       "    <tr style=\"text-align: right;\">\n",
       "      <th></th>\n",
       "      <th>video_id</th>\n",
       "      <th>comment_id</th>\n",
       "      <th>comment_author_id</th>\n",
       "      <th>comment_text</th>\n",
       "      <th>comment_time</th>\n",
       "      <th>comment_likecount</th>\n",
       "      <th>comment_replycount</th>\n",
       "      <th>comment_toxicity</th>\n",
       "      <th>comment_severe_toxicity</th>\n",
       "      <th>comment_identity_attack</th>\n",
       "      <th>comment_insult</th>\n",
       "      <th>comment_profanity</th>\n",
       "      <th>comment_threat</th>\n",
       "      <th>comment_language</th>\n",
       "      <th>comment_filtered</th>\n",
       "      <th>comment_cleaned</th>\n",
       "      <th>comment_tokenized</th>\n",
       "    </tr>\n",
       "  </thead>\n",
       "  <tbody>\n",
       "    <tr>\n",
       "      <th>0</th>\n",
       "      <td>F-yEoHL7MYY</td>\n",
       "      <td>UgwN1kGXwi9M7jeOb0d4AaABAg</td>\n",
       "      <td>UCLHsZ4X7YemjxRrvq0AI4LA</td>\n",
       "      <td>Damn dude, even with mimic I think it would ta...</td>\n",
       "      <td>2022-05-02 19:37:22+00:00</td>\n",
       "      <td>9907.0</td>\n",
       "      <td>47.0</td>\n",
       "      <td>0.543256</td>\n",
       "      <td>0.034110</td>\n",
       "      <td>0.028629</td>\n",
       "      <td>0.338892</td>\n",
       "      <td>0.627178</td>\n",
       "      <td>0.049451</td>\n",
       "      <td>[en]</td>\n",
       "      <td>Damn dude, even with mimic I think it would ta...</td>\n",
       "      <td>damn dude even mimic think would take approxim...</td>\n",
       "      <td>[damn, dude, even, mimic, think, would, take, ...</td>\n",
       "    </tr>\n",
       "    <tr>\n",
       "      <th>1</th>\n",
       "      <td>F-yEoHL7MYY</td>\n",
       "      <td>UgwW5nWEkxdES-g3hk54AaABAg</td>\n",
       "      <td>UCJ9VDCLZDmeJIU3Branlstg</td>\n",
       "      <td>This is the pewds that I thought he’d turn int...</td>\n",
       "      <td>2022-12-14 23:36:11+00:00</td>\n",
       "      <td>6299.0</td>\n",
       "      <td>9.0</td>\n",
       "      <td>0.077668</td>\n",
       "      <td>0.004120</td>\n",
       "      <td>0.011765</td>\n",
       "      <td>0.019741</td>\n",
       "      <td>0.039407</td>\n",
       "      <td>0.010991</td>\n",
       "      <td>[en]</td>\n",
       "      <td>This is the pewds that I thought he would turn...</td>\n",
       "      <td>pewds thought would turn gaming early channel ...</td>\n",
       "      <td>[pewds, thought, would, turn, gaming, early, c...</td>\n",
       "    </tr>\n",
       "    <tr>\n",
       "      <th>2</th>\n",
       "      <td>F-yEoHL7MYY</td>\n",
       "      <td>UgyGe0HN8toQWUZZtCl4AaABAg</td>\n",
       "      <td>UCs-mo1206PASdacjDqfdLng</td>\n",
       "      <td>This is actually awesome. Can't believe a meme...</td>\n",
       "      <td>2022-12-31 18:16:36+00:00</td>\n",
       "      <td>5091.0</td>\n",
       "      <td>54.0</td>\n",
       "      <td>0.146031</td>\n",
       "      <td>0.006599</td>\n",
       "      <td>0.009027</td>\n",
       "      <td>0.021933</td>\n",
       "      <td>0.064458</td>\n",
       "      <td>0.055594</td>\n",
       "      <td>[en]</td>\n",
       "      <td>This is actually awesome. Cannot believe a mem...</td>\n",
       "      <td>actually awesome cannot believe meme became tr...</td>\n",
       "      <td>[actually, awesome, can, not, believe, meme, b...</td>\n",
       "    </tr>\n",
       "  </tbody>\n",
       "</table>\n",
       "</div>"
      ],
      "text/plain": [
       "      video_id                  comment_id         comment_author_id  \\\n",
       "0  F-yEoHL7MYY  UgwN1kGXwi9M7jeOb0d4AaABAg  UCLHsZ4X7YemjxRrvq0AI4LA   \n",
       "1  F-yEoHL7MYY  UgwW5nWEkxdES-g3hk54AaABAg  UCJ9VDCLZDmeJIU3Branlstg   \n",
       "2  F-yEoHL7MYY  UgyGe0HN8toQWUZZtCl4AaABAg  UCs-mo1206PASdacjDqfdLng   \n",
       "\n",
       "                                        comment_text  \\\n",
       "0  Damn dude, even with mimic I think it would ta...   \n",
       "1  This is the pewds that I thought he’d turn int...   \n",
       "2  This is actually awesome. Can't believe a meme...   \n",
       "\n",
       "               comment_time  comment_likecount  comment_replycount  \\\n",
       "0 2022-05-02 19:37:22+00:00             9907.0                47.0   \n",
       "1 2022-12-14 23:36:11+00:00             6299.0                 9.0   \n",
       "2 2022-12-31 18:16:36+00:00             5091.0                54.0   \n",
       "\n",
       "   comment_toxicity  comment_severe_toxicity  comment_identity_attack  \\\n",
       "0          0.543256                 0.034110                 0.028629   \n",
       "1          0.077668                 0.004120                 0.011765   \n",
       "2          0.146031                 0.006599                 0.009027   \n",
       "\n",
       "   comment_insult  comment_profanity  comment_threat comment_language  \\\n",
       "0        0.338892           0.627178        0.049451             [en]   \n",
       "1        0.019741           0.039407        0.010991             [en]   \n",
       "2        0.021933           0.064458        0.055594             [en]   \n",
       "\n",
       "                                    comment_filtered  \\\n",
       "0  Damn dude, even with mimic I think it would ta...   \n",
       "1  This is the pewds that I thought he would turn...   \n",
       "2  This is actually awesome. Cannot believe a mem...   \n",
       "\n",
       "                                     comment_cleaned  \\\n",
       "0  damn dude even mimic think would take approxim...   \n",
       "1  pewds thought would turn gaming early channel ...   \n",
       "2  actually awesome cannot believe meme became tr...   \n",
       "\n",
       "                                   comment_tokenized  \n",
       "0  [damn, dude, even, mimic, think, would, take, ...  \n",
       "1  [pewds, thought, would, turn, gaming, early, c...  \n",
       "2  [actually, awesome, can, not, believe, meme, b...  "
      ]
     },
     "execution_count": 57,
     "metadata": {},
     "output_type": "execute_result"
    }
   ],
   "source": [
    "# Combine into one DataFrame\n",
    "comment[\"comment_filtered\"] = comments_filtered\n",
    "comment[\"comment_cleaned\"] = comments_cleaned\n",
    "comment[\"comment_tokenized\"] = comments_tokenized\n",
    "comment.head(3)"
   ]
  },
  {
   "cell_type": "code",
   "execution_count": 58,
   "id": "f658def1-41a1-4d96-9836-85a32f43174c",
   "metadata": {
    "tags": []
   },
   "outputs": [
    {
     "data": {
      "text/plain": [
       "(124704, 17)"
      ]
     },
     "execution_count": 58,
     "metadata": {},
     "output_type": "execute_result"
    }
   ],
   "source": [
    "# Remove the missings\n",
    "comment.dropna(inplace=True)\n",
    "comment = comment[comment[\"comment_cleaned\"].str.len() > 0]\n",
    "comment.shape"
   ]
  },
  {
   "cell_type": "markdown",
   "id": "d1162133-8ee8-490f-b7af-a72287a137b7",
   "metadata": {},
   "source": [
    "  "
   ]
  },
  {
   "cell_type": "code",
   "execution_count": 59,
   "id": "6c8333b5-f8ad-48b0-a9c3-d9d71d3f92a9",
   "metadata": {
    "tags": []
   },
   "outputs": [],
   "source": [
    "# Tokenize the subtitles\n",
    "subtitles_tokenized = subtitles_cleaned.apply(word_tokenize)"
   ]
  },
  {
   "cell_type": "code",
   "execution_count": 60,
   "id": "12c16939-01e5-49cd-9c55-5d115ca7d808",
   "metadata": {
    "tags": []
   },
   "outputs": [
    {
     "data": {
      "text/html": [
       "<div>\n",
       "<style scoped>\n",
       "    .dataframe tbody tr th:only-of-type {\n",
       "        vertical-align: middle;\n",
       "    }\n",
       "\n",
       "    .dataframe tbody tr th {\n",
       "        vertical-align: top;\n",
       "    }\n",
       "\n",
       "    .dataframe thead th {\n",
       "        text-align: right;\n",
       "    }\n",
       "</style>\n",
       "<table border=\"1\" class=\"dataframe\">\n",
       "  <thead>\n",
       "    <tr style=\"text-align: right;\">\n",
       "      <th></th>\n",
       "      <th>channel_id</th>\n",
       "      <th>video_id</th>\n",
       "      <th>video_title</th>\n",
       "      <th>video_creation_time</th>\n",
       "      <th>video_description</th>\n",
       "      <th>video_duration</th>\n",
       "      <th>video_tags</th>\n",
       "      <th>video_viewcount</th>\n",
       "      <th>video_likecount</th>\n",
       "      <th>video_commentcount</th>\n",
       "      <th>...</th>\n",
       "      <th>video_toxicity</th>\n",
       "      <th>video_severe_toxicity</th>\n",
       "      <th>video_identity_attack</th>\n",
       "      <th>video_insult</th>\n",
       "      <th>video_profanity</th>\n",
       "      <th>video_threat</th>\n",
       "      <th>video_language</th>\n",
       "      <th>video_subtitle_filtered</th>\n",
       "      <th>video_subtitle_cleaned</th>\n",
       "      <th>video_subtitle_tokenized</th>\n",
       "    </tr>\n",
       "  </thead>\n",
       "  <tbody>\n",
       "    <tr>\n",
       "      <th>0</th>\n",
       "      <td>UC-lHJZR3Gqxm24_Vd_AJ5Yw</td>\n",
       "      <td>F-yEoHL7MYY</td>\n",
       "      <td>I t̶r̶i̶e̶d̶ ̶t̶o̶ beat Elden Ring Without Dyi...</td>\n",
       "      <td>2022-04-30 16:40:18+00:00</td>\n",
       "      <td>🌏 Get exclusive NordVPN deal here ➵  https://N...</td>\n",
       "      <td>3227.0</td>\n",
       "      <td>['pewdiepie', 'pewds', 'pewdie']</td>\n",
       "      <td>11590164</td>\n",
       "      <td>474052</td>\n",
       "      <td>15146.0</td>\n",
       "      <td>...</td>\n",
       "      <td>0.358079</td>\n",
       "      <td>0.071938</td>\n",
       "      <td>0.056368</td>\n",
       "      <td>0.148396</td>\n",
       "      <td>0.244498</td>\n",
       "      <td>0.224883</td>\n",
       "      <td>[en]</td>\n",
       "      <td>i have beaten all souls games without dying a ...</td>\n",
       "      <td>beaten souls games without dying single time m...</td>\n",
       "      <td>[beaten, souls, games, without, dying, single,...</td>\n",
       "    </tr>\n",
       "    <tr>\n",
       "      <th>1</th>\n",
       "      <td>UC-lHJZR3Gqxm24_Vd_AJ5Yw</td>\n",
       "      <td>PV4NGwn_xdI</td>\n",
       "      <td>Elden Ring #1 - 0 DEATH PLAYTHROUGH</td>\n",
       "      <td>2022-02-24 15:00:10+00:00</td>\n",
       "      <td>NEW animated wallpapers on GX 👇👇👇\\nhttps://ope...</td>\n",
       "      <td>818.0</td>\n",
       "      <td>['pewdiepie', 'pewds', 'pewdie', 'elden ring',...</td>\n",
       "      <td>5179366</td>\n",
       "      <td>192101</td>\n",
       "      <td>4313.0</td>\n",
       "      <td>...</td>\n",
       "      <td>0.500542</td>\n",
       "      <td>0.155937</td>\n",
       "      <td>0.098798</td>\n",
       "      <td>0.280781</td>\n",
       "      <td>0.373053</td>\n",
       "      <td>0.261945</td>\n",
       "      <td>[en]</td>\n",
       "      <td>ah you ready yes we are ready eldon ring baby ...</td>\n",
       "      <td>ah ready yes ready eldon ring baby likely unli...</td>\n",
       "      <td>[ah, ready, yes, ready, eldon, ring, baby, lik...</td>\n",
       "    </tr>\n",
       "    <tr>\n",
       "      <th>2</th>\n",
       "      <td>UC-lHJZR3Gqxm24_Vd_AJ5Yw</td>\n",
       "      <td>CF3jK8ai0l4</td>\n",
       "      <td>New GTA Definitive Edition is hilariously bad</td>\n",
       "      <td>2021-11-19 17:15:01+00:00</td>\n",
       "      <td>Grand Theft Auto: The Trilogy is not epic bros...</td>\n",
       "      <td>570.0</td>\n",
       "      <td>['pewdiepie', 'pewds', 'pewdie', 'Grand Theft ...</td>\n",
       "      <td>4053858</td>\n",
       "      <td>282853</td>\n",
       "      <td>9073.0</td>\n",
       "      <td>...</td>\n",
       "      <td>0.407400</td>\n",
       "      <td>0.082654</td>\n",
       "      <td>0.078979</td>\n",
       "      <td>0.231179</td>\n",
       "      <td>0.271065</td>\n",
       "      <td>0.105283</td>\n",
       "      <td>[en]</td>\n",
       "      <td>but the new gta game is iron and it is not wha...</td>\n",
       "      <td>new gta game iron whatever one wanted new gta ...</td>\n",
       "      <td>[new, gta, game, iron, whatever, one, wanted, ...</td>\n",
       "    </tr>\n",
       "  </tbody>\n",
       "</table>\n",
       "<p>3 rows × 29 columns</p>\n",
       "</div>"
      ],
      "text/plain": [
       "                 channel_id     video_id  \\\n",
       "0  UC-lHJZR3Gqxm24_Vd_AJ5Yw  F-yEoHL7MYY   \n",
       "1  UC-lHJZR3Gqxm24_Vd_AJ5Yw  PV4NGwn_xdI   \n",
       "2  UC-lHJZR3Gqxm24_Vd_AJ5Yw  CF3jK8ai0l4   \n",
       "\n",
       "                                         video_title  \\\n",
       "0  I t̶r̶i̶e̶d̶ ̶t̶o̶ beat Elden Ring Without Dyi...   \n",
       "1                Elden Ring #1 - 0 DEATH PLAYTHROUGH   \n",
       "2      New GTA Definitive Edition is hilariously bad   \n",
       "\n",
       "        video_creation_time  \\\n",
       "0 2022-04-30 16:40:18+00:00   \n",
       "1 2022-02-24 15:00:10+00:00   \n",
       "2 2021-11-19 17:15:01+00:00   \n",
       "\n",
       "                                   video_description  video_duration  \\\n",
       "0  🌏 Get exclusive NordVPN deal here ➵  https://N...          3227.0   \n",
       "1  NEW animated wallpapers on GX 👇👇👇\\nhttps://ope...           818.0   \n",
       "2  Grand Theft Auto: The Trilogy is not epic bros...           570.0   \n",
       "\n",
       "                                          video_tags  video_viewcount  \\\n",
       "0                   ['pewdiepie', 'pewds', 'pewdie']         11590164   \n",
       "1  ['pewdiepie', 'pewds', 'pewdie', 'elden ring',...          5179366   \n",
       "2  ['pewdiepie', 'pewds', 'pewdie', 'Grand Theft ...          4053858   \n",
       "\n",
       "   video_likecount  video_commentcount  ... video_toxicity  \\\n",
       "0           474052             15146.0  ...       0.358079   \n",
       "1           192101              4313.0  ...       0.500542   \n",
       "2           282853              9073.0  ...       0.407400   \n",
       "\n",
       "  video_severe_toxicity  video_identity_attack video_insult video_profanity  \\\n",
       "0              0.071938               0.056368     0.148396        0.244498   \n",
       "1              0.155937               0.098798     0.280781        0.373053   \n",
       "2              0.082654               0.078979     0.231179        0.271065   \n",
       "\n",
       "   video_threat  video_language  \\\n",
       "0      0.224883            [en]   \n",
       "1      0.261945            [en]   \n",
       "2      0.105283            [en]   \n",
       "\n",
       "                             video_subtitle_filtered  \\\n",
       "0  i have beaten all souls games without dying a ...   \n",
       "1  ah you ready yes we are ready eldon ring baby ...   \n",
       "2  but the new gta game is iron and it is not wha...   \n",
       "\n",
       "                              video_subtitle_cleaned  \\\n",
       "0  beaten souls games without dying single time m...   \n",
       "1  ah ready yes ready eldon ring baby likely unli...   \n",
       "2  new gta game iron whatever one wanted new gta ...   \n",
       "\n",
       "                            video_subtitle_tokenized  \n",
       "0  [beaten, souls, games, without, dying, single,...  \n",
       "1  [ah, ready, yes, ready, eldon, ring, baby, lik...  \n",
       "2  [new, gta, game, iron, whatever, one, wanted, ...  \n",
       "\n",
       "[3 rows x 29 columns]"
      ]
     },
     "execution_count": 60,
     "metadata": {},
     "output_type": "execute_result"
    }
   ],
   "source": [
    "# Combine into one DataFrame\n",
    "video[\"video_subtitle_filtered\"] = subtitles_filtered\n",
    "video[\"video_subtitle_cleaned\"] = subtitles_cleaned\n",
    "video[\"video_subtitle_tokenized\"] = subtitles_tokenized\n",
    "video.head(3)"
   ]
  },
  {
   "cell_type": "code",
   "execution_count": 61,
   "id": "32d24e59-595e-4d0e-906f-3f13ae0fca6e",
   "metadata": {
    "tags": []
   },
   "outputs": [
    {
     "data": {
      "text/plain": [
       "(1307, 29)"
      ]
     },
     "execution_count": 61,
     "metadata": {},
     "output_type": "execute_result"
    }
   ],
   "source": [
    "# Check the dimensions\n",
    "video.dropna(inplace=True)\n",
    "video.shape"
   ]
  },
  {
   "cell_type": "markdown",
   "id": "7cce4c8b-225a-4d2d-8691-1746ced0ff53",
   "metadata": {},
   "source": [
    "<br>"
   ]
  },
  {
   "cell_type": "markdown",
   "id": "117e9fe5-83f2-4dda-8577-d36ad057254c",
   "metadata": {
    "tags": []
   },
   "source": [
    "## 6. Content Labeling: Part II"
   ]
  },
  {
   "cell_type": "code",
   "execution_count": 62,
   "id": "b4f3931f-d3a2-465a-bdd7-4ffb0601535a",
   "metadata": {
    "tags": []
   },
   "outputs": [],
   "source": [
    "# Extract the comments\n",
    "comments_filtered = comment[\"comment_filtered\"]\n",
    "comments_cleaned = comment[\"comment_cleaned\"]"
   ]
  },
  {
   "cell_type": "code",
   "execution_count": 63,
   "id": "40d37650-9500-4389-afc0-76002868316a",
   "metadata": {
    "tags": []
   },
   "outputs": [],
   "source": [
    "# Extract the subtitles\n",
    "subtitles_filtered = video[\"video_subtitle_filtered\"]\n",
    "subtitles_cleaned = video[\"video_subtitle_cleaned\"]"
   ]
  },
  {
   "cell_type": "markdown",
   "id": "cef66109-985f-4772-940e-a6c38a85c680",
   "metadata": {},
   "source": [
    "  "
   ]
  },
  {
   "cell_type": "markdown",
   "id": "5ea1c3a3-2632-4fc3-9c69-65a544130c5e",
   "metadata": {
    "tags": []
   },
   "source": [
    "### Sentiment Evaluation"
   ]
  },
  {
   "cell_type": "markdown",
   "id": "6402449d-082c-4371-b4d4-5a7778e4bd20",
   "metadata": {},
   "source": [
    "_To further investigate the **emotional dynamics** of the comments, we will compute the **sentiment scores** using **[VADER](https://doi.org/10.1609/icwsm.v8i1.14550)**, **[TextBlob](https://textblob.readthedocs.io/en/dev/)**, and **[Empath](https://doi.org/10.48550/arXiv.1602.06979)**.  For Empath analysis, we collected all **194 categories** it offers, aiming for a more nuanced understanding of the **prevalent themes** within YouTube gaming comments - i.e., are toxicity more prevalent when certain topics are present in the video?_    \n",
    "\n",
    "*In the following steps, we will apply **VADER** to minimally cleaned text to leverage its design, which is **tailored to [social media content](https://github.com/cjhutto/vaderSentiment/blob/master/vaderSentiment/vaderSentiment.py#L517)** with its ability to **interpret punctuation, all caps, slang, and emoji**.  On the other hand, **TextBlob** and **Empath** analyses will be performed on text that has been more thoroughly cleaned.  This decision stems from the absence of clear evidence on their ability to handle social media text nuances from the [TextBlob documentation](https://textblob.readthedocs.io/en/dev/api_reference.html#textblob.blob.TextBlob) or the [Empath paper](https://arxiv.org/pdf/1602.06979.pdf).*  "
   ]
  },
  {
   "cell_type": "code",
   "execution_count": 64,
   "id": "a879bc68-42e9-4bd5-9327-4383e4efd620",
   "metadata": {
    "tags": []
   },
   "outputs": [],
   "source": [
    "# Import the libraries\n",
    "from nltk.corpus import opinion_lexicon\n",
    "from vaderSentiment.vaderSentiment import SentimentIntensityAnalyzer\n",
    "from textblob import TextBlob\n",
    "from empath import Empath"
   ]
  },
  {
   "cell_type": "code",
   "execution_count": 65,
   "id": "dc1de1ed-c6cb-4168-9328-8aeaa47750fd",
   "metadata": {
    "tags": []
   },
   "outputs": [],
   "source": [
    "def vader_sentiment(text, prefix):\n",
    "    \"\"\"\n",
    "    Compute VADER sentiment scores for a given text.\n",
    "    \"\"\"\n",
    "    # Initialize the analyzer\n",
    "    analyzer = SentimentIntensityAnalyzer()\n",
    "    \n",
    "    # Compute the scores\n",
    "    scores = analyzer.polarity_scores(text)\n",
    "    vader_scores = {f\"{prefix}{k}\": v for k, v in scores.items()}\n",
    "    \n",
    "    return vader_scores"
   ]
  },
  {
   "cell_type": "code",
   "execution_count": 66,
   "id": "17b84010-1737-4e68-a0f3-48521422a247",
   "metadata": {
    "tags": []
   },
   "outputs": [],
   "source": [
    "def textblob_sentiment(text, prefix):\n",
    "    \"\"\"\n",
    "    Compute TextBlob sentiment scores for a given text.\n",
    "    \"\"\"\n",
    "    # Initialize the analyzer\n",
    "    blob = TextBlob(text)\n",
    "    \n",
    "    # Compute the scores\n",
    "    textblob_scores = {\n",
    "        f\"{prefix}polarity\": blob.sentiment.polarity, \n",
    "        f\"{prefix}subjectivity\": blob.sentiment.subjectivity\n",
    "    }\n",
    "    \n",
    "    return textblob_scores"
   ]
  },
  {
   "cell_type": "code",
   "execution_count": 67,
   "id": "90d0d6a9-8b3f-478c-bfcf-0197b70dc120",
   "metadata": {
    "tags": []
   },
   "outputs": [],
   "source": [
    "def empath_sentiment(text, prefix):\n",
    "    \"\"\"\n",
    "    Compute Empath sentiment scores for a given text.\n",
    "    \"\"\"\n",
    "    # Initialize the analyzer\n",
    "    lexicon = Empath()\n",
    "    \n",
    "    # Compute the scores\n",
    "    categories = lexicon.analyze(text, normalize=True)\n",
    "    empath_scores = {f\"{prefix}{k}\":v for k, v in categories.items()}\n",
    "    \n",
    "    return empath_scores"
   ]
  },
  {
   "cell_type": "markdown",
   "id": "43f7c898-8056-431b-bfb7-7518117aab93",
   "metadata": {},
   "source": [
    "  "
   ]
  },
  {
   "cell_type": "markdown",
   "id": "50178cee-9ccb-43ef-86e5-3ce33428ca2c",
   "metadata": {},
   "source": [
    "#### Comments"
   ]
  },
  {
   "cell_type": "code",
   "execution_count": 68,
   "id": "7342fcdd-01da-45cb-ba69-d88b0f55ae52",
   "metadata": {
    "tags": []
   },
   "outputs": [
    {
     "name": "stdout",
     "output_type": "stream",
     "text": [
      "Runtime: 763.6631\n",
      "\n"
     ]
    },
    {
     "data": {
      "text/html": [
       "<div>\n",
       "<style scoped>\n",
       "    .dataframe tbody tr th:only-of-type {\n",
       "        vertical-align: middle;\n",
       "    }\n",
       "\n",
       "    .dataframe tbody tr th {\n",
       "        vertical-align: top;\n",
       "    }\n",
       "\n",
       "    .dataframe thead th {\n",
       "        text-align: right;\n",
       "    }\n",
       "</style>\n",
       "<table border=\"1\" class=\"dataframe\">\n",
       "  <thead>\n",
       "    <tr style=\"text-align: right;\">\n",
       "      <th></th>\n",
       "      <th>comment_neg</th>\n",
       "      <th>comment_neu</th>\n",
       "      <th>comment_pos</th>\n",
       "      <th>comment_compound</th>\n",
       "    </tr>\n",
       "  </thead>\n",
       "  <tbody>\n",
       "    <tr>\n",
       "      <th>0</th>\n",
       "      <td>0.087</td>\n",
       "      <td>0.743</td>\n",
       "      <td>0.170</td>\n",
       "      <td>0.3707</td>\n",
       "    </tr>\n",
       "    <tr>\n",
       "      <th>1</th>\n",
       "      <td>0.000</td>\n",
       "      <td>0.872</td>\n",
       "      <td>0.128</td>\n",
       "      <td>0.5859</td>\n",
       "    </tr>\n",
       "    <tr>\n",
       "      <th>2</th>\n",
       "      <td>0.086</td>\n",
       "      <td>0.613</td>\n",
       "      <td>0.301</td>\n",
       "      <td>0.7906</td>\n",
       "    </tr>\n",
       "    <tr>\n",
       "      <th>3</th>\n",
       "      <td>0.000</td>\n",
       "      <td>0.704</td>\n",
       "      <td>0.296</td>\n",
       "      <td>0.9358</td>\n",
       "    </tr>\n",
       "    <tr>\n",
       "      <th>4</th>\n",
       "      <td>0.029</td>\n",
       "      <td>0.813</td>\n",
       "      <td>0.158</td>\n",
       "      <td>0.8761</td>\n",
       "    </tr>\n",
       "  </tbody>\n",
       "</table>\n",
       "</div>"
      ],
      "text/plain": [
       "   comment_neg  comment_neu  comment_pos  comment_compound\n",
       "0        0.087        0.743        0.170            0.3707\n",
       "1        0.000        0.872        0.128            0.5859\n",
       "2        0.086        0.613        0.301            0.7906\n",
       "3        0.000        0.704        0.296            0.9358\n",
       "4        0.029        0.813        0.158            0.8761"
      ]
     },
     "execution_count": 68,
     "metadata": {},
     "output_type": "execute_result"
    }
   ],
   "source": [
    "# Start timing\n",
    "start_time = time.time()\n",
    "\n",
    "# Compute VADER sentiment scores for each comment\n",
    "comment_vader_scores = \\\n",
    "    comments_filtered.apply(lambda x: vader_sentiment(x, \"comment_\")).apply(pd.Series)\n",
    "\n",
    "# End timing\n",
    "print(f\"Runtime: {time.time() - start_time:.4f}\\n\")\n",
    "comment_vader_scores.head()"
   ]
  },
  {
   "cell_type": "code",
   "execution_count": 69,
   "id": "85d9ee0d-77aa-4752-97b0-d3bd557683d2",
   "metadata": {
    "tags": []
   },
   "outputs": [
    {
     "data": {
      "text/html": [
       "<div>\n",
       "<style scoped>\n",
       "    .dataframe tbody tr th:only-of-type {\n",
       "        vertical-align: middle;\n",
       "    }\n",
       "\n",
       "    .dataframe tbody tr th {\n",
       "        vertical-align: top;\n",
       "    }\n",
       "\n",
       "    .dataframe thead th {\n",
       "        text-align: right;\n",
       "    }\n",
       "</style>\n",
       "<table border=\"1\" class=\"dataframe\">\n",
       "  <thead>\n",
       "    <tr style=\"text-align: right;\">\n",
       "      <th></th>\n",
       "      <th>comment_polarity</th>\n",
       "      <th>comment_subjectivity</th>\n",
       "    </tr>\n",
       "  </thead>\n",
       "  <tbody>\n",
       "    <tr>\n",
       "      <th>0</th>\n",
       "      <td>-0.033333</td>\n",
       "      <td>0.400000</td>\n",
       "    </tr>\n",
       "    <tr>\n",
       "      <th>1</th>\n",
       "      <td>0.395238</td>\n",
       "      <td>0.345238</td>\n",
       "    </tr>\n",
       "    <tr>\n",
       "      <th>2</th>\n",
       "      <td>0.416667</td>\n",
       "      <td>0.583333</td>\n",
       "    </tr>\n",
       "    <tr>\n",
       "      <th>3</th>\n",
       "      <td>0.480000</td>\n",
       "      <td>0.560000</td>\n",
       "    </tr>\n",
       "    <tr>\n",
       "      <th>4</th>\n",
       "      <td>-0.126667</td>\n",
       "      <td>0.673333</td>\n",
       "    </tr>\n",
       "  </tbody>\n",
       "</table>\n",
       "</div>"
      ],
      "text/plain": [
       "   comment_polarity  comment_subjectivity\n",
       "0         -0.033333              0.400000\n",
       "1          0.395238              0.345238\n",
       "2          0.416667              0.583333\n",
       "3          0.480000              0.560000\n",
       "4         -0.126667              0.673333"
      ]
     },
     "execution_count": 69,
     "metadata": {},
     "output_type": "execute_result"
    }
   ],
   "source": [
    "# Compute TextBlob sentiment scores for each comment\n",
    "comment_textblob_scores = \\\n",
    "    comments_cleaned.apply(lambda x: textblob_sentiment(x, \"comment_\")).apply(pd.Series)\n",
    "comment_textblob_scores.head()"
   ]
  },
  {
   "cell_type": "code",
   "execution_count": 70,
   "id": "67fe2d6e-0728-4d80-98f8-5cdded9c6487",
   "metadata": {
    "tags": []
   },
   "outputs": [
    {
     "name": "stdout",
     "output_type": "stream",
     "text": [
      "Runtime: 1670.6397\n",
      "\n"
     ]
    },
    {
     "data": {
      "text/html": [
       "<div>\n",
       "<style scoped>\n",
       "    .dataframe tbody tr th:only-of-type {\n",
       "        vertical-align: middle;\n",
       "    }\n",
       "\n",
       "    .dataframe tbody tr th {\n",
       "        vertical-align: top;\n",
       "    }\n",
       "\n",
       "    .dataframe thead th {\n",
       "        text-align: right;\n",
       "    }\n",
       "</style>\n",
       "<table border=\"1\" class=\"dataframe\">\n",
       "  <thead>\n",
       "    <tr style=\"text-align: right;\">\n",
       "      <th></th>\n",
       "      <th>comment_help</th>\n",
       "      <th>comment_office</th>\n",
       "      <th>comment_dance</th>\n",
       "      <th>comment_money</th>\n",
       "      <th>comment_wedding</th>\n",
       "      <th>comment_domestic_work</th>\n",
       "      <th>comment_sleep</th>\n",
       "      <th>comment_medical_emergency</th>\n",
       "      <th>comment_cold</th>\n",
       "      <th>comment_hate</th>\n",
       "      <th>...</th>\n",
       "      <th>comment_weapon</th>\n",
       "      <th>comment_children</th>\n",
       "      <th>comment_monster</th>\n",
       "      <th>comment_ocean</th>\n",
       "      <th>comment_giving</th>\n",
       "      <th>comment_contentment</th>\n",
       "      <th>comment_writing</th>\n",
       "      <th>comment_rural</th>\n",
       "      <th>comment_positive_emotion</th>\n",
       "      <th>comment_musical</th>\n",
       "    </tr>\n",
       "  </thead>\n",
       "  <tbody>\n",
       "    <tr>\n",
       "      <th>0</th>\n",
       "      <td>0.0</td>\n",
       "      <td>0.0</td>\n",
       "      <td>0.0</td>\n",
       "      <td>0.0</td>\n",
       "      <td>0.000000</td>\n",
       "      <td>0.0</td>\n",
       "      <td>0.0</td>\n",
       "      <td>0.0</td>\n",
       "      <td>0.0</td>\n",
       "      <td>0.0</td>\n",
       "      <td>...</td>\n",
       "      <td>0.0</td>\n",
       "      <td>0.0</td>\n",
       "      <td>0.0</td>\n",
       "      <td>0.0</td>\n",
       "      <td>0.0</td>\n",
       "      <td>0.0</td>\n",
       "      <td>0.0</td>\n",
       "      <td>0.0</td>\n",
       "      <td>0.000000</td>\n",
       "      <td>0.000000</td>\n",
       "    </tr>\n",
       "    <tr>\n",
       "      <th>1</th>\n",
       "      <td>0.0</td>\n",
       "      <td>0.0</td>\n",
       "      <td>0.0</td>\n",
       "      <td>0.0</td>\n",
       "      <td>0.000000</td>\n",
       "      <td>0.0</td>\n",
       "      <td>0.0</td>\n",
       "      <td>0.0</td>\n",
       "      <td>0.0</td>\n",
       "      <td>0.0</td>\n",
       "      <td>...</td>\n",
       "      <td>0.0</td>\n",
       "      <td>0.0</td>\n",
       "      <td>0.0</td>\n",
       "      <td>0.0</td>\n",
       "      <td>0.0</td>\n",
       "      <td>0.1</td>\n",
       "      <td>0.0</td>\n",
       "      <td>0.0</td>\n",
       "      <td>0.100000</td>\n",
       "      <td>0.000000</td>\n",
       "    </tr>\n",
       "    <tr>\n",
       "      <th>2</th>\n",
       "      <td>0.0</td>\n",
       "      <td>0.0</td>\n",
       "      <td>0.0</td>\n",
       "      <td>0.0</td>\n",
       "      <td>0.000000</td>\n",
       "      <td>0.0</td>\n",
       "      <td>0.0</td>\n",
       "      <td>0.0</td>\n",
       "      <td>0.0</td>\n",
       "      <td>0.0</td>\n",
       "      <td>...</td>\n",
       "      <td>0.0</td>\n",
       "      <td>0.0</td>\n",
       "      <td>0.0</td>\n",
       "      <td>0.0</td>\n",
       "      <td>0.0</td>\n",
       "      <td>0.0</td>\n",
       "      <td>0.0</td>\n",
       "      <td>0.0</td>\n",
       "      <td>0.000000</td>\n",
       "      <td>0.000000</td>\n",
       "    </tr>\n",
       "    <tr>\n",
       "      <th>3</th>\n",
       "      <td>0.0</td>\n",
       "      <td>0.0</td>\n",
       "      <td>0.0</td>\n",
       "      <td>0.0</td>\n",
       "      <td>0.047619</td>\n",
       "      <td>0.0</td>\n",
       "      <td>0.0</td>\n",
       "      <td>0.0</td>\n",
       "      <td>0.0</td>\n",
       "      <td>0.0</td>\n",
       "      <td>...</td>\n",
       "      <td>0.0</td>\n",
       "      <td>0.0</td>\n",
       "      <td>0.0</td>\n",
       "      <td>0.0</td>\n",
       "      <td>0.0</td>\n",
       "      <td>0.0</td>\n",
       "      <td>0.0</td>\n",
       "      <td>0.0</td>\n",
       "      <td>0.000000</td>\n",
       "      <td>0.047619</td>\n",
       "    </tr>\n",
       "    <tr>\n",
       "      <th>4</th>\n",
       "      <td>0.0</td>\n",
       "      <td>0.0</td>\n",
       "      <td>0.0</td>\n",
       "      <td>0.0</td>\n",
       "      <td>0.000000</td>\n",
       "      <td>0.0</td>\n",
       "      <td>0.0</td>\n",
       "      <td>0.0</td>\n",
       "      <td>0.0</td>\n",
       "      <td>0.0</td>\n",
       "      <td>...</td>\n",
       "      <td>0.0</td>\n",
       "      <td>0.0</td>\n",
       "      <td>0.0</td>\n",
       "      <td>0.0</td>\n",
       "      <td>0.0</td>\n",
       "      <td>0.0</td>\n",
       "      <td>0.0</td>\n",
       "      <td>0.0</td>\n",
       "      <td>0.038462</td>\n",
       "      <td>0.000000</td>\n",
       "    </tr>\n",
       "  </tbody>\n",
       "</table>\n",
       "<p>5 rows × 194 columns</p>\n",
       "</div>"
      ],
      "text/plain": [
       "   comment_help  comment_office  comment_dance  comment_money  \\\n",
       "0           0.0             0.0            0.0            0.0   \n",
       "1           0.0             0.0            0.0            0.0   \n",
       "2           0.0             0.0            0.0            0.0   \n",
       "3           0.0             0.0            0.0            0.0   \n",
       "4           0.0             0.0            0.0            0.0   \n",
       "\n",
       "   comment_wedding  comment_domestic_work  comment_sleep  \\\n",
       "0         0.000000                    0.0            0.0   \n",
       "1         0.000000                    0.0            0.0   \n",
       "2         0.000000                    0.0            0.0   \n",
       "3         0.047619                    0.0            0.0   \n",
       "4         0.000000                    0.0            0.0   \n",
       "\n",
       "   comment_medical_emergency  comment_cold  comment_hate  ...  comment_weapon  \\\n",
       "0                        0.0           0.0           0.0  ...             0.0   \n",
       "1                        0.0           0.0           0.0  ...             0.0   \n",
       "2                        0.0           0.0           0.0  ...             0.0   \n",
       "3                        0.0           0.0           0.0  ...             0.0   \n",
       "4                        0.0           0.0           0.0  ...             0.0   \n",
       "\n",
       "   comment_children  comment_monster  comment_ocean  comment_giving  \\\n",
       "0               0.0              0.0            0.0             0.0   \n",
       "1               0.0              0.0            0.0             0.0   \n",
       "2               0.0              0.0            0.0             0.0   \n",
       "3               0.0              0.0            0.0             0.0   \n",
       "4               0.0              0.0            0.0             0.0   \n",
       "\n",
       "   comment_contentment  comment_writing  comment_rural  \\\n",
       "0                  0.0              0.0            0.0   \n",
       "1                  0.1              0.0            0.0   \n",
       "2                  0.0              0.0            0.0   \n",
       "3                  0.0              0.0            0.0   \n",
       "4                  0.0              0.0            0.0   \n",
       "\n",
       "   comment_positive_emotion  comment_musical  \n",
       "0                  0.000000         0.000000  \n",
       "1                  0.100000         0.000000  \n",
       "2                  0.000000         0.000000  \n",
       "3                  0.000000         0.047619  \n",
       "4                  0.038462         0.000000  \n",
       "\n",
       "[5 rows x 194 columns]"
      ]
     },
     "execution_count": 70,
     "metadata": {},
     "output_type": "execute_result"
    }
   ],
   "source": [
    "# Start timing\n",
    "start_time = time.time()\n",
    "\n",
    "# Compute Empath sentiment scores for each comment\n",
    "comment_empath_scores = \\\n",
    "    comments_cleaned.apply(lambda x: empath_sentiment(x, \"comment_\")).apply(pd.Series)\n",
    "\n",
    "# End timing\n",
    "print(f\"Runtime: {time.time() - start_time:.4f}\\n\")\n",
    "comment_empath_scores.head()"
   ]
  },
  {
   "cell_type": "code",
   "execution_count": 71,
   "id": "98576024-4743-4df4-8f94-af3bedbff9a9",
   "metadata": {
    "tags": []
   },
   "outputs": [
    {
     "data": {
      "text/html": [
       "<div>\n",
       "<style scoped>\n",
       "    .dataframe tbody tr th:only-of-type {\n",
       "        vertical-align: middle;\n",
       "    }\n",
       "\n",
       "    .dataframe tbody tr th {\n",
       "        vertical-align: top;\n",
       "    }\n",
       "\n",
       "    .dataframe thead th {\n",
       "        text-align: right;\n",
       "    }\n",
       "</style>\n",
       "<table border=\"1\" class=\"dataframe\">\n",
       "  <thead>\n",
       "    <tr style=\"text-align: right;\">\n",
       "      <th></th>\n",
       "      <th>video_id</th>\n",
       "      <th>comment_id</th>\n",
       "      <th>comment_author_id</th>\n",
       "      <th>comment_text</th>\n",
       "      <th>comment_time</th>\n",
       "      <th>comment_likecount</th>\n",
       "      <th>comment_replycount</th>\n",
       "      <th>comment_toxicity</th>\n",
       "      <th>comment_severe_toxicity</th>\n",
       "      <th>comment_identity_attack</th>\n",
       "      <th>...</th>\n",
       "      <th>comment_weapon</th>\n",
       "      <th>comment_children</th>\n",
       "      <th>comment_monster</th>\n",
       "      <th>comment_ocean</th>\n",
       "      <th>comment_giving</th>\n",
       "      <th>comment_contentment</th>\n",
       "      <th>comment_writing</th>\n",
       "      <th>comment_rural</th>\n",
       "      <th>comment_positive_emotion</th>\n",
       "      <th>comment_musical</th>\n",
       "    </tr>\n",
       "  </thead>\n",
       "  <tbody>\n",
       "    <tr>\n",
       "      <th>0</th>\n",
       "      <td>F-yEoHL7MYY</td>\n",
       "      <td>UgwN1kGXwi9M7jeOb0d4AaABAg</td>\n",
       "      <td>UCLHsZ4X7YemjxRrvq0AI4LA</td>\n",
       "      <td>Damn dude, even with mimic I think it would ta...</td>\n",
       "      <td>2022-05-02 19:37:22+00:00</td>\n",
       "      <td>9907.0</td>\n",
       "      <td>47.0</td>\n",
       "      <td>0.543256</td>\n",
       "      <td>0.034110</td>\n",
       "      <td>0.028629</td>\n",
       "      <td>...</td>\n",
       "      <td>0.0</td>\n",
       "      <td>0.0</td>\n",
       "      <td>0.0</td>\n",
       "      <td>0.0</td>\n",
       "      <td>0.0</td>\n",
       "      <td>0.0</td>\n",
       "      <td>0.0</td>\n",
       "      <td>0.0</td>\n",
       "      <td>0.0</td>\n",
       "      <td>0.0</td>\n",
       "    </tr>\n",
       "    <tr>\n",
       "      <th>1</th>\n",
       "      <td>F-yEoHL7MYY</td>\n",
       "      <td>UgwW5nWEkxdES-g3hk54AaABAg</td>\n",
       "      <td>UCJ9VDCLZDmeJIU3Branlstg</td>\n",
       "      <td>This is the pewds that I thought he’d turn int...</td>\n",
       "      <td>2022-12-14 23:36:11+00:00</td>\n",
       "      <td>6299.0</td>\n",
       "      <td>9.0</td>\n",
       "      <td>0.077668</td>\n",
       "      <td>0.004120</td>\n",
       "      <td>0.011765</td>\n",
       "      <td>...</td>\n",
       "      <td>0.0</td>\n",
       "      <td>0.0</td>\n",
       "      <td>0.0</td>\n",
       "      <td>0.0</td>\n",
       "      <td>0.0</td>\n",
       "      <td>0.1</td>\n",
       "      <td>0.0</td>\n",
       "      <td>0.0</td>\n",
       "      <td>0.1</td>\n",
       "      <td>0.0</td>\n",
       "    </tr>\n",
       "    <tr>\n",
       "      <th>2</th>\n",
       "      <td>F-yEoHL7MYY</td>\n",
       "      <td>UgyGe0HN8toQWUZZtCl4AaABAg</td>\n",
       "      <td>UCs-mo1206PASdacjDqfdLng</td>\n",
       "      <td>This is actually awesome. Can't believe a meme...</td>\n",
       "      <td>2022-12-31 18:16:36+00:00</td>\n",
       "      <td>5091.0</td>\n",
       "      <td>54.0</td>\n",
       "      <td>0.146031</td>\n",
       "      <td>0.006599</td>\n",
       "      <td>0.009027</td>\n",
       "      <td>...</td>\n",
       "      <td>0.0</td>\n",
       "      <td>0.0</td>\n",
       "      <td>0.0</td>\n",
       "      <td>0.0</td>\n",
       "      <td>0.0</td>\n",
       "      <td>0.0</td>\n",
       "      <td>0.0</td>\n",
       "      <td>0.0</td>\n",
       "      <td>0.0</td>\n",
       "      <td>0.0</td>\n",
       "    </tr>\n",
       "  </tbody>\n",
       "</table>\n",
       "<p>3 rows × 217 columns</p>\n",
       "</div>"
      ],
      "text/plain": [
       "      video_id                  comment_id         comment_author_id  \\\n",
       "0  F-yEoHL7MYY  UgwN1kGXwi9M7jeOb0d4AaABAg  UCLHsZ4X7YemjxRrvq0AI4LA   \n",
       "1  F-yEoHL7MYY  UgwW5nWEkxdES-g3hk54AaABAg  UCJ9VDCLZDmeJIU3Branlstg   \n",
       "2  F-yEoHL7MYY  UgyGe0HN8toQWUZZtCl4AaABAg  UCs-mo1206PASdacjDqfdLng   \n",
       "\n",
       "                                        comment_text  \\\n",
       "0  Damn dude, even with mimic I think it would ta...   \n",
       "1  This is the pewds that I thought he’d turn int...   \n",
       "2  This is actually awesome. Can't believe a meme...   \n",
       "\n",
       "               comment_time  comment_likecount  comment_replycount  \\\n",
       "0 2022-05-02 19:37:22+00:00             9907.0                47.0   \n",
       "1 2022-12-14 23:36:11+00:00             6299.0                 9.0   \n",
       "2 2022-12-31 18:16:36+00:00             5091.0                54.0   \n",
       "\n",
       "   comment_toxicity  comment_severe_toxicity  comment_identity_attack  ...  \\\n",
       "0          0.543256                 0.034110                 0.028629  ...   \n",
       "1          0.077668                 0.004120                 0.011765  ...   \n",
       "2          0.146031                 0.006599                 0.009027  ...   \n",
       "\n",
       "   comment_weapon  comment_children  comment_monster comment_ocean  \\\n",
       "0             0.0               0.0              0.0           0.0   \n",
       "1             0.0               0.0              0.0           0.0   \n",
       "2             0.0               0.0              0.0           0.0   \n",
       "\n",
       "  comment_giving comment_contentment comment_writing  comment_rural  \\\n",
       "0            0.0                 0.0             0.0            0.0   \n",
       "1            0.0                 0.1             0.0            0.0   \n",
       "2            0.0                 0.0             0.0            0.0   \n",
       "\n",
       "   comment_positive_emotion  comment_musical  \n",
       "0                       0.0              0.0  \n",
       "1                       0.1              0.0  \n",
       "2                       0.0              0.0  \n",
       "\n",
       "[3 rows x 217 columns]"
      ]
     },
     "execution_count": 71,
     "metadata": {},
     "output_type": "execute_result"
    }
   ],
   "source": [
    "# Combine into one DataFrame\n",
    "comment = pd.concat([comment, comment_vader_scores, \n",
    "                     comment_textblob_scores, \n",
    "                     comment_empath_scores], axis=1)\n",
    "comment.head(3)"
   ]
  },
  {
   "cell_type": "code",
   "execution_count": 72,
   "id": "a535d527-8821-4df2-9605-265d0a73e4d6",
   "metadata": {
    "tags": []
   },
   "outputs": [
    {
     "data": {
      "text/plain": [
       "(124704, 217)"
      ]
     },
     "execution_count": 72,
     "metadata": {},
     "output_type": "execute_result"
    }
   ],
   "source": [
    "# Check the dimensions\n",
    "comment.shape"
   ]
  },
  {
   "cell_type": "code",
   "execution_count": 73,
   "id": "a409adf2-9ea3-4ca2-901e-8e0d532fcecb",
   "metadata": {
    "tags": []
   },
   "outputs": [],
   "source": [
    "# Write to CSV\n",
    "comment.to_csv(\"../data/comment-labeled.csv\", index=False, lineterminator=\"\\r\\n\")"
   ]
  },
  {
   "cell_type": "markdown",
   "id": "943d66c6-a509-4e12-8d4d-1fda17667b59",
   "metadata": {},
   "source": [
    "  "
   ]
  },
  {
   "cell_type": "markdown",
   "id": "1659a4de-40d1-4940-ba47-0108dade3f91",
   "metadata": {},
   "source": [
    "#### Subtitles"
   ]
  },
  {
   "cell_type": "code",
   "execution_count": 74,
   "id": "3824162e-fe95-4b4f-9956-551e069e686e",
   "metadata": {
    "tags": []
   },
   "outputs": [
    {
     "name": "stdout",
     "output_type": "stream",
     "text": [
      "Runtime: 3121.7435\n",
      "\n"
     ]
    },
    {
     "data": {
      "text/html": [
       "<div>\n",
       "<style scoped>\n",
       "    .dataframe tbody tr th:only-of-type {\n",
       "        vertical-align: middle;\n",
       "    }\n",
       "\n",
       "    .dataframe tbody tr th {\n",
       "        vertical-align: top;\n",
       "    }\n",
       "\n",
       "    .dataframe thead th {\n",
       "        text-align: right;\n",
       "    }\n",
       "</style>\n",
       "<table border=\"1\" class=\"dataframe\">\n",
       "  <thead>\n",
       "    <tr style=\"text-align: right;\">\n",
       "      <th></th>\n",
       "      <th>video_neg</th>\n",
       "      <th>video_neu</th>\n",
       "      <th>video_pos</th>\n",
       "      <th>video_compound</th>\n",
       "    </tr>\n",
       "  </thead>\n",
       "  <tbody>\n",
       "    <tr>\n",
       "      <th>0</th>\n",
       "      <td>0.129</td>\n",
       "      <td>0.733</td>\n",
       "      <td>0.137</td>\n",
       "      <td>0.9915</td>\n",
       "    </tr>\n",
       "    <tr>\n",
       "      <th>1</th>\n",
       "      <td>0.136</td>\n",
       "      <td>0.684</td>\n",
       "      <td>0.180</td>\n",
       "      <td>0.9976</td>\n",
       "    </tr>\n",
       "    <tr>\n",
       "      <th>2</th>\n",
       "      <td>0.101</td>\n",
       "      <td>0.673</td>\n",
       "      <td>0.226</td>\n",
       "      <td>0.9997</td>\n",
       "    </tr>\n",
       "    <tr>\n",
       "      <th>3</th>\n",
       "      <td>0.107</td>\n",
       "      <td>0.717</td>\n",
       "      <td>0.176</td>\n",
       "      <td>1.0000</td>\n",
       "    </tr>\n",
       "    <tr>\n",
       "      <th>4</th>\n",
       "      <td>0.104</td>\n",
       "      <td>0.720</td>\n",
       "      <td>0.176</td>\n",
       "      <td>1.0000</td>\n",
       "    </tr>\n",
       "  </tbody>\n",
       "</table>\n",
       "</div>"
      ],
      "text/plain": [
       "   video_neg  video_neu  video_pos  video_compound\n",
       "0      0.129      0.733      0.137          0.9915\n",
       "1      0.136      0.684      0.180          0.9976\n",
       "2      0.101      0.673      0.226          0.9997\n",
       "3      0.107      0.717      0.176          1.0000\n",
       "4      0.104      0.720      0.176          1.0000"
      ]
     },
     "execution_count": 74,
     "metadata": {},
     "output_type": "execute_result"
    }
   ],
   "source": [
    "# Start timing\n",
    "start_time = time.time()\n",
    "\n",
    "# Compute VADER sentiment scores for each subtitle\n",
    "video_vader_scores = \\\n",
    "    subtitles_filtered.apply(lambda x: vader_sentiment(x, \"video_\")).apply(pd.Series)\n",
    "\n",
    "# End timing\n",
    "print(f\"Runtime: {time.time() - start_time:.4f}\\n\")\n",
    "video_vader_scores.head()"
   ]
  },
  {
   "cell_type": "code",
   "execution_count": 75,
   "id": "e172b19b-c2a9-41c0-b2ba-175b0d0788fe",
   "metadata": {
    "tags": []
   },
   "outputs": [
    {
     "data": {
      "text/html": [
       "<div>\n",
       "<style scoped>\n",
       "    .dataframe tbody tr th:only-of-type {\n",
       "        vertical-align: middle;\n",
       "    }\n",
       "\n",
       "    .dataframe tbody tr th {\n",
       "        vertical-align: top;\n",
       "    }\n",
       "\n",
       "    .dataframe thead th {\n",
       "        text-align: right;\n",
       "    }\n",
       "</style>\n",
       "<table border=\"1\" class=\"dataframe\">\n",
       "  <thead>\n",
       "    <tr style=\"text-align: right;\">\n",
       "      <th></th>\n",
       "      <th>video_polarity</th>\n",
       "      <th>video_subjectivity</th>\n",
       "    </tr>\n",
       "  </thead>\n",
       "  <tbody>\n",
       "    <tr>\n",
       "      <th>0</th>\n",
       "      <td>0.082446</td>\n",
       "      <td>0.497534</td>\n",
       "    </tr>\n",
       "    <tr>\n",
       "      <th>1</th>\n",
       "      <td>0.150232</td>\n",
       "      <td>0.576019</td>\n",
       "    </tr>\n",
       "    <tr>\n",
       "      <th>2</th>\n",
       "      <td>0.093443</td>\n",
       "      <td>0.562179</td>\n",
       "    </tr>\n",
       "    <tr>\n",
       "      <th>3</th>\n",
       "      <td>0.148292</td>\n",
       "      <td>0.519329</td>\n",
       "    </tr>\n",
       "    <tr>\n",
       "      <th>4</th>\n",
       "      <td>0.137500</td>\n",
       "      <td>0.509030</td>\n",
       "    </tr>\n",
       "  </tbody>\n",
       "</table>\n",
       "</div>"
      ],
      "text/plain": [
       "   video_polarity  video_subjectivity\n",
       "0        0.082446            0.497534\n",
       "1        0.150232            0.576019\n",
       "2        0.093443            0.562179\n",
       "3        0.148292            0.519329\n",
       "4        0.137500            0.509030"
      ]
     },
     "execution_count": 75,
     "metadata": {},
     "output_type": "execute_result"
    }
   ],
   "source": [
    "# Compute TextBlob sentiment scores for each subtitle\n",
    "video_textblob_scores = \\\n",
    "    subtitles_cleaned.apply(lambda x: textblob_sentiment(x, \"video_\")).apply(pd.Series)\n",
    "video_textblob_scores.head()"
   ]
  },
  {
   "cell_type": "code",
   "execution_count": 76,
   "id": "1962a18d-49ca-46f8-a3c6-1011f0da2311",
   "metadata": {
    "tags": []
   },
   "outputs": [
    {
     "name": "stdout",
     "output_type": "stream",
     "text": [
      "Runtime: 17.3947\n",
      "\n"
     ]
    },
    {
     "data": {
      "text/html": [
       "<div>\n",
       "<style scoped>\n",
       "    .dataframe tbody tr th:only-of-type {\n",
       "        vertical-align: middle;\n",
       "    }\n",
       "\n",
       "    .dataframe tbody tr th {\n",
       "        vertical-align: top;\n",
       "    }\n",
       "\n",
       "    .dataframe thead th {\n",
       "        text-align: right;\n",
       "    }\n",
       "</style>\n",
       "<table border=\"1\" class=\"dataframe\">\n",
       "  <thead>\n",
       "    <tr style=\"text-align: right;\">\n",
       "      <th></th>\n",
       "      <th>video_help</th>\n",
       "      <th>video_office</th>\n",
       "      <th>video_dance</th>\n",
       "      <th>video_money</th>\n",
       "      <th>video_wedding</th>\n",
       "      <th>video_domestic_work</th>\n",
       "      <th>video_sleep</th>\n",
       "      <th>video_medical_emergency</th>\n",
       "      <th>video_cold</th>\n",
       "      <th>video_hate</th>\n",
       "      <th>...</th>\n",
       "      <th>video_weapon</th>\n",
       "      <th>video_children</th>\n",
       "      <th>video_monster</th>\n",
       "      <th>video_ocean</th>\n",
       "      <th>video_giving</th>\n",
       "      <th>video_contentment</th>\n",
       "      <th>video_writing</th>\n",
       "      <th>video_rural</th>\n",
       "      <th>video_positive_emotion</th>\n",
       "      <th>video_musical</th>\n",
       "    </tr>\n",
       "  </thead>\n",
       "  <tbody>\n",
       "    <tr>\n",
       "      <th>0</th>\n",
       "      <td>0.003275</td>\n",
       "      <td>0.003527</td>\n",
       "      <td>0.004787</td>\n",
       "      <td>0.004031</td>\n",
       "      <td>0.004031</td>\n",
       "      <td>0.001260</td>\n",
       "      <td>0.003023</td>\n",
       "      <td>0.010078</td>\n",
       "      <td>0.005543</td>\n",
       "      <td>0.011086</td>\n",
       "      <td>...</td>\n",
       "      <td>0.019148</td>\n",
       "      <td>0.013102</td>\n",
       "      <td>0.002771</td>\n",
       "      <td>0.000756</td>\n",
       "      <td>0.009070</td>\n",
       "      <td>0.001512</td>\n",
       "      <td>0.001260</td>\n",
       "      <td>0.001764</td>\n",
       "      <td>0.017889</td>\n",
       "      <td>0.005291</td>\n",
       "    </tr>\n",
       "    <tr>\n",
       "      <th>1</th>\n",
       "      <td>0.002491</td>\n",
       "      <td>0.002491</td>\n",
       "      <td>0.004981</td>\n",
       "      <td>0.003736</td>\n",
       "      <td>0.004981</td>\n",
       "      <td>0.000000</td>\n",
       "      <td>0.003736</td>\n",
       "      <td>0.004981</td>\n",
       "      <td>0.009963</td>\n",
       "      <td>0.003736</td>\n",
       "      <td>...</td>\n",
       "      <td>0.012453</td>\n",
       "      <td>0.022416</td>\n",
       "      <td>0.002491</td>\n",
       "      <td>0.012453</td>\n",
       "      <td>0.008717</td>\n",
       "      <td>0.000000</td>\n",
       "      <td>0.001245</td>\n",
       "      <td>0.002491</td>\n",
       "      <td>0.022416</td>\n",
       "      <td>0.007472</td>\n",
       "    </tr>\n",
       "    <tr>\n",
       "      <th>2</th>\n",
       "      <td>0.000000</td>\n",
       "      <td>0.001508</td>\n",
       "      <td>0.004525</td>\n",
       "      <td>0.007541</td>\n",
       "      <td>0.000000</td>\n",
       "      <td>0.001508</td>\n",
       "      <td>0.000000</td>\n",
       "      <td>0.001508</td>\n",
       "      <td>0.001508</td>\n",
       "      <td>0.019608</td>\n",
       "      <td>...</td>\n",
       "      <td>0.003017</td>\n",
       "      <td>0.009050</td>\n",
       "      <td>0.004525</td>\n",
       "      <td>0.003017</td>\n",
       "      <td>0.004525</td>\n",
       "      <td>0.001508</td>\n",
       "      <td>0.001508</td>\n",
       "      <td>0.000000</td>\n",
       "      <td>0.010558</td>\n",
       "      <td>0.013575</td>\n",
       "    </tr>\n",
       "    <tr>\n",
       "      <th>3</th>\n",
       "      <td>0.002962</td>\n",
       "      <td>0.002962</td>\n",
       "      <td>0.007775</td>\n",
       "      <td>0.005739</td>\n",
       "      <td>0.004628</td>\n",
       "      <td>0.003517</td>\n",
       "      <td>0.002592</td>\n",
       "      <td>0.003147</td>\n",
       "      <td>0.008886</td>\n",
       "      <td>0.005924</td>\n",
       "      <td>...</td>\n",
       "      <td>0.015550</td>\n",
       "      <td>0.019067</td>\n",
       "      <td>0.001851</td>\n",
       "      <td>0.003517</td>\n",
       "      <td>0.016290</td>\n",
       "      <td>0.001851</td>\n",
       "      <td>0.000555</td>\n",
       "      <td>0.003702</td>\n",
       "      <td>0.015180</td>\n",
       "      <td>0.010552</td>\n",
       "    </tr>\n",
       "    <tr>\n",
       "      <th>4</th>\n",
       "      <td>0.002365</td>\n",
       "      <td>0.002150</td>\n",
       "      <td>0.007739</td>\n",
       "      <td>0.010963</td>\n",
       "      <td>0.003439</td>\n",
       "      <td>0.003224</td>\n",
       "      <td>0.002580</td>\n",
       "      <td>0.002580</td>\n",
       "      <td>0.006234</td>\n",
       "      <td>0.008169</td>\n",
       "      <td>...</td>\n",
       "      <td>0.026225</td>\n",
       "      <td>0.013328</td>\n",
       "      <td>0.003869</td>\n",
       "      <td>0.017627</td>\n",
       "      <td>0.018487</td>\n",
       "      <td>0.001290</td>\n",
       "      <td>0.001075</td>\n",
       "      <td>0.002150</td>\n",
       "      <td>0.011608</td>\n",
       "      <td>0.007954</td>\n",
       "    </tr>\n",
       "  </tbody>\n",
       "</table>\n",
       "<p>5 rows × 194 columns</p>\n",
       "</div>"
      ],
      "text/plain": [
       "   video_help  video_office  video_dance  video_money  video_wedding  \\\n",
       "0    0.003275      0.003527     0.004787     0.004031       0.004031   \n",
       "1    0.002491      0.002491     0.004981     0.003736       0.004981   \n",
       "2    0.000000      0.001508     0.004525     0.007541       0.000000   \n",
       "3    0.002962      0.002962     0.007775     0.005739       0.004628   \n",
       "4    0.002365      0.002150     0.007739     0.010963       0.003439   \n",
       "\n",
       "   video_domestic_work  video_sleep  video_medical_emergency  video_cold  \\\n",
       "0             0.001260     0.003023                 0.010078    0.005543   \n",
       "1             0.000000     0.003736                 0.004981    0.009963   \n",
       "2             0.001508     0.000000                 0.001508    0.001508   \n",
       "3             0.003517     0.002592                 0.003147    0.008886   \n",
       "4             0.003224     0.002580                 0.002580    0.006234   \n",
       "\n",
       "   video_hate  ...  video_weapon  video_children  video_monster  video_ocean  \\\n",
       "0    0.011086  ...      0.019148        0.013102       0.002771     0.000756   \n",
       "1    0.003736  ...      0.012453        0.022416       0.002491     0.012453   \n",
       "2    0.019608  ...      0.003017        0.009050       0.004525     0.003017   \n",
       "3    0.005924  ...      0.015550        0.019067       0.001851     0.003517   \n",
       "4    0.008169  ...      0.026225        0.013328       0.003869     0.017627   \n",
       "\n",
       "   video_giving  video_contentment  video_writing  video_rural  \\\n",
       "0      0.009070           0.001512       0.001260     0.001764   \n",
       "1      0.008717           0.000000       0.001245     0.002491   \n",
       "2      0.004525           0.001508       0.001508     0.000000   \n",
       "3      0.016290           0.001851       0.000555     0.003702   \n",
       "4      0.018487           0.001290       0.001075     0.002150   \n",
       "\n",
       "   video_positive_emotion  video_musical  \n",
       "0                0.017889       0.005291  \n",
       "1                0.022416       0.007472  \n",
       "2                0.010558       0.013575  \n",
       "3                0.015180       0.010552  \n",
       "4                0.011608       0.007954  \n",
       "\n",
       "[5 rows x 194 columns]"
      ]
     },
     "execution_count": 76,
     "metadata": {},
     "output_type": "execute_result"
    }
   ],
   "source": [
    "# Start timing\n",
    "start_time = time.time()\n",
    "\n",
    "# Compute Empath sentiment scores for each subtitle\n",
    "video_empath_scores = \\\n",
    "    subtitles_cleaned.apply(lambda x: empath_sentiment(x, \"video_\")).apply(pd.Series)\n",
    "\n",
    "# End timing\n",
    "print(f\"Runtime: {time.time() - start_time:.4f}\\n\")\n",
    "video_empath_scores.head()"
   ]
  },
  {
   "cell_type": "code",
   "execution_count": 77,
   "id": "06a9d2b2-94e1-4dfd-afbd-9e4d2bbc339a",
   "metadata": {
    "tags": []
   },
   "outputs": [
    {
     "data": {
      "text/html": [
       "<div>\n",
       "<style scoped>\n",
       "    .dataframe tbody tr th:only-of-type {\n",
       "        vertical-align: middle;\n",
       "    }\n",
       "\n",
       "    .dataframe tbody tr th {\n",
       "        vertical-align: top;\n",
       "    }\n",
       "\n",
       "    .dataframe thead th {\n",
       "        text-align: right;\n",
       "    }\n",
       "</style>\n",
       "<table border=\"1\" class=\"dataframe\">\n",
       "  <thead>\n",
       "    <tr style=\"text-align: right;\">\n",
       "      <th></th>\n",
       "      <th>channel_id</th>\n",
       "      <th>video_id</th>\n",
       "      <th>video_title</th>\n",
       "      <th>video_creation_time</th>\n",
       "      <th>video_description</th>\n",
       "      <th>video_duration</th>\n",
       "      <th>video_tags</th>\n",
       "      <th>video_viewcount</th>\n",
       "      <th>video_likecount</th>\n",
       "      <th>video_commentcount</th>\n",
       "      <th>...</th>\n",
       "      <th>video_weapon</th>\n",
       "      <th>video_children</th>\n",
       "      <th>video_monster</th>\n",
       "      <th>video_ocean</th>\n",
       "      <th>video_giving</th>\n",
       "      <th>video_contentment</th>\n",
       "      <th>video_writing</th>\n",
       "      <th>video_rural</th>\n",
       "      <th>video_positive_emotion</th>\n",
       "      <th>video_musical</th>\n",
       "    </tr>\n",
       "  </thead>\n",
       "  <tbody>\n",
       "    <tr>\n",
       "      <th>0</th>\n",
       "      <td>UC-lHJZR3Gqxm24_Vd_AJ5Yw</td>\n",
       "      <td>F-yEoHL7MYY</td>\n",
       "      <td>I t̶r̶i̶e̶d̶ ̶t̶o̶ beat Elden Ring Without Dyi...</td>\n",
       "      <td>2022-04-30 16:40:18+00:00</td>\n",
       "      <td>🌏 Get exclusive NordVPN deal here ➵  https://N...</td>\n",
       "      <td>3227.0</td>\n",
       "      <td>['pewdiepie', 'pewds', 'pewdie']</td>\n",
       "      <td>11590164</td>\n",
       "      <td>474052</td>\n",
       "      <td>15146.0</td>\n",
       "      <td>...</td>\n",
       "      <td>0.019148</td>\n",
       "      <td>0.013102</td>\n",
       "      <td>0.002771</td>\n",
       "      <td>0.000756</td>\n",
       "      <td>0.009070</td>\n",
       "      <td>0.001512</td>\n",
       "      <td>0.001260</td>\n",
       "      <td>0.001764</td>\n",
       "      <td>0.017889</td>\n",
       "      <td>0.005291</td>\n",
       "    </tr>\n",
       "    <tr>\n",
       "      <th>1</th>\n",
       "      <td>UC-lHJZR3Gqxm24_Vd_AJ5Yw</td>\n",
       "      <td>PV4NGwn_xdI</td>\n",
       "      <td>Elden Ring #1 - 0 DEATH PLAYTHROUGH</td>\n",
       "      <td>2022-02-24 15:00:10+00:00</td>\n",
       "      <td>NEW animated wallpapers on GX 👇👇👇\\nhttps://ope...</td>\n",
       "      <td>818.0</td>\n",
       "      <td>['pewdiepie', 'pewds', 'pewdie', 'elden ring',...</td>\n",
       "      <td>5179366</td>\n",
       "      <td>192101</td>\n",
       "      <td>4313.0</td>\n",
       "      <td>...</td>\n",
       "      <td>0.012453</td>\n",
       "      <td>0.022416</td>\n",
       "      <td>0.002491</td>\n",
       "      <td>0.012453</td>\n",
       "      <td>0.008717</td>\n",
       "      <td>0.000000</td>\n",
       "      <td>0.001245</td>\n",
       "      <td>0.002491</td>\n",
       "      <td>0.022416</td>\n",
       "      <td>0.007472</td>\n",
       "    </tr>\n",
       "    <tr>\n",
       "      <th>2</th>\n",
       "      <td>UC-lHJZR3Gqxm24_Vd_AJ5Yw</td>\n",
       "      <td>CF3jK8ai0l4</td>\n",
       "      <td>New GTA Definitive Edition is hilariously bad</td>\n",
       "      <td>2021-11-19 17:15:01+00:00</td>\n",
       "      <td>Grand Theft Auto: The Trilogy is not epic bros...</td>\n",
       "      <td>570.0</td>\n",
       "      <td>['pewdiepie', 'pewds', 'pewdie', 'Grand Theft ...</td>\n",
       "      <td>4053858</td>\n",
       "      <td>282853</td>\n",
       "      <td>9073.0</td>\n",
       "      <td>...</td>\n",
       "      <td>0.003017</td>\n",
       "      <td>0.009050</td>\n",
       "      <td>0.004525</td>\n",
       "      <td>0.003017</td>\n",
       "      <td>0.004525</td>\n",
       "      <td>0.001508</td>\n",
       "      <td>0.001508</td>\n",
       "      <td>0.000000</td>\n",
       "      <td>0.010558</td>\n",
       "      <td>0.013575</td>\n",
       "    </tr>\n",
       "  </tbody>\n",
       "</table>\n",
       "<p>3 rows × 229 columns</p>\n",
       "</div>"
      ],
      "text/plain": [
       "                 channel_id     video_id  \\\n",
       "0  UC-lHJZR3Gqxm24_Vd_AJ5Yw  F-yEoHL7MYY   \n",
       "1  UC-lHJZR3Gqxm24_Vd_AJ5Yw  PV4NGwn_xdI   \n",
       "2  UC-lHJZR3Gqxm24_Vd_AJ5Yw  CF3jK8ai0l4   \n",
       "\n",
       "                                         video_title  \\\n",
       "0  I t̶r̶i̶e̶d̶ ̶t̶o̶ beat Elden Ring Without Dyi...   \n",
       "1                Elden Ring #1 - 0 DEATH PLAYTHROUGH   \n",
       "2      New GTA Definitive Edition is hilariously bad   \n",
       "\n",
       "        video_creation_time  \\\n",
       "0 2022-04-30 16:40:18+00:00   \n",
       "1 2022-02-24 15:00:10+00:00   \n",
       "2 2021-11-19 17:15:01+00:00   \n",
       "\n",
       "                                   video_description  video_duration  \\\n",
       "0  🌏 Get exclusive NordVPN deal here ➵  https://N...          3227.0   \n",
       "1  NEW animated wallpapers on GX 👇👇👇\\nhttps://ope...           818.0   \n",
       "2  Grand Theft Auto: The Trilogy is not epic bros...           570.0   \n",
       "\n",
       "                                          video_tags  video_viewcount  \\\n",
       "0                   ['pewdiepie', 'pewds', 'pewdie']         11590164   \n",
       "1  ['pewdiepie', 'pewds', 'pewdie', 'elden ring',...          5179366   \n",
       "2  ['pewdiepie', 'pewds', 'pewdie', 'Grand Theft ...          4053858   \n",
       "\n",
       "   video_likecount  video_commentcount  ... video_weapon video_children  \\\n",
       "0           474052             15146.0  ...     0.019148       0.013102   \n",
       "1           192101              4313.0  ...     0.012453       0.022416   \n",
       "2           282853              9073.0  ...     0.003017       0.009050   \n",
       "\n",
       "   video_monster video_ocean video_giving  video_contentment  video_writing  \\\n",
       "0       0.002771    0.000756     0.009070           0.001512       0.001260   \n",
       "1       0.002491    0.012453     0.008717           0.000000       0.001245   \n",
       "2       0.004525    0.003017     0.004525           0.001508       0.001508   \n",
       "\n",
       "   video_rural  video_positive_emotion  video_musical  \n",
       "0     0.001764                0.017889       0.005291  \n",
       "1     0.002491                0.022416       0.007472  \n",
       "2     0.000000                0.010558       0.013575  \n",
       "\n",
       "[3 rows x 229 columns]"
      ]
     },
     "execution_count": 77,
     "metadata": {},
     "output_type": "execute_result"
    }
   ],
   "source": [
    "# Combine into one DataFrame\n",
    "video = pd.concat([video, video_vader_scores, \n",
    "                   video_textblob_scores, \n",
    "                   video_empath_scores], axis=1)\n",
    "video.head(3)"
   ]
  },
  {
   "cell_type": "code",
   "execution_count": 78,
   "id": "7496edc9-b26b-4e3f-b67e-71e281095267",
   "metadata": {
    "tags": []
   },
   "outputs": [
    {
     "data": {
      "text/plain": [
       "(1307, 229)"
      ]
     },
     "execution_count": 78,
     "metadata": {},
     "output_type": "execute_result"
    }
   ],
   "source": [
    "# Check the dimensions\n",
    "video.shape"
   ]
  },
  {
   "cell_type": "code",
   "execution_count": 79,
   "id": "e69cc16c-3be5-40d4-a690-b5b2675b7887",
   "metadata": {
    "tags": []
   },
   "outputs": [],
   "source": [
    "# Write to CSV\n",
    "video.to_csv(\"../data/video-labeled.csv\", index=False)"
   ]
  },
  {
   "cell_type": "markdown",
   "id": "a1f44e00-1350-4f7a-87f8-50c50dc94eae",
   "metadata": {},
   "source": [
    "  "
   ]
  },
  {
   "cell_type": "markdown",
   "id": "039ba8fe-67d5-493a-8dbb-e7515a03faa9",
   "metadata": {
    "tags": []
   },
   "source": [
    "#### All YouTube Data"
   ]
  },
  {
   "cell_type": "code",
   "execution_count": 80,
   "id": "137ded96-613b-4e28-b6dd-c0bcb7d9bf31",
   "metadata": {},
   "outputs": [
    {
     "data": {
      "text/html": [
       "<div>\n",
       "<style scoped>\n",
       "    .dataframe tbody tr th:only-of-type {\n",
       "        vertical-align: middle;\n",
       "    }\n",
       "\n",
       "    .dataframe tbody tr th {\n",
       "        vertical-align: top;\n",
       "    }\n",
       "\n",
       "    .dataframe thead th {\n",
       "        text-align: right;\n",
       "    }\n",
       "</style>\n",
       "<table border=\"1\" class=\"dataframe\">\n",
       "  <thead>\n",
       "    <tr style=\"text-align: right;\">\n",
       "      <th></th>\n",
       "      <th>channel_id</th>\n",
       "      <th>channel_name</th>\n",
       "      <th>channel_description</th>\n",
       "      <th>channel_country</th>\n",
       "      <th>channel_uploads_id</th>\n",
       "      <th>channel_viewcount</th>\n",
       "      <th>channel_subscribercount</th>\n",
       "      <th>channel_videocount</th>\n",
       "      <th>video_id</th>\n",
       "      <th>video_title</th>\n",
       "      <th>...</th>\n",
       "      <th>comment_weapon</th>\n",
       "      <th>comment_children</th>\n",
       "      <th>comment_monster</th>\n",
       "      <th>comment_ocean</th>\n",
       "      <th>comment_giving</th>\n",
       "      <th>comment_contentment</th>\n",
       "      <th>comment_writing</th>\n",
       "      <th>comment_rural</th>\n",
       "      <th>comment_positive_emotion</th>\n",
       "      <th>comment_musical</th>\n",
       "    </tr>\n",
       "  </thead>\n",
       "  <tbody>\n",
       "    <tr>\n",
       "      <th>0</th>\n",
       "      <td>UC-lHJZR3Gqxm24_Vd_AJ5Yw</td>\n",
       "      <td>PewDiePie</td>\n",
       "      <td>I make videos.</td>\n",
       "      <td>JP</td>\n",
       "      <td>UU-lHJZR3Gqxm24_Vd_AJ5Yw</td>\n",
       "      <td>29238461440</td>\n",
       "      <td>111000000</td>\n",
       "      <td>4753</td>\n",
       "      <td>F-yEoHL7MYY</td>\n",
       "      <td>I t̶r̶i̶e̶d̶ ̶t̶o̶ beat Elden Ring Without Dyi...</td>\n",
       "      <td>...</td>\n",
       "      <td>0.0</td>\n",
       "      <td>0.0</td>\n",
       "      <td>0.0</td>\n",
       "      <td>0.0</td>\n",
       "      <td>0.0</td>\n",
       "      <td>0.0</td>\n",
       "      <td>0.0</td>\n",
       "      <td>0.0</td>\n",
       "      <td>0.0</td>\n",
       "      <td>0.0</td>\n",
       "    </tr>\n",
       "    <tr>\n",
       "      <th>1</th>\n",
       "      <td>UC-lHJZR3Gqxm24_Vd_AJ5Yw</td>\n",
       "      <td>PewDiePie</td>\n",
       "      <td>I make videos.</td>\n",
       "      <td>JP</td>\n",
       "      <td>UU-lHJZR3Gqxm24_Vd_AJ5Yw</td>\n",
       "      <td>29238461440</td>\n",
       "      <td>111000000</td>\n",
       "      <td>4753</td>\n",
       "      <td>F-yEoHL7MYY</td>\n",
       "      <td>I t̶r̶i̶e̶d̶ ̶t̶o̶ beat Elden Ring Without Dyi...</td>\n",
       "      <td>...</td>\n",
       "      <td>0.0</td>\n",
       "      <td>0.0</td>\n",
       "      <td>0.0</td>\n",
       "      <td>0.0</td>\n",
       "      <td>0.0</td>\n",
       "      <td>0.1</td>\n",
       "      <td>0.0</td>\n",
       "      <td>0.0</td>\n",
       "      <td>0.1</td>\n",
       "      <td>0.0</td>\n",
       "    </tr>\n",
       "    <tr>\n",
       "      <th>2</th>\n",
       "      <td>UC-lHJZR3Gqxm24_Vd_AJ5Yw</td>\n",
       "      <td>PewDiePie</td>\n",
       "      <td>I make videos.</td>\n",
       "      <td>JP</td>\n",
       "      <td>UU-lHJZR3Gqxm24_Vd_AJ5Yw</td>\n",
       "      <td>29238461440</td>\n",
       "      <td>111000000</td>\n",
       "      <td>4753</td>\n",
       "      <td>F-yEoHL7MYY</td>\n",
       "      <td>I t̶r̶i̶e̶d̶ ̶t̶o̶ beat Elden Ring Without Dyi...</td>\n",
       "      <td>...</td>\n",
       "      <td>0.0</td>\n",
       "      <td>0.0</td>\n",
       "      <td>0.0</td>\n",
       "      <td>0.0</td>\n",
       "      <td>0.0</td>\n",
       "      <td>0.0</td>\n",
       "      <td>0.0</td>\n",
       "      <td>0.0</td>\n",
       "      <td>0.0</td>\n",
       "      <td>0.0</td>\n",
       "    </tr>\n",
       "  </tbody>\n",
       "</table>\n",
       "<p>3 rows × 448 columns</p>\n",
       "</div>"
      ],
      "text/plain": [
       "                 channel_id channel_name channel_description channel_country  \\\n",
       "0  UC-lHJZR3Gqxm24_Vd_AJ5Yw    PewDiePie      I make videos.              JP   \n",
       "1  UC-lHJZR3Gqxm24_Vd_AJ5Yw    PewDiePie      I make videos.              JP   \n",
       "2  UC-lHJZR3Gqxm24_Vd_AJ5Yw    PewDiePie      I make videos.              JP   \n",
       "\n",
       "         channel_uploads_id  channel_viewcount  channel_subscribercount  \\\n",
       "0  UU-lHJZR3Gqxm24_Vd_AJ5Yw        29238461440                111000000   \n",
       "1  UU-lHJZR3Gqxm24_Vd_AJ5Yw        29238461440                111000000   \n",
       "2  UU-lHJZR3Gqxm24_Vd_AJ5Yw        29238461440                111000000   \n",
       "\n",
       "   channel_videocount     video_id  \\\n",
       "0                4753  F-yEoHL7MYY   \n",
       "1                4753  F-yEoHL7MYY   \n",
       "2                4753  F-yEoHL7MYY   \n",
       "\n",
       "                                         video_title  ... comment_weapon  \\\n",
       "0  I t̶r̶i̶e̶d̶ ̶t̶o̶ beat Elden Ring Without Dyi...  ...            0.0   \n",
       "1  I t̶r̶i̶e̶d̶ ̶t̶o̶ beat Elden Ring Without Dyi...  ...            0.0   \n",
       "2  I t̶r̶i̶e̶d̶ ̶t̶o̶ beat Elden Ring Without Dyi...  ...            0.0   \n",
       "\n",
       "  comment_children  comment_monster comment_ocean  comment_giving  \\\n",
       "0              0.0              0.0           0.0             0.0   \n",
       "1              0.0              0.0           0.0             0.0   \n",
       "2              0.0              0.0           0.0             0.0   \n",
       "\n",
       "   comment_contentment  comment_writing comment_rural  \\\n",
       "0                  0.0              0.0           0.0   \n",
       "1                  0.1              0.0           0.0   \n",
       "2                  0.0              0.0           0.0   \n",
       "\n",
       "   comment_positive_emotion comment_musical  \n",
       "0                       0.0             0.0  \n",
       "1                       0.1             0.0  \n",
       "2                       0.0             0.0  \n",
       "\n",
       "[3 rows x 448 columns]"
      ]
     },
     "execution_count": 80,
     "metadata": {},
     "output_type": "execute_result"
    }
   ],
   "source": [
    "# Merge channel, video, and comments information\n",
    "channel_videos = pd.merge(\n",
    "    channel, \n",
    "    video.drop(columns=[\n",
    "        \"video_subtitle\", \"video_subtitle_filtered\", \n",
    "        \"video_subtitle_cleaned\", \"video_subtitle_tokenized\"\n",
    "    ]),       \n",
    "    on=\"channel_id\", \n",
    "    how=\"left\"\n",
    ")\n",
    "yt = pd.merge(channel_videos, comment, on=\"video_id\", how=\"inner\")\n",
    "yt.head(3)"
   ]
  },
  {
   "cell_type": "code",
   "execution_count": 81,
   "id": "51d149e1-91bc-47a0-a548-befec9791133",
   "metadata": {},
   "outputs": [
    {
     "data": {
      "text/plain": [
       "(124704, 448)"
      ]
     },
     "execution_count": 81,
     "metadata": {},
     "output_type": "execute_result"
    }
   ],
   "source": [
    "# Check the dimensions\n",
    "yt.shape"
   ]
  },
  {
   "cell_type": "code",
   "execution_count": 82,
   "id": "478124bd-6fda-45e9-bdb4-4d44e518cb7d",
   "metadata": {},
   "outputs": [],
   "source": [
    "# Write to CSV\n",
    "yt.to_csv(\"../data/yt-labeled.csv\", index=False, lineterminator=\"\\r\\n\")"
   ]
  },
  {
   "cell_type": "markdown",
   "id": "48462fee-03dd-4282-b9cb-621e5d62b4dd",
   "metadata": {},
   "source": [
    "_The final labeled dataset contains **124,704 rows** and **448 columns**.  In `03-preliminary analysis`, we will begin to explore the dataset, examining its **distribution** through **exploratory data analysis** and **visualizations**._   "
   ]
  }
 ],
 "metadata": {
  "kernelspec": {
   "display_name": "Python 3 (ipykernel)",
   "language": "python",
   "name": "python3"
  },
  "language_info": {
   "codemirror_mode": {
    "name": "ipython",
    "version": 3
   },
   "file_extension": ".py",
   "mimetype": "text/x-python",
   "name": "python",
   "nbconvert_exporter": "python",
   "pygments_lexer": "ipython3",
   "version": "3.10.13"
  }
 },
 "nbformat": 4,
 "nbformat_minor": 5
}
